{
 "cells": [
  {
   "cell_type": "markdown",
   "metadata": {},
   "source": [
    "<div style=\"width:100%;height:atuo;text-align:center;border: 4px solid black;background-color:#FF8000;color:white;border-radius: 25px\">\n",
    "<div style=\"box-shadow: 0 14px 18px 0 #00264D, 0 6px 20px 0 rgba(0, 0, 0, 0.19);border-radius:4px 4px 4px 4px;padding:0.3%;margin:19px;background-image: url(https://www.tensorflow.org/images/tf_logo_social.png);background-repeat: no-repeat;background-size: 324px\"> \n",
    "<header style=\"width:100%;height:auto;\">\n",
    "  <font size=\"23px\"><b> Chapter 005</b></font>\n",
    "    <h2> Tensorflow_tutorial </h2>\n",
    "    <h4>  </h4>\n",
    "</header>\n",
    "\n",
    "<div><div> "
   ]
  },
  {
   "cell_type": "code",
   "execution_count": null,
   "metadata": {},
   "outputs": [],
   "source": []
  },
  {
   "cell_type": "markdown",
   "metadata": {},
   "source": [
    "<div style='border: 4px solid #FF8000;padding:9px;'>\n",
    "<div style=\"box-shadow: 0 7px 8px 0 #00264D, 0 6px 20px 0 rgba(0, 0, 0, 0.19);padding:1%;margin:6px;border-radius: 25px\"> \n",
    "By: Farhad Shadmand \n",
    "    \n",
    "https://github.com/farhadsh1992\n",
    "    \n",
    "</div></div>"
   ]
  },
  {
   "cell_type": "markdown",
   "metadata": {},
   "source": [
    "<div style=\"border: 4px solid #4D0033;background-color:#BFE6FF;color:black;border-radius: 5px;padding:7px\">\n",
    "  <strong> Refrence: </strong><br>\n",
    "        \n",
    "        \n",
    "</div>"
   ]
  },
  {
   "cell_type": "code",
   "execution_count": null,
   "metadata": {},
   "outputs": [],
   "source": []
  },
  {
   "cell_type": "markdown",
   "metadata": {},
   "source": [
    "<div style=\"border: 4px solid #4D0033;background-color:#CC8800;color:black;border-radius: 5px;padding:7px;color:white;\">\n",
    "  <strong> Summary: </strong><br>\n",
    "        \n",
    "        \n",
    "</div>"
   ]
  },
  {
   "cell_type": "code",
   "execution_count": null,
   "metadata": {},
   "outputs": [],
   "source": []
  },
  {
   "cell_type": "markdown",
   "metadata": {},
   "source": [
    "<div style=\"width:25%;height:30px;border: 4px solid black;background-color:#990000;color:white;text-align:center;border-radius:0px 25px 25px 0px;padding:3px\">\n",
    "    <h5> contents-Paper:  </h5>\n",
    "</div>\n",
    "\n"
   ]
  },
  {
   "cell_type": "markdown",
   "metadata": {},
   "source": [
    "<div style=\"text-align:center;height:45px\">\n",
    "<div style=\"width:49%;height:30px;position:absolute;left:0 ;border: 4px solid black;background-color:#FF8000;color:black;text-align:center;border-radius:25px 25px 25px 25px;padding:3px\">\n",
    "    <h6><a href=\"#\" style=\"position: relative;padding:5px;color:white;text-align: center;\">  </a></h6>\n",
    "</div>\n",
    "<div style=\"width:49%;height:30px;position:absolute;left:50% ;border: 4px solid black;background-color:#FF8000;color:black;text-align:center;border-radius:25px 25px 25px 25px;padding:3px\">\n",
    "    <h6><a href=\"#\" style=\"position: relative;padding:5px;color:white;text-align: center;\">   </a></h6>\n",
    "</div>\n",
    "</div>"
   ]
  },
  {
   "cell_type": "code",
   "execution_count": null,
   "metadata": {},
   "outputs": [],
   "source": []
  },
  {
   "cell_type": "markdown",
   "metadata": {},
   "source": [
    "<div id=\"\"  style=\"height:43px\">\n",
    "<div style=\"position:absolute;width:98%;height:28px;border: 4px solid black;background-color:black;color:white;text-align:center;border-radius:0px 0px 0px 0px;padding:3px;box-shadow: 0 4px 8px 0 grey, 0 6px 20px 0 rgba(0, 0, 0, 0.19);border-radius:5px 5px 5px 5px;\">\n",
    "    <h5>   </h5>\n",
    "</div>\n",
    "   \n",
    "</div> "
   ]
  },
  {
   "cell_type": "markdown",
   "metadata": {},
   "source": [
    "<div style=\"border: 5px solid #00264D;box-shadow: 0 4px 8px 0 #00264D, 0 6px 20px 0 rgba(0, 0, 0, 0.19);padding:0.6%\">\n",
    "<div style=\"box-shadow: 0 5px 9px 0 #00264D, 0 6px 20px 0 rgba(0, 0, 0, 0.19);padding:1%;border-radius: 25px\">\n",
    "     \n",
    "    \n",
    "    \n",
    "</div>\n",
    "</div>"
   ]
  },
  {
   "cell_type": "markdown",
   "metadata": {},
   "source": [
    "<div id=\"\"  style=\"height:43px\">\n",
    "<div style=\"position:absolute;width:30%;height:28px;border: 4px solid black;background-color:black;color:white;text-align:center;border-radius:0px 0px 0px 0px;padding:3px;box-shadow: 0 4px 8px 0 grey, 0 6px 20px 0 rgba(0, 0, 0, 0.19);border-radius:0 25px 25px 0;\">\n",
    "    <h5> Abstract  </h5>\n",
    "</div>\n",
    "   \n",
    "</div>"
   ]
  },
  {
   "cell_type": "markdown",
   "metadata": {},
   "source": [
    "<div style=\"width:70%;border: 5px solid #00264D;box-shadow: 0 4px 8px 0 #00264D, 0 6px 20px 0 rgba(0, 0, 0, 0.19);padding:0.6%\">\n",
    "<div style=\"height:154px\">\n",
    "<img src=\"http://juditacs.github.io/assets/padded_sequence.png\" style=\"position:absoluate;height:150px;border:3px solid #1E00B3\">\n",
    "<img src=\"http://juditacs.github.io/assets/softmax_before_after.png\" style=\"position:absoluate;height:150px;border:3px solid #1E00B3\">\n",
    "   \n",
    "</div>\n",
    "\n",
    "<div style=\"height:30px\">\n",
    "<div style=\"width:22%;text-align:center;position:absolute;left:1.3%;border:3px solid #1E00B3\"><b>Mask(or Padding)</b></div> \n",
    "<div style=\"width:22.2%;text-align:center;position:absolute;left:24.1%;border:3px solid #1E00B3\"><b>Whithout mask</b></div>\n",
    "<div style=\"width:21.2%;text-align:center;position:absolute;left:47.1%;border:3px solid #1E00B3\"><b>with mask</b></div>     \n",
    "   \n",
    "</div>\n",
    "<div style=\"height:30px\">\n",
    "<div style=\"width:67%;text-align:center;position:absolute;left:1.3%;border:3px solid #00264D\"><b>fig24</b></div>     \n",
    "</div>\n",
    "</div>"
   ]
  },
  {
   "cell_type": "markdown",
   "metadata": {},
   "source": [
    "<div style=\"border: 5px solid #00264D;box-shadow: 0 4px 8px 0 #00264D, 0 6px 20px 0 rgba(0, 0, 0, 0.19);padding:0.6%;width:40%\">\n",
    "<div style=\"box-shadow: 0 4px 18px 0 #00264D, 0 6px 20px 0 rgba(0, 0, 0, 0.19);padding:4%;border-radius:35px;text-align:center\">\n",
    "    \n",
    "\n",
    "Address = http://localhost:6006\n",
    "    \n",
    "```python\n",
    ">> tensorboard --logdir [ address ]  \n",
    "```\n",
    "\n",
    "    \n",
    "</div>\n",
    "</div>"
   ]
  },
  {
   "cell_type": "markdown",
   "metadata": {},
   "source": [
    "<div id=\"1\" style=\"width:100%;height:atuo;border: 4px solid black;background-color:#FF8000;color:black;text-align:center;border-radius: 25px;padding:3px\">\n",
    "<div style=\"box-shadow: 0 1px 4px 0 #00264D, 0 60px 20px 0 rgba(1, 1, 1, 1);padding:0.5%;margin:6px;border-radius: 25px\"> \n",
    "           \n",
    "<h4><b>   </b></h4>\n",
    "</div></div>"
   ]
  },
  {
   "cell_type": "markdown",
   "metadata": {},
   "source": [
    "<div style=\"border: 4px solid #4D0033;background-color:#BFE6FF;color:black;border-radius: 5px;padding:7px\">\n",
    "  <strong> Refrence: </strong><br>\n",
    "    \n",
    "\n",
    "1. https://machinelearningmastery.com/encoder-decoder-models-text-summarization-keras/\n",
    "    \n",
    "+ https://towardsdatascience.com/how-to-implement-seq2seq-lstm-model-in-keras-shortcutnlp-6f355f3e5639    \n",
    "    \n",
    "+ https://github.com/tensorflow/tensorflow/blob/r1.13/tensorflow/contrib/eager/python/examples/nmt_with_attention/nmt_with_attention.ipynb    \n",
    "    \n",
    "+ https://www.tensorflow.org/tutorials/sequences/text_generation    \n",
    "    \n",
    "+ https://github.com/tensorflow/nmt    \n",
    "    \n",
    "+ TF2.0: https://medium.com/tensorflow/a-transformer-chatbot-tutorial-with-tensorflow-2-0-88bf59e66fe2    \n",
    "    \n",
    "</div>"
   ]
  },
  {
   "cell_type": "markdown",
   "metadata": {},
   "source": [
    "<div style=\"border: 4px solid #4D0033;background-color:#CC8800;color:black;border-radius: 5px;padding:7px;color:white;\">\n",
    "<div style=\"box-shadow: 0 14px 18px 0 #00264D, 0 6px 20px 0 rgba(0, 0, 0, 0.19);padding:1%;margin:6px;border-radius: 25px\">       \n",
    "  <strong> Summary: </strong><br>\n",
    "    \n",
    "        \n",
    "</div></div>"
   ]
  },
  {
   "cell_type": "code",
   "execution_count": null,
   "metadata": {},
   "outputs": [],
   "source": []
  },
  {
   "cell_type": "code",
   "execution_count": null,
   "metadata": {},
   "outputs": [],
   "source": []
  },
  {
   "cell_type": "code",
   "execution_count": null,
   "metadata": {},
   "outputs": [],
   "source": []
  },
  {
   "cell_type": "code",
   "execution_count": null,
   "metadata": {},
   "outputs": [],
   "source": []
  },
  {
   "cell_type": "code",
   "execution_count": null,
   "metadata": {},
   "outputs": [],
   "source": []
  },
  {
   "cell_type": "code",
   "execution_count": null,
   "metadata": {},
   "outputs": [],
   "source": []
  }
 ],
 "metadata": {
  "kernelspec": {
   "display_name": "Python 3",
   "language": "python",
   "name": "python3"
  },
  "language_info": {
   "codemirror_mode": {
    "name": "ipython",
    "version": 3
   },
   "file_extension": ".py",
   "mimetype": "text/x-python",
   "name": "python",
   "nbconvert_exporter": "python",
   "pygments_lexer": "ipython3",
   "version": "3.6.8"
  }
 },
 "nbformat": 4,
 "nbformat_minor": 2
}
