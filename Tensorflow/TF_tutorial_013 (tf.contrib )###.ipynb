{
 "cells": [
  {
   "cell_type": "markdown",
   "metadata": {},
   "source": [
    "<div style=\"width:100%;height:atuo;text-align:center;border: 4px solid black;background-color:#FF8000;color:white;border-radius: 25px\">\n",
    "<div style=\"box-shadow: 0 14px 18px 0 #00264D, 0 6px 20px 0 rgba(0, 0, 0, 0.19);border-radius:4px 4px 4px 4px;padding:0.3%;margin:19px;background-image: url(https://www.tensorflow.org/images/tf_logo_social.png);background-repeat: no-repeat;background-size: 324px\"> \n",
    "<header style=\"width:100%;height:auto;\">\n",
    "  <font size=\"23px\"><b> Chapter 013</b></font>\n",
    "    <h2> Tensorflow_tutorial </h2>\n",
    "    <h4> Classification with LSTM</h4>\n",
    "</header>\n",
    "\n",
    "<div><div>  "
   ]
  },
  {
   "cell_type": "code",
   "execution_count": null,
   "metadata": {},
   "outputs": [],
   "source": []
  },
  {
   "cell_type": "markdown",
   "metadata": {},
   "source": [
    "<div style='border: 4px solid #FF8000;padding:9px;'>\n",
    "<div style=\"box-shadow: 0 7px 8px 0 #00264D, 0 6px 20px 0 rgba(0, 0, 0, 0.19);padding:1%;margin:6px;border-radius: 25px\"> \n",
    "By: Farhad Shadmand \n",
    "    \n",
    "https://github.com/farhadsh1992\n",
    "    \n",
    "</div></div>"
   ]
  },
  {
   "cell_type": "code",
   "execution_count": null,
   "metadata": {},
   "outputs": [],
   "source": []
  },
  {
   "cell_type": "markdown",
   "metadata": {},
   "source": [
    "<div style=\"width:25%;height:30px;border: 4px solid black;background-color:#990000;color:white;text-align:center;border-radius:0px 25px 25px 0px;padding:3px\">\n",
    "    <h5> contents-Paper:  </h5>\n",
    "</div>\n",
    "\n"
   ]
  },
  {
   "cell_type": "markdown",
   "metadata": {},
   "source": [
    "<div style=\"text-align:center;height:45px\">\n",
    "<div style=\"width:49%;height:30px;position:absolute;left:0 ;border: 4px solid black;background-color:#FF8000;color:black;text-align:center;border-radius:25px 25px 25px 25px;padding:3px\">\n",
    "    <h6><a href=\"#\" style=\"position: relative;padding:5px;color:white;text-align: center;\">  </a></h6>\n",
    "</div>\n",
    "<div style=\"width:49%;height:30px;position:absolute;left:50% ;border: 4px solid black;background-color:#FF8000;color:black;text-align:center;border-radius:25px 25px 25px 25px;padding:3px\">\n",
    "    <h6><a href=\"#\" style=\"position: relative;padding:5px;color:white;text-align: center;\">   </a></h6>\n",
    "</div>\n",
    "</div>"
   ]
  },
  {
   "cell_type": "code",
   "execution_count": null,
   "metadata": {},
   "outputs": [],
   "source": []
  },
  {
   "cell_type": "markdown",
   "metadata": {},
   "source": [
    "<div style=\"width:50%;height:40px;border: 4px solid black;background-color:#990000;color:white;text-align:center;border-radius:0px 25px 25px 0px;padding:3px\">\n",
    "    <h4> :  </h4>\n",
    "</div>"
   ]
  },
  {
   "cell_type": "markdown",
   "metadata": {},
   "source": [
    "<div id=\"\" style=\"height:43px\">\n",
    "<div style=\"position:absolute;width:5%;height:28px;border: 4px solid black;background-color:#FF8000;color:white;text-align:center;border-radius:0px 0px 0px 0px;padding:3px;box-shadow: 0 4px 8px 0 #FF8000, 0 6px 20px 0 rgba(0, 0, 0, 0.19)\">\n",
    "    <h5>   </h5>\n",
    "</div>\n",
    "<div style=\"position:absolute;width:40%;height:28px;border: 4px solid black;background-color:#990000;color:white;text-align:center;border-radius:0px 45px 45px 0px;padding:3px;left:6.5%;box-shadow: 0 4px 8px 0 #990000, 0 6px 20px 0 rgba(0, 0, 0, 0.19)\">\n",
    "    <h5> Abstract: </h5>\n",
    "</div>    \n",
    "</div> "
   ]
  },
  {
   "cell_type": "markdown",
   "metadata": {},
   "source": [
    "<div id=\"\" style=\"width:100%;height:40px;border: 4px solid black;background-color:#1E00B3;color:white;text-align:center;border-radius: 25px;padding:3px\">\n",
    "    <h4>   </h4>\n",
    "</div>"
   ]
  },
  {
   "cell_type": "markdown",
   "metadata": {},
   "source": [
    "<div id=\"\" style=\"width:100%;height:40px;border: 4px solid black;background-color:#990000;color:white;text-align:center;border-radius: 25px;padding:3px\">\n",
    "    <h4>   </h4>\n",
    "</div>"
   ]
  },
  {
   "cell_type": "markdown",
   "metadata": {},
   "source": [
    "<div style=\"border: 5px solid #00264D;box-shadow: 0 4px 8px 0 #00264D, 0 6px 20px 0 rgba(0, 0, 0, 0.19);padding:0.6%\">\n",
    "<div style=\"box-shadow: 0 5px 9px 0 #00264D, 0 6px 20px 0 rgba(0, 0, 0, 0.19);padding:1%;border-radius: 25px\">\n",
    "     \n",
    "    \n",
    "    \n",
    "</div>\n",
    "</div>"
   ]
  },
  {
   "cell_type": "markdown",
   "metadata": {},
   "source": [
    "<div id=\"\"  style=\"height:43px\">\n",
    "<div style=\"position:absolute;width:10%;height:28px;border: 4px solid black;background-color:#990000;color:white;text-align:center;border-radius:0px 0px 0px 0px;padding:3px;box-shadow: 0 4px 8px 0 #990000, 0 6px 20px 0 rgba(0, 0, 0, 0.19)\">\n",
    "    <h5>   </h5>\n",
    "</div>\n",
    "<div style=\"position:absolute;width:40%;height:28px;border: 4px solid black;background-color:#FFFF00;color:black;text-align:center;border-radius:0px 45px 45px 0px;padding:3px;left:11.5%;box-shadow: 0 4px 8px 0 #FFFF00, 0 6px 20px 0 rgba(0, 0, 0, 0.19);\">\n",
    "    <h5>  : </h5>\n",
    "</div>    \n",
    "</div> "
   ]
  },
  {
   "cell_type": "markdown",
   "metadata": {},
   "source": [
    "<div  style=\"height:43px\">\n",
    "<div style=\"position:absolute;width:10%;height:28px;border: 4px solid black;background-color:#FF8000;color:white;text-align:center;border-radius:0px 0px 0px 0px;padding:3px;box-shadow: 0 4px 8px 0 #00404D, 0 6px 20px 0 rgba(0, 0, 0, 0.19)\">\n",
    "    <h5>   </h5>\n",
    "</div>\n",
    "<div id=\"\"  style=\"position:absolute;width:40%;height:28px;border: 4px solid black;background-color:#1E00B3;color:white;text-align:center;border-radius:0px 45px 45px 0px;padding:3px;left:11.5%;box-shadow: 0 4px 8px 0 blue, 0 6px 20px 0 rgba(0, 0, 0, 0.19)\">\n",
    "    <h5> : </h5>\n",
    "</div>    \n",
    "</div> "
   ]
  },
  {
   "cell_type": "markdown",
   "metadata": {},
   "source": [
    "<div id=\"\"  style=\"height:43px\">\n",
    "<div style=\"position:absolute;width:30%;height:28px;border: 4px solid black;background-color:black;color:white;text-align:center;border-radius:0px 0px 0px 0px;padding:3px;box-shadow: 0 4px 8px 0 grey, 0 6px 20px 0 rgba(0, 0, 0, 0.19);border-radius:0 25px 25px 0;\">\n",
    "    <h5> Abstract  </h5>\n",
    "</div>\n",
    "   \n",
    "</div>"
   ]
  },
  {
   "cell_type": "markdown",
   "metadata": {},
   "source": [
    "<div id=\"\"  style=\"height:43px\">\n",
    "<div style=\"position:absolute;width:98%;height:28px;border: 4px solid black;background-color:black;color:white;text-align:center;border-radius:0px 0px 0px 0px;padding:3px;box-shadow: 0 4px 8px 0 grey, 0 6px 20px 0 rgba(0, 0, 0, 0.19);border-radius:5px 5px 5px 5px;\">\n",
    "    <h5>   </h5>\n",
    "</div>\n",
    "   \n",
    "</div> "
   ]
  },
  {
   "cell_type": "markdown",
   "metadata": {},
   "source": [
    "<div style=\"width:70%;border: 5px solid #00264D;box-shadow: 0 4px 8px 0 #00264D, 0 6px 20px 0 rgba(0, 0, 0, 0.19);padding:0.6%\">\n",
    "<div style=\"height:154px\">\n",
    "<img src=\"http://juditacs.github.io/assets/padded_sequence.png\" style=\"position:absoluate;height:150px;border:3px solid #1E00B3\">\n",
    "<img src=\"http://juditacs.github.io/assets/softmax_before_after.png\" style=\"position:absoluate;height:150px;border:3px solid #1E00B3\">\n",
    "   \n",
    "</div>\n",
    "\n",
    "<div style=\"height:30px\">\n",
    "<div style=\"width:22%;text-align:center;position:absolute;left:1.3%;border:3px solid #1E00B3\"><b>Mask(or Padding)</b></div> \n",
    "<div style=\"width:22.2%;text-align:center;position:absolute;left:24.1%;border:3px solid #1E00B3\"><b>Whithout mask</b></div>\n",
    "<div style=\"width:21.2%;text-align:center;position:absolute;left:47.1%;border:3px solid #1E00B3\"><b>with mask</b></div>     \n",
    "   \n",
    "</div>\n",
    "<div style=\"height:30px\">\n",
    "<div style=\"width:67%;text-align:center;position:absolute;left:1.3%;border:3px solid #00264D\"><b>fig24</b></div>     \n",
    "</div>\n",
    "</div>"
   ]
  },
  {
   "cell_type": "markdown",
   "metadata": {},
   "source": [
    "<div id=\"1\" style=\"width:100%;height:atuo;border: 4px solid black;background-color:#FF8000;color:black;text-align:center;border-radius: 25px;padding:3px\">\n",
    "<div style=\"box-shadow: 0 1px 4px 0 #00264D, 0 60px 20px 0 rgba(1, 1, 1, 1);padding:0.5%;margin:6px;border-radius: 25px\"> \n",
    "           \n",
    "<h4><b>  tf.contrib.rnn  </b></h4>\n",
    "</div></div>"
   ]
  },
  {
   "cell_type": "markdown",
   "metadata": {},
   "source": [
    "<div style=\"border: 4px solid #4D0033;background-color:#BFE6FF;color:black;border-radius: 5px;padding:7px;box-shadow: 0 1px 1px 0 #00264D, 0 6px 20px 0 rgba(1, 1, 1, 1)\">\n",
    "<div style=\"box-shadow: 0 1px 4px 0 #00264D, 0 6px 20px 0 rgba(0, 0, 0, 0.19);padding:1%;margin:6px;border-radius: 25px;width:10%;text-align:center\">    \n",
    "  <strong> Refrence: </strong><br></div>  \n",
    "<div style=\"box-shadow: 0 1px 12px 0 #00264D, 0 6px 20px 0 rgba(0, 0, 0, 0.19);padding:1%;margin:6px;border-radius: 25px;margin-top:8px\">      \n",
    "\n",
    "1. https://www.youtube.com/watch?v=RIR_-Xlbp7s \n",
    "    \n",
    "+ http://web.stanford.edu/class/cs20si/lectures/notes_09.pdf    \n",
    "    \n",
    "+ https://www.oreilly.com/ideas/introduction-to-lstms-with-tensorflow    \n",
    "    \n",
    "+ https://www.oreilly.com/ideas/introduction-to-lstms-with-tensorflow\n",
    "    \n",
    "+  https://www.tensorflow.org/hub/tutorials/text_classification_with_tf_hub\n",
    "    \n",
    "+ https://www.youtube.com/watch?v=l4X-kZjl1gs    \n",
    "    \n",
    "+ important: https://www.oreilly.com/ideas/introduction-to-lstms-with-tensorflow    \n",
    "    \n",
    "+ https://r2rt.com/recurrent-neural-networks-in-tensorflow-ii.html    \n",
    "    \n",
    "+ https://stackoverflow.com/questions/43408463/how-does-tensorflows-multirnncell-work   \n",
    "    \n",
    "+ Dev Summit's 17: https://events.withgoogle.com/tensorflow-dev-summit/videos-and-agenda/#content   \n",
    "    \n",
    "+ https://r2rt.com/recurrent-neural-networks-in-tensorflow-ii.html    \n",
    "</div>    \n",
    "</div>"
   ]
  },
  {
   "cell_type": "markdown",
   "metadata": {},
   "source": [
    "<div style=\"border: 4px solid #4D0033;background-color:#CC8800;color:black;border-radius: 5px;padding:7px;color:white;\">\n",
    "<div style=\"box-shadow: 0 14px 18px 0 #00264D, 0 6px 20px 0 rgba(0, 0, 0, 0.19);padding:1%;margin:6px;border-radius: 25px\">       \n",
    "  <strong> Summary: </strong><br>\n",
    "    \n",
    "        \n",
    "</div></div>"
   ]
  },
  {
   "cell_type": "markdown",
   "metadata": {},
   "source": [
    "<div style=\"border: 5px solid #00264D;box-shadow: 0 4px 8px 0 #00264D, 0 6px 20px 0 rgba(0, 0, 0, 0.19);padding:0.6%;width:40%\">\n",
    "<div style=\"box-shadow: 0 4px 18px 0 #00264D, 0 6px 20px 0 rgba(0, 0, 0, 0.19);padding:4%;border-radius:35px;text-align:center\">\n",
    "    \n",
    "\n",
    "Address = http://localhost:6006\n",
    "    \n",
    "```python\n",
    ">> tensorboard --logdir [ address ]  \n",
    "```\n",
    "\n",
    "    \n",
    "</div>\n",
    "</div>"
   ]
  },
  {
   "cell_type": "code",
   "execution_count": 42,
   "metadata": {},
   "outputs": [],
   "source": [
    "import tensorflow as tf"
   ]
  },
  {
   "cell_type": "code",
   "execution_count": 20,
   "metadata": {},
   "outputs": [],
   "source": [
    "#!pip install --upgrade pyspark"
   ]
  },
  {
   "cell_type": "markdown",
   "metadata": {},
   "source": [
    "<div id=\"\"  style=\"height:43px\">\n",
    "<div style=\"position:absolute;width:30%;height:28px;border: 4px solid black;background-color:black;color:white;text-align:center;border-radius:0px 0px 0px 0px;padding:3px;box-shadow: 0 4px 8px 0 grey, 0 6px 20px 0 rgba(0, 0, 0, 0.19);border-radius:0 25px 25px 0;\">\n",
    "    <h5> Load database  </h5>\n",
    "</div>\n",
    "   \n",
    "</div>"
   ]
  },
  {
   "cell_type": "markdown",
   "metadata": {},
   "source": [
    "http://web.stanford.edu/class/cs20si/lectures/notes_09.pdf"
   ]
  },
  {
   "cell_type": "markdown",
   "metadata": {},
   "source": [
    "<div style=\"border: 5px solid #00264D;box-shadow: 0 4px 8px 0 #00264D, 0 6px 20px 0 rgba(0, 0, 0, 0.19);padding:0.6%\">\n",
    "<div style=\"box-shadow: 0 5px 9px 0 #00264D, 0 6px 20px 0 rgba(0, 0, 0, 0.19);padding:1%;border-radius: 25px\">\n",
    "    \n",
    "http://web.stanford.edu/class/cs20si/lectures/notes_09.pdf\n",
    "    \n",
    "<hr>    \n",
    "     \n",
    "```python\n",
    "tf.TextLineReader(skip_header_lines)  \n",
    "```\n",
    "outputs are the lines of file delimited by newlines. \n",
    "<hr>   \n",
    "    \n",
    "```python\n",
    "tf.FixedLengthRecordReader(record_bytes,header_bytes,name,encoding)\n",
    "```   \n",
    "A Reader that outputs fixed-length records from a file.    \n",
    "<hr>  \n",
    "    \n",
    "```python\n",
    "tf.WholeFileReader()\n",
    "```   \n",
    "    \n",
    "<hr>  \n",
    "    \n",
    "```python\n",
    "tf.TFRecordReader()\n",
    "```   \n",
    "    \n",
    "<hr>      \n",
    "    \n",
    "```python\n",
    "tf.ReaderBase()\n",
    "```   \n",
    "Allows you to create your own readers    \n",
    "<hr> \n",
    "    \n",
    "```python\n",
    "filename_queue = tf.train.string_input_producer([url])\n",
    "reader = tf.TextLineReader(skip_header_lines=1) # skip the first line in the file\n",
    "key, value= reader.read(filename_queue)\n",
    "```   \n",
    "    \n",
    "<hr>\n",
    "    \n",
    "```python\n",
    "tf.decode_csv()\n",
    "```   \n",
    "    \n",
    "<hr>\n",
    "    \n",
    "```python\n",
    "with tf.Session() as sess:\n",
    "    coord = tf.train.Coordinator()\n",
    "    threads = tf.train.start_queue_runners(coord=coord)\n",
    "    print(sess.run(key)) \n",
    "    print(sess.run(value)) \n",
    "    coord.join(threads)\n",
    "    see.close()\n",
    "```   \n",
    "    \n",
    "<hr>    \n",
    "[REF2]    \n",
    "</div>\n",
    "</div>"
   ]
  },
  {
   "cell_type": "code",
   "execution_count": null,
   "metadata": {},
   "outputs": [],
   "source": []
  },
  {
   "cell_type": "code",
   "execution_count": 53,
   "metadata": {},
   "outputs": [],
   "source": [
    "url = '/Users/apple/Documents/Programming/pyfile/DataBase/project_data/match_Tesla_label_from_2010-06-29_to_2019-03-15_2019316.csv'\n",
    "with open(url, 'r') as f:\n",
    "    lines =  f.read().split('\\n')"
   ]
  },
  {
   "cell_type": "code",
   "execution_count": 8,
   "metadata": {},
   "outputs": [],
   "source": [
    "#lines"
   ]
  },
  {
   "cell_type": "code",
   "execution_count": 77,
   "metadata": {},
   "outputs": [],
   "source": [
    "#print Tensor:\n",
    "\"\"\"\n",
    "def TF_print(*argv):\n",
    "    fun = (i for arg in argv)\n",
    "    with tf.Session() as sess:\n",
    "        #sess.run(tf.global_variables_initializer)\n",
    "        result = sess.run(fun)\n",
    "        print(result)\"\"\"\n",
    "        \n",
    "def TF_print(*argv): \n",
    "    fun = (i for arg in argv)\n",
    "    with tf.Session() as sess:\n",
    "        coord = tf.train.Coordinator()\n",
    "        threads = tf.train.start_queue_runners(coord=coord)\n",
    "        print(sess.run(data)) "
   ]
  },
  {
   "cell_type": "markdown",
   "metadata": {},
   "source": [
    "<div id=\"\"  style=\"height:43px\">\n",
    "<div style=\"position:absolute;width:30%;height:28px;border: 4px solid black;background-color:black;color:white;text-align:center;border-radius:0px 0px 0px 0px;padding:3px;box-shadow: 0 4px 8px 0 grey, 0 6px 20px 0 rgba(0, 0, 0, 0.19);border-radius:0 25px 25px 0;\">\n",
    "    <h5> Read Sequense in time  </h5>\n",
    "</div>\n",
    "   \n",
    "</div>"
   ]
  },
  {
   "cell_type": "markdown",
   "metadata": {},
   "source": [
    "<div style=\"border: 5px solid #00264D;box-shadow: 0 4px 8px 0 #00264D, 0 6px 20px 0 rgba(0, 0, 0, 0.19);padding:0.6%\">\n",
    "<div style=\"box-shadow: 0 5px 9px 0 #00264D, 0 6px 20px 0 rgba(0, 0, 0, 0.19);padding:1%;border-radius: 25px\">\n",
    "     \n",
    "<div style=\"height:430px;width:90%;border: 5px solid #00264D;box-shadow: 0 4px 8px 0 #00264D, 0 6px 20px 0 rgba(0, 0, 0, 0.19);padding:0.6%\">\n",
    "<div style=\"height:254px\">\n",
    "<img src=\"\" style=\"position:absoluate;height:250px;border:3px solid #1E00B3\">\n",
    "<img src=\"https://www.altoros.com/blog/wp-content/uploads/2018/03/tensorflow-dev-summit-2017-eugene-brevdo-keynote-batching-sequence-dynamic-padding-v12.jpg\" style=\"position:absoluate;height:250px;border:3px solid #1E00B3\">\n",
    "   \n",
    "</div>\n",
    "\n",
    "<div style=\"height:82px\">\n",
    "<div style=\"width:34%;text-align:center;position:absolute;left:3.3%;border:3px solid #1E00B3;padding:9px\"><b> \n",
    "    \n",
    "```python\n",
    "data = tf.train.batch(lines, batch_size=30)    \n",
    "```  \n",
    "we should know max-Length of sequenses. <br>\n",
    "your sequenses always have max-Length, it is mean you're wasting both space and time.     \n",
    "</b></div> \n",
    "<div style=\"width:38.2%;text-align:center;position:absolute;left:39.1%;border:3px solid #1E00B3;padding:9px\"><b>\n",
    "    \n",
    "```python\n",
    "data = tf.train.batch(lines, batch_size=30, dynamic_pad=True)    \n",
    "```      \n",
    " </b></div>\n",
    "   \n",
    "   \n",
    "</div>\n",
    "\n",
    "</div>   \n",
    "    \n",
    "<div style=\"height:430px;width:90%;border: 5px solid #00264D;box-shadow: 0 4px 8px 0 #00264D, 0 6px 20px 0 rgba(0, 0, 0, 0.19);padding:0.6%;margin-top:1%\">\n",
    "<div style=\"height:334px\">\n",
    "<img src=\"https://www.altoros.com/blog/wp-content/uploads/2018/03/tensorflow-dev-summit-2017-eugene-brevdo-keynote-batching-sequence-data-bucketing-v1.jpg\" style=\"position:absoluate;height:330px;border:3px solid #1E00B3\">\n",
    "<img src=\"https://www.altoros.com/blog/wp-content/uploads/2018/03/tensorflow-dev-summit-2017-eugene-brevdo-keynote-batching-data-truncated-backpropagation-v1.jpg\" style=\"position:absoluate;height:330px;border:3px solid #1E00B3\">\n",
    "   \n",
    "</div>\n",
    "\n",
    "<div style=\"height:30px\">\n",
    "<div style=\"width:37%;text-align:center;position:absolute;left:4.0%;border:3px solid #1E00B3;padding:9px\"><b> \n",
    "    \n",
    "```python\n",
    "data = tf.contrib.training.bucket_by_sequence_length(,\n",
    "                                      dynamic_pad=True)    \n",
    "```  \n",
    "     \n",
    "</b></div> \n",
    "<div style=\"width:38.2%;text-align:center;position:absolute;left:43.5%;border:3px solid #1E00B3;padding:9px\"><b>\n",
    "    \n",
    "```python\n",
    "data = tf.contrib.training.batch_sequenses_with_state()    \n",
    "```      \n",
    " </b></div>\n",
    "   \n",
    "   \n",
    "</div>\n",
    "\n",
    "</div> \n",
    "<br>    \n",
    "[RER1]     \n",
    "</div>\n",
    "</div>"
   ]
  },
  {
   "cell_type": "code",
   "execution_count": 62,
   "metadata": {},
   "outputs": [],
   "source": [
    "data = tf.contrib.training.batch_sequenses_with_state()"
   ]
  },
  {
   "cell_type": "code",
   "execution_count": null,
   "metadata": {},
   "outputs": [],
   "source": [
    "with tf.Session() as sess:\n",
    "    coord = tf.train.Coordinator()\n",
    "    threads = tf.train.start_queue_runners(coord=coord)\n",
    "    print(sess.run(data)) "
   ]
  },
  {
   "cell_type": "code",
   "execution_count": null,
   "metadata": {},
   "outputs": [],
   "source": []
  },
  {
   "cell_type": "markdown",
   "metadata": {},
   "source": [
    "<div id=\"\"  style=\"height:43px\">\n",
    "<div style=\"position:absolute;width:30%;height:28px;border: 4px solid black;background-color:black;color:white;text-align:center;border-radius:0px 0px 0px 0px;padding:3px;box-shadow: 0 4px 8px 0 grey, 0 6px 20px 0 rgba(0, 0, 0, 0.19);border-radius:0 25px 25px 0;\">\n",
    "    <h5> different RNN archtiture   </h5>\n",
    "</div>\n",
    "   \n",
    "</div>"
   ]
  },
  {
   "cell_type": "markdown",
   "metadata": {},
   "source": [
    "<div style=\"border: 5px solid #00264D;box-shadow: 0 4px 8px 0 #00264D, 0 6px 20px 0 rgba(0, 0, 0, 0.19);padding:0.6%\">\n",
    "<div style=\"box-shadow: 0 5px 9px 0 #00264D, 0 6px 20px 0 rgba(0, 0, 0, 0.19);padding:1%;border-radius: 25px\">\n",
    "     \n",
    "1. BasicRNNCell        ```tf.contrib.rnn.BasicRNNCell()  ```\n",
    "    \n",
    "2. BasicLSTMCell        ``tf.contrib.rnn.BasicLSTMCell()``\n",
    "\n",
    "3. GRUCell              `tf.contrib.rnn.GRUCell()`\n",
    "    \n",
    "4. LSTMCell `tf.contrib.rnn.LSTMCell`\n",
    "    \n",
    "5. LayerNormBasicLSTMCell `tf.contrib.rnn.LayerNormBasicLSTMCell `\n",
    "    \n",
    "6. CoupledInputForgetGateLSTMCell `tf.contrib.rnn.CoupledInputForgetGateLSTMCell `\n",
    "    \n",
    "7. TimeFreqLSTMCell `tf.contrib.rnn.TimeFreqLSTMCell `\n",
    "    \n",
    "8. GridLSTMCell `tf.contrib.rnn.GridLSTMCell `\n",
    "    \n",
    "9. NASCell `tf.contrib.rnn.NASCell `\n",
    "\n",
    "    \n",
    "10. MultiRNNCell `tf.contrib.rnn.MultiRNNCell `\n",
    "    \n",
    "+ DropoutWrapper `tf.contrib.rnn.DropoutWrapper `\n",
    "    \n",
    "+ DeviceWrapper `tf.contrib.rnn.DeviceWrapper `\n",
    "    \n",
    "+ ResicualWrapper `tf.contrib.rnn.ResidualWrapper `\n",
    "    \n",
    "+ AttentionWrapper `tf.contrib.rnn.AttentionCellWrapper `\n",
    "    \n",
    "+ CompiledWrapper `tf.contrib.rnn.CompiledWrapper `\n",
    " \n",
    "[Ref1]     \n",
    "</div>\n",
    "</div>\n"
   ]
  },
  {
   "cell_type": "code",
   "execution_count": null,
   "metadata": {},
   "outputs": [],
   "source": []
  },
  {
   "cell_type": "markdown",
   "metadata": {},
   "source": [
    "<div id=\"\"  style=\"height:43px\">\n",
    "<div style=\"position:absolute;width:30%;height:28px;border: 4px solid black;background-color:black;color:white;text-align:center;border-radius:0px 0px 0px 0px;padding:3px;box-shadow: 0 4px 8px 0 grey, 0 6px 20px 0 rgba(0, 0, 0, 0.19);border-radius:0 25px 25px 0;\">\n",
    "    <h5> fully Dynamic Calculation   </h5>\n",
    "</div>\n",
    "   \n",
    "</div>"
   ]
  },
  {
   "cell_type": "markdown",
   "metadata": {},
   "source": [
    "<div style=\"border: 5px solid #00264D;box-shadow: 0 4px 8px 0 #00264D, 0 6px 20px 0 rgba(0, 0, 0, 0.19);padding:0.6%\">\n",
    "<div style=\"box-shadow: 0 5px 9px 0 #00264D, 0 6px 20px 0 rgba(0, 0, 0, 0.19);padding:1%;border-radius: 25px\">\n",
    "\n",
    "# fully Dynamic Calculation\n",
    "    \n",
    "Goal: Handle sequences of unkown length\n",
    "    \n",
    "Tools: Dynamic calculation\n",
    "    \n",
    "```python\n",
    "(i_final, jk_final) = tf.while_loop(cond=condition,body=body,loop_vars=ijk, parallel_iterations=10, swap_memory=False)\n",
    "        \n",
    "```\n",
    "<hr>    \n",
    "    \n",
    "```python\n",
    "tf.TensorArray(dtype=tf.float32,size=matrix_row)\n",
    "    \n",
    "```   \n",
    "    \n",
    "[Ref1]    \n",
    "</div>\n",
    "</div>"
   ]
  },
  {
   "cell_type": "code",
   "execution_count": 82,
   "metadata": {},
   "outputs": [],
   "source": [
    "# tf.while_loop()\n",
    "ijk = (0,(1,2))\n",
    "condition = (lambda i,_: i<10)\n",
    "body = (lambda i,jk:(i+1,(jk[0]-jk[1],jk[0]+jk[1])))\n",
    "(i_final, jk_final) = tf.while_loop(cond=condition,body=body,loop_vars=ijk, parallel_iterations=10, swap_memory=False)\n",
    "# TF_print(i_final, jk_final)"
   ]
  },
  {
   "cell_type": "code",
   "execution_count": null,
   "metadata": {},
   "outputs": [],
   "source": [
    "# tf.TensorArray\n",
    "\n",
    "# example Unpack and read\n",
    "matrix = tf.constant(tf.random_uniform(shape=[12,12], dtype=tf.float32))\n",
    "matrix_row = tf.shape(matrix)[0]\n",
    "ta = tf.TensorArray(dtype=tf.float32,size=matrix_row)\n",
    "ta = ta.unstack(matrix)\n",
    "read_row =(row_ix_it)\n",
    "\n",
    "# example writes and Pack\n",
    "ta  = tf.TensorArray(tf.float32, size=matrix_row)\n",
    "ta = ta.write(row_ix_it,vector)\n",
    "\n",
    "\"\"\" ... \"\"\"\n",
    "\n",
    "new_matrix = ta.stack()"
   ]
  },
  {
   "cell_type": "code",
   "execution_count": null,
   "metadata": {},
   "outputs": [],
   "source": []
  },
  {
   "cell_type": "code",
   "execution_count": null,
   "metadata": {},
   "outputs": [],
   "source": []
  },
  {
   "cell_type": "markdown",
   "metadata": {},
   "source": [
    "<div id=\"\"  style=\"height:43px\">\n",
    "<div style=\"position:absolute;width:30%;height:28px;border: 4px solid black;background-color:black;color:white;text-align:center;border-radius:0px 0px 0px 0px;padding:3px;box-shadow: 0 4px 8px 0 grey, 0 6px 20px 0 rgba(0, 0, 0, 0.19);border-radius:0 25px 25px 0;\">\n",
    "    <h5> Functional Building Blocks in Tensorflow   </h5>\n",
    "</div>\n",
    "   \n",
    "</div>"
   ]
  },
  {
   "cell_type": "markdown",
   "metadata": {},
   "source": [
    "<div style=\"border: 5px solid #00264D;box-shadow: 0 4px 8px 0 #00264D, 0 6px 20px 0 rgba(0, 0, 0, 0.19);padding:0.6%\">\n",
    "<div style=\"box-shadow: 0 5px 9px 0 #00264D, 0 6px 20px 0 rgba(0, 0, 0, 0.19);padding:1%;border-radius: 25px\">\n",
    "\n",
    "# Functional Building Blocks in Tensorflow\n",
    "    \n",
    "```python\n",
    "tf.map_fr\n",
    "        \n",
    "```\n",
    "<hr>\n",
    "    \n",
    "```python\n",
    "\n",
    "tf.scan        \n",
    "```\n",
    "<hr>   \n",
    "    \n",
    "```python\n",
    "\n",
    "tf.fold1        \n",
    "```\n",
    "<hr>        \n",
    "    \n",
    "```python\n",
    "tf.foldr\n",
    "        \n",
    "```\n",
    "<hr>        \n",
    "    \n",
    "```python\n",
    "tf.nn.dynamic_rnn\n",
    "        \n",
    "```\n",
    "<hr>    \n",
    "    \n",
    "```python\n",
    "tf.nn.bidrectional_dynamic_rnn\n",
    "        \n",
    "```\n",
    "<hr>        \n",
    "    \n",
    "```python\n",
    "\n",
    "tf.contrib.rnn.stack_bidrectional_dynamic_rnn        \n",
    "```\n",
    "<hr> \n",
    "    \n",
    "```python\n",
    "tf.contrib.seq2seq.dynamic_decode\n",
    "        \n",
    "```\n",
    "<hr>        \n",
    "    \n",
    "```python\n",
    "\n",
    "tf.contrib.crf.crf_log_norm        \n",
    "```\n",
    "<hr>        \n",
    "    \n",
    "```python\n",
    "\n",
    "tf.contrib.integrate.odeint        \n",
    "```\n",
    "<hr>        \n",
    "    \n",
    "    \n",
    "[Ref1]   \n",
    "    \n",
    "</div>\n",
    "</div>"
   ]
  },
  {
   "cell_type": "code",
   "execution_count": null,
   "metadata": {},
   "outputs": [],
   "source": []
  },
  {
   "cell_type": "markdown",
   "metadata": {},
   "source": [
    "<div id=\"\"  style=\"height:43px\">\n",
    "<div style=\"position:absolute;width:30%;height:28px;border: 4px solid black;background-color:black;color:white;text-align:center;border-radius:0px 0px 0px 0px;padding:3px;box-shadow: 0 4px 8px 0 grey, 0 6px 20px 0 rgba(0, 0, 0, 0.19);border-radius:0 25px 25px 0;\">\n",
    "    <h5> A RNN Encoder via Fully Dynamic RNN  </h5>\n",
    "</div>\n",
    "   \n",
    "</div>"
   ]
  },
  {
   "cell_type": "markdown",
   "metadata": {},
   "source": [
    "<div style=\"width:50%;border: 5px solid #00264D;box-shadow: 0 4px 8px 0 #00264D, 0 6px 20px 0 rgba(0, 0, 0, 0.19);padding:0.6%\">\n",
    "<div style=\"height:354px\">\n",
    "<img src=\"https://www.altoros.com/blog/wp-content/uploads/2018/03/tensorflow-dev-summit-2017-eugene-brevdo-keynote-sequence-models-12.jpg\" style=\"position:absoluate;height:350px;border:3px solid #1E00B3\">\n",
    "   \n",
    "</div>\n",
    "\n",
    "<div style=\"height:30px\">\n",
    "<div style=\"width:22%;text-align:center;position:absolute;left:1.3%;border:3px solid #1E00B3\"><b> </b></div> \n",
    "    \n",
    "   \n",
    "</div>\n",
    "<div style=\"height:30px\">\n",
    "<div style=\"width:40%;text-align:center;position:absolute;left:1.3%;border:3px solid #00264D\"><b>3</b></div>     \n",
    "</div>\n",
    "</div>"
   ]
  },
  {
   "cell_type": "code",
   "execution_count": null,
   "metadata": {},
   "outputs": [],
   "source": [
    "# 8 layers LSTM with residual connections\n",
    "# Each layer is on a separate GPU\n",
    "# https://www.journaldev.com/14893/python-property-decorator\n",
    "class encoder():\n",
    "    @property\n",
    "    def help_(self,decoder_inputs,sequence_length):\n",
    "        self.helper = tf.contrib.seq2seq.TrainingHelper(decoder_inputs=decoder_inputs, sequence_length=sequence_length)\n",
    "        \n",
    "    @gotmarks.setter\n",
    "    def rnn_encoder(self,inputs,sequence_length):\n",
    "        lstm = tf.contrib.rnn.LSTMCell(num_units=512)\n",
    "        lstm = tf.contrib.rnn.ResidualWrapper(lstm)\n",
    "        bilstm = [tf.contrib.rnn.DeviceWrapper(lstm, device='/cpu:%d'i) for i in range(8) ]\n",
    "        cell = tf.contrib.rnn.MultiRNNCell(bilstm)\n",
    "\n",
    "        self.encoder_outputs , self.encoder_final_state = tf.nn.dynamic_rnn(cell=cell, inputs=inputs, sequence_length=sequence_length , parallel_iterations=32, swap_memory=True)\n",
    "        \n",
    "    @property    \n",
    "    def rnn_decoder(self,inputs,sequence_length):\n",
    "        lstm = tf.contrib.rnn.LSTMCell(num_units=512)\n",
    "        lstm = tf.contrib.rnn.ResidualWrapper(lstm)\n",
    "        bilstm = [tf.contrib.rnn.DeviceWrapper(lstm, device='/cpu:%d'i) for i in range(8) ]\n",
    "        self.cell = tf.contrib.rnn.MultiRNNCell(bilstm)\n",
    "        \n",
    "    @property\n",
    "    def DecoderFun(self):\n",
    "        self.decoder = tf.contrib.seq2seq.BasicDecoder(cell= self.cell, helper=self.helper, initial_state=self.encoder_final_state)\n",
    "        \n",
    "    \n",
    "    def Attenation(self):\n",
    "        decoder_outputs, final_decoder_state = tf.contrib.seq2seq.dynamic_decode(decoder=self.decoder)\n",
    "        return decoder_outputs, final_decoder_state\n",
    "    "
   ]
  },
  {
   "cell_type": "code",
   "execution_count": null,
   "metadata": {},
   "outputs": [],
   "source": []
  },
  {
   "cell_type": "markdown",
   "metadata": {},
   "source": [
    "# Xla Fused, GPU"
   ]
  },
  {
   "cell_type": "code",
   "execution_count": null,
   "metadata": {},
   "outputs": [],
   "source": []
  }
 ],
 "metadata": {
  "kernelspec": {
   "display_name": "Python 3",
   "language": "python",
   "name": "python3"
  },
  "language_info": {
   "codemirror_mode": {
    "name": "ipython",
    "version": 3
   },
   "file_extension": ".py",
   "mimetype": "text/x-python",
   "name": "python",
   "nbconvert_exporter": "python",
   "pygments_lexer": "ipython3",
   "version": "3.6.8"
  }
 },
 "nbformat": 4,
 "nbformat_minor": 2
}
