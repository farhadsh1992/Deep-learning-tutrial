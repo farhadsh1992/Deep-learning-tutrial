{
 "cells": [
  {
   "cell_type": "markdown",
   "metadata": {},
   "source": [
    "<div style=\"width:100%;height:atuo;text-align:center;border: 4px solid black;background-color:#FF8000;color:white\">\n",
    "<div style=\"box-shadow: 0 14px 18px 0 #00264D, 0 6px 20px 0 rgba(0, 0, 0, 0.19);border-radius:4px 4px 4px 4px;padding:1%;margin:19px;background-image: url(https://www.tensorflow.org/images/tf_logo_social.png);background-repeat: no-repeat;background-size: 320px\"> \n",
    "<header style=\"width:100%;height:100px;\">\n",
    "  <h2><b> Chapter 006</b></h2>\n",
    "    <h4> Tensorflow_tutorial  </h4>\n",
    "    <h5>(Google I/O'17, 18 and 19</h5>\n",
    "</header>\n",
    "\n",
    "<div><div>  "
   ]
  },
  {
   "cell_type": "code",
   "execution_count": null,
   "metadata": {},
   "outputs": [],
   "source": []
  },
  {
   "cell_type": "markdown",
   "metadata": {},
   "source": [
    "<div style='border: 4px solid #FF8000;padding:9px;'>\n",
    "<div style=\"box-shadow: 0 8px 12px 0 white, 0 6px 20px 0 rgba(1, 1, 1, 1);padding:1%;margin:6px;border-radius: 25px\"> \n",
    "By: Farhad Shadmand \n",
    "    \n",
    "https://github.com/farhadsh1992\n",
    "    \n",
    "</div></div>"
   ]
  },
  {
   "cell_type": "markdown",
   "metadata": {},
   "source": [
    "<div style=\"border: 4px solid black;background-color:#BFE6FF;color:black;border-radius: 5px;padding:7px\">\n",
    "  <strong> Refrence: </strong><br>\n",
    "        \n",
    "- https://medium.com/google-developer-experts/learnings-from-tensorflow-dev-summit-2019-1fc6484c1943        \n",
    "    \n",
    "    \n",
    "+ https://medium.freecodecamp.org/machine-learning-as-a-service-with-tensorflow-9929e9ce3801    \n",
    "    \n",
    "    \n",
    "+ https://appliedmachinelearning.blog/2018/12/26/tensorflow-tutorial-from-scratch-building-a-deep-learning-model-on-fashion-mnist-dataset-part-1/    \n",
    "    \n",
    "+ https://medium.freecodecamp.org/how-to-deploy-tensorflow-models-to-production-using-tf-serving-4b4b78d41700    \n",
    "    \n",
    "</div>"
   ]
  },
  {
   "cell_type": "markdown",
   "metadata": {},
   "source": [
    "<div style=\"border: 4px solid black;background-color:#BFE6FF;color:black;border-radius: 5px;padding:7px\">\n",
    "  <strong> Refrence: </strong><br>\n",
    "    \n",
    "1. https://www.youtube.com/watch?v=HgGyWS40g-g  \n",
    "    \n",
    "+ https://www.youtube.com/watch?v=drYM04t57tU    \n",
    "      \n",
    "+ https://www.youtube.com/watch?v=oFFbKogYdfc&t=84s\n",
    "    \n",
    "+ https://www.youtube.com/watch?v=Un0JDL3i5Hg    \n",
    "    \n",
    "<hr> \n",
    "    \n",
    "+ https://www.youtube.com/watch?v=8khPUtwaVaw&list=PLQY2H8rRoyvzoUYI26kHmKSJBedn3SQuB&index=14   \n",
    "    \n",
    "+TF_hub: https://www.youtube.com/watch?v=y_qUJIfkbPs&list=PLQY2H8rRoyvzoUYI26kHmKSJBedn3SQuB&index=15    \n",
    "    \n",
    "+ TF Lattice: https://www.youtube.com/watch?v=ABBnNjbjv2Q&list=PLQY2H8rRoyvzoUYI26kHmKSJBedn3SQuB&index=25   \n",
    "    \n",
    "+ TF Lattice paper:  https://ai.googleblog.com/2017/10/tensorflow-lattice-flexibility.html  \n",
    "    \n",
    "+ JUlIA: https://www.youtube.com/watch?v=n2MwJ1guGVQ&list=PLQY2H8rRoyvzoUYI26kHmKSJBedn3SQuB&index=22    \n",
    "    \n",
    "+ https://www.youtube.com/watch?v=D1c2pi624X4    \n",
    "    \n",
    "    \n",
    "</div>"
   ]
  },
  {
   "cell_type": "markdown",
   "metadata": {},
   "source": [
    "<div style=\"border: 4px solid #4D0033;background-color:#CC8800;color:black;border-radius: 5px;padding:7px;color:white;\">\n",
    "<div style=\"box-shadow: 0 14px 18px 0 #00264D, 0 6px 20px 0 rgba(0, 0, 0, 0.19);padding:1%;margin:6px;border-radius: 25px\">       \n",
    "  <strong> Summary: </strong><br>\n",
    "    \n",
    "Review of google conferanse about Tech research of google team which is called O/I. from 2017 t0 2019.\n",
    "\n",
    "</div></div>"
   ]
  },
  {
   "cell_type": "markdown",
   "metadata": {},
   "source": [
    "<div style=\"width:35%;height:30px;border: 4px solid black;background-color:black;color:white;text-align:center;border-radius:0px 25px 25px 0px;padding:3px\">\n",
    "    <h5> contents-Paper:  </h5>\n",
    "</div>\n",
    "\n"
   ]
  },
  {
   "cell_type": "markdown",
   "metadata": {},
   "source": [
    "<div style=\"text-align:center;height:45px\">\n",
    "<div style=\"width:49%;height:30px;position:absolute;left:0 ;border: 4px solid black;background-color:#FF8000;color:black;text-align:center;border-radius:25px 25px 25px 25px;padding:3px\">\n",
    "    <h6><a href=\"#\" style=\"position: relative;padding:5px;color:white;text-align: center;\"> Model Parallelism for Supercomputers </a></h6>\n",
    "</div>\n",
    "<div style=\"width:49%;height:30px;position:absolute;left:50% ;border: 4px solid black;background-color:white;color:black;text-align:center;border-radius:25px 25px 25px 25px;padding:3px\">\n",
    "    <h6><a href=\"#\" style=\"position: relative;padding:5px;color:white;text-align: center;\">   </a></h6>\n",
    "</div>\n",
    "</div>\n",
    "<div style=\"text-align:center;height:45px\">\n",
    "<div style=\"width:49%;height:30px;position:absolute;left:0 ;border: 4px solid black;background-color:#FF8000;color:black;text-align:center;border-radius:25px 25px 25px 25px;padding:3px\">\n",
    "    <h6><a href=\"#\" style=\"position: relative;padding:5px;color:black;text-align: center;\"> TensorFlow Extended (TFX) </a></h6>\n",
    "</div>\n",
    "<div style=\"width:49%;height:30px;position:absolute;left:50% ;border: 4px solid black;background-color:white;color:black;text-align:center;border-radius:25px 25px 25px 25px;padding:3px\">\n",
    "    <h6><a href=\"#\" style=\"position: relative;padding:5px;color:white;text-align: center;\">   </a></h6>\n",
    "</div>\n",
    "</div>\n",
    "<div style=\"text-align:center;height:45px\">\n",
    "<div style=\"width:49%;height:30px;position:absolute;left:0 ;border: 4px solid black;background-color:#FF8000;color:black;text-align:center;border-radius:25px 25px 25px 25px;padding:3px\">\n",
    "    <h6><a href=\"#\" style=\"position: relative;padding:5px;color:black;text-align: center;\"> TensorFlow high-level APIs </a></h6>\n",
    "</div>\n",
    "<div style=\"width:49%;height:30px;position:absolute;left:50% ;border: 4px solid black;background-color:black;color:black;text-align:center;border-radius:25px 25px 25px 25px;padding:3px\">\n",
    "    <h6><a href=\"#\" style=\"position: relative;padding:5px;color:white;text-align: center;\"> Loading data:  </a></h6>\n",
    "</div>\n",
    "</div>\n",
    "<div style=\"text-align:center;height:45px\">\n",
    "<div style=\"width:49%;height:30px;position:absolute;left:0 ;border: 4px solid black;background-color:white;color:black;text-align:center;border-radius:25px 25px 25px 25px;padding:3px\">\n",
    "    <h6><a href=\"#\" style=\"position: relative;padding:5px;color:white;text-align: center;\">  </a></h6>\n",
    "</div>\n",
    "<div style=\"width:49%;height:30px;position:absolute;left:50% ;border: 4px solid black;background-color:black;color:black;text-align:center;border-radius:25px 25px 25px 25px;padding:3px\">\n",
    "    <h6><a href=\"#\" style=\"position: relative;padding:5px;color:white;text-align: center;\">  Building and refining your models:  </a></h6>\n",
    "</div>\n",
    "</div>\n",
    "<div style=\"text-align:center;height:45px\">\n",
    "<div style=\"width:49%;height:30px;position:absolute;left:0 ;border: 4px solid black;background-color:#FF8000;color:black;text-align:center;border-radius:25px 25px 25px 25px;padding:3px\">\n",
    "    <h6><a href=\"#\" style=\"position: relative;padding:5px;color:black;text-align: center;\"> Cutting Edge TensorFlow: New Techniques (Google I/O'19) </a></h6>\n",
    "</div>\n",
    "<div style=\"width:49%;height:30px;position:absolute;left:50% ;border: 4px solid black;background-color:white;color:black;text-align:center;border-radius:25px 25px 25px 25px;padding:3px\">\n",
    "    <h6><a href=\"#\" style=\"position: relative;padding:5px;color:white;text-align: center;\">   </a></h6>\n",
    "</div>\n",
    "</div>\n",
    "<div style=\"text-align:center;height:45px\">\n",
    "<div style=\"width:49%;height:30px;position:absolute;left:0 ;border: 4px solid black;background-color:white;color:black;text-align:center;border-radius:25px 25px 25px 25px;padding:3px\">\n",
    "    <h6><a href=\"#\" style=\"position: relative;padding:5px;color:white;text-align: center;\">  </a></h6>\n",
    "</div>\n",
    "<div style=\"width:49%;height:30px;position:absolute;left:50% ;border: 4px solid black;background-color:white;color:black;text-align:center;border-radius:25px 25px 25px 25px;padding:3px\">\n",
    "    <h6><a href=\"#\" style=\"position: relative;padding:5px;color:white;text-align: center;\">   </a></h6>\n",
    "</div>\n",
    "</div>"
   ]
  },
  {
   "cell_type": "code",
   "execution_count": null,
   "metadata": {},
   "outputs": [],
   "source": []
  },
  {
   "cell_type": "markdown",
   "metadata": {},
   "source": [
    "<div id=\"A\" style=\"width:100%;height:atuo;border: 4px solid black;background-color:#FF8000;color:black;text-align:center;border-radius: 25px;padding:3px\">\n",
    "<div style=\"box-shadow: 0 14px 18px 0 #00264D, 0 6px 20px 0 rgba(0, 0, 0, 0.19);border-radius: 25px;padding:1%;margin:12px\">    \n",
    "    <h3>  Model Parallelism for Supercomputers </h3>\n",
    "    <h5>  Mesh-TensorFlow </h5>\n",
    "</div></div>\n"
   ]
  },
  {
   "cell_type": "markdown",
   "metadata": {},
   "source": [
    "<div style=\"border: 4px solid black;background-color:#BFE6FF;color:black;border-radius: 5px;padding:7px\">\n",
    "  <strong> Refrence: </strong><br>\n",
    "    \n",
    "\n",
    "    \n",
    "+ https://www.youtube.com/watch?v=HgGyWS40g-g    \n",
    "    \n",
    "+ https://github.com/tensorflow/mesh    \n",
    "    \n",
    "+ https://papers.nips.cc/paper/8242-mesh-tensorflow-deep-learning-for-supercomputers.pdf    \n",
    "    \n",
    "+ https://www.youtube.com/watch?v=Un0JDL3i5Hg\n",
    "    \n",
    "https://arxiv.org/pdf/1609.08144.pdf\n",
    "    \n",
    "</div>"
   ]
  },
  {
   "cell_type": "markdown",
   "metadata": {},
   "source": [
    "<div style=\"border: 4px solid #4D0033;background-color:#CC8800;color:black;border-radius: 5px;padding:7px;color:white;\">\n",
    "<div style=\"box-shadow: 0 14px 18px 0 #00264D, 0 6px 20px 0 rgba(0, 0, 0, 0.19);padding:1%;margin:6px;border-radius: 25px\">       \n",
    "  <strong> Summary: </strong><br>\n",
    "    \n",
    "         \n",
    "</div></div>"
   ]
  },
  {
   "cell_type": "code",
   "execution_count": null,
   "metadata": {},
   "outputs": [],
   "source": []
  },
  {
   "cell_type": "code",
   "execution_count": null,
   "metadata": {},
   "outputs": [],
   "source": []
  },
  {
   "cell_type": "code",
   "execution_count": null,
   "metadata": {},
   "outputs": [],
   "source": []
  },
  {
   "cell_type": "code",
   "execution_count": null,
   "metadata": {},
   "outputs": [],
   "source": []
  },
  {
   "cell_type": "markdown",
   "metadata": {},
   "source": [
    "<div id=\"A\" style=\"width:100%;height:atuo;border: 4px solid black;background-color:#FF8000;color:black;text-align:center;border-radius: 25px;padding:3px\">\n",
    "<div style=\"box-shadow: 0 14px 18px 0 #00264D, 0 6px 20px 0 rgba(0, 0, 0, 0.19);border-radius: 25px;padding:1%;margin:12px\">    \n",
    "    <h3>  TensorFlow Extended (TFX) </h3>\n",
    "    <h5>  Machine Learning Pipelines and Model Understanding  </h5>\n",
    "</div></div>"
   ]
  },
  {
   "cell_type": "markdown",
   "metadata": {},
   "source": [
    "<div style=\"border: 4px solid #4D0033;background-color:#BFE6FF;color:black;border-radius: 5px;padding:7px\">\n",
    "<div style=\"box-shadow: 0 14px 18px 0 #00264D, 0 6px 20px 0 rgba(0, 0, 0, 0.19);padding:1%;margin:6px;border-radius: 25px\">    \n",
    "  <strong> Refrence: </strong><br>\n",
    "    \n",
    "\n",
    "2. https://www.youtube.com/watch?v=drYM04t57tU   \n",
    "    \n",
    "\n",
    "</div>    \n",
    "</div>"
   ]
  },
  {
   "cell_type": "markdown",
   "metadata": {},
   "source": [
    "<div style=\"border: 4px solid #4D0033;background-color:#CC8800;color:black;border-radius: 5px;padding:7px;color:white;\">\n",
    "<div style=\"box-shadow: 0 14px 18px 0 #00264D, 0 6px 20px 0 rgba(0, 0, 0, 0.19);padding:1%;margin:6px;border-radius: 25px\">       \n",
    "  <strong> Summary: </strong><br>\n",
    "    \n",
    "         \n",
    "</div></div>"
   ]
  },
  {
   "cell_type": "code",
   "execution_count": null,
   "metadata": {},
   "outputs": [],
   "source": []
  },
  {
   "cell_type": "code",
   "execution_count": null,
   "metadata": {},
   "outputs": [],
   "source": []
  },
  {
   "cell_type": "markdown",
   "metadata": {},
   "source": [
    "<div id=\"A\" style=\"width:100%;height:atuo;border: 4px solid black;background-color:#FF8000;color:black;text-align:center;border-radius: 25px;padding:3px\">\n",
    "    <div style=\"box-shadow: 0 14px 18px 0 #00264D, 0 6px 20px 0 rgba(0, 0, 0, 0.19);padding:0.5%;margin:6px;border-radius: 25px\"> \n",
    "    <h4><b>  TensorFlow high-level APIs  </b></h4>\n",
    "</div></div>"
   ]
  },
  {
   "cell_type": "markdown",
   "metadata": {},
   "source": [
    "<div style=\"border: 4px solid #4D0033;background-color:#BFE6FF;color:black;border-radius: 5px;padding:7px\">\n",
    "<div style=\"box-shadow: 0 14px 18px 0 #00264D, 0 6px 20px 0 rgba(0, 0, 0, 0.19);padding:1%;margin:6px;border-radius: 25px\">    \n",
    "  <strong> Refrence:[3] </strong><br>\n",
    "    \n",
    "\n",
    "+ Part_1 (Loading data): https://www.youtube.com/watch?v=oFFbKogYdfc&t=84s\n",
    "    \n",
    "+ Part_2: https://www.youtube.com/watch?v=TOP2aLxcuu8\n",
    "    \n",
    "+ Part_3: https://www.youtube.com/watch?v=ChidCgtd1Lw&frags=pl%2Cwn    \n",
    "\n",
    "</div>    \n",
    "</div>"
   ]
  },
  {
   "cell_type": "markdown",
   "metadata": {},
   "source": [
    "<div style=\"border: 4px solid #4D0033;background-color:#CC8800;color:black;border-radius: 5px;padding:7px;color:white;\">\n",
    "<div style=\"box-shadow: 0 14px 18px 0 #00264D, 0 6px 20px 0 rgba(0, 0, 0, 0.19);padding:1%;margin:6px;border-radius: 25px\">       \n",
    "  <strong> Summary: </strong><br>\n",
    "    \n",
    "Tesndorflow dataset is similar numpy and pandas can read and process data, but instead of beging optimized for in-memory analysis, it desgine to take data, run set of operations  to process and consume that data for training. tensorflow  read data our data from disk and parse csv, and process the incoming data as a vector of 55 integers          \n",
    "</div></div>"
   ]
  },
  {
   "cell_type": "markdown",
   "metadata": {},
   "source": [
    "<div id=\"\"  style=\"height:55px\">\n",
    "<div style=\"position:absolute;width:40%;height:40px;border: 4px solid black;background-color:black;color:white;text-align:center;border-radius:0px 0px 0px 0px;padding:3px;box-shadow: 0 4px 8px 0 grey, 0 6px 20px 0 rgba(0, 0, 0, 0.19);border-radius:0 25px 25px 0;\">\n",
    "<div style=\"box-shadow: 0 14px 18px 0 white, 0 6px 20px 0 rgba(0, 0, 0, 0.19);padding:0.1%;margin:1px;border-radius: 25px;height:5px \">     \n",
    "    <h5> Loading data  </h5>\n",
    "</div>\n",
    "</div>   \n",
    "</div>"
   ]
  },
  {
   "cell_type": "code",
   "execution_count": 9,
   "metadata": {},
   "outputs": [],
   "source": [
    "import pandas as pd"
   ]
  },
  {
   "cell_type": "code",
   "execution_count": 11,
   "metadata": {},
   "outputs": [
    {
     "data": {
      "text/plain": [
       "Index(['User_ID', 'label', 'Education_Status', 'Name', 'Gender', 'Age',\n",
       "       'No_Children', 'referrals', 'loan_ident', 'Amount', 'Campaign',\n",
       "       'Reason'],\n",
       "      dtype='object')"
      ]
     },
     "execution_count": 11,
     "metadata": {},
     "output_type": "execute_result"
    }
   ],
   "source": [
    "df = pd.read_csv(url)\n",
    "df.columns "
   ]
  },
  {
   "cell_type": "code",
   "execution_count": 1,
   "metadata": {},
   "outputs": [],
   "source": [
    "import tensorflow as tf\n",
    "tf.enable_eager_execution()"
   ]
  },
  {
   "cell_type": "code",
   "execution_count": null,
   "metadata": {},
   "outputs": [],
   "source": []
  },
  {
   "cell_type": "code",
   "execution_count": 2,
   "metadata": {},
   "outputs": [
    {
     "name": "stdout",
     "output_type": "stream",
     "text": [
      "tf.Tensor(6, shape=(), dtype=int32)\n"
     ]
    }
   ],
   "source": [
    "a = tf.constant(3)\n",
    "b = a+3\n",
    "print(b)"
   ]
  },
  {
   "cell_type": "code",
   "execution_count": 4,
   "metadata": {},
   "outputs": [
    {
     "data": {
      "text/html": [
       "<tf.tensor: id=3, shape() , dtype=int32, numpy=15 >\n"
      ],
      "text/plain": [
       "<IPython.core.display.HTML object>"
      ]
     },
     "metadata": {},
     "output_type": "display_data"
    }
   ],
   "source": [
    "%%html\n",
    "<tf.tensor: id=3, shape() , dtype=int32, numpy=15 >"
   ]
  },
  {
   "cell_type": "code",
   "execution_count": 5,
   "metadata": {},
   "outputs": [],
   "source": [
    "url = '/Users/apple/Documents/Programming/pyfile/DataBase/Data_Science_Case_Study_Data.csv'\n",
    "defults = [tf.float32]* 55\n",
    "dataset = tf.contrib.data.CsvDataset([url], defults)"
   ]
  },
  {
   "cell_type": "code",
   "execution_count": 8,
   "metadata": {},
   "outputs": [
    {
     "name": "stdout",
     "output_type": "stream",
     "text": [
      "<TakeDataset shapes: ((), (), (), (), (), (), (), (), (), (), (), (), (), (), (), (), (), (), (), (), (), (), (), (), (), (), (), (), (), (), (), (), (), (), (), (), (), (), (), (), (), (), (), (), (), (), (), (), (), (), (), (), (), (), ()), types: (tf.float32, tf.float32, tf.float32, tf.float32, tf.float32, tf.float32, tf.float32, tf.float32, tf.float32, tf.float32, tf.float32, tf.float32, tf.float32, tf.float32, tf.float32, tf.float32, tf.float32, tf.float32, tf.float32, tf.float32, tf.float32, tf.float32, tf.float32, tf.float32, tf.float32, tf.float32, tf.float32, tf.float32, tf.float32, tf.float32, tf.float32, tf.float32, tf.float32, tf.float32, tf.float32, tf.float32, tf.float32, tf.float32, tf.float32, tf.float32, tf.float32, tf.float32, tf.float32, tf.float32, tf.float32, tf.float32, tf.float32, tf.float32, tf.float32, tf.float32, tf.float32, tf.float32, tf.float32, tf.float32, tf.float32)>\n"
     ]
    }
   ],
   "source": [
    "print(dataset.take(1))"
   ]
  },
  {
   "cell_type": "code",
   "execution_count": 18,
   "metadata": {},
   "outputs": [],
   "source": [
    "col_names = ['User_ID', 'label', 'Education_Status', 'Name', 'Gender', 'Age','No_Children', 'referrals', 'loan_ident', 'Amount', 'Campaign','Reason']\n",
    "def _parse_csv_row(*vals):\n",
    "    soil_type_t = tf.convert_to_tensor(vals[14:54 ])\n",
    "    feat_vals = vals[:10]+(soil_type_t, vals[54])\n",
    "    features  = dict(zip(col_names, feat_vals))\n",
    "    \n",
    "    class_labels = tf.argmax(vals[10:14], axis=6)\n",
    "    \n",
    "    return features, class_labels"
   ]
  },
  {
   "cell_type": "code",
   "execution_count": 20,
   "metadata": {},
   "outputs": [],
   "source": [
    "dataset = dataset.map(_parse_csv_row).batch(64)"
   ]
  },
  {
   "cell_type": "code",
   "execution_count": 21,
   "metadata": {},
   "outputs": [
    {
     "name": "stdout",
     "output_type": "stream",
     "text": [
      "<TakeDataset shapes: ({User_ID: (?,), label: (?,), Education_Status: (?,), Name: (?,), Gender: (?,), Age: (?,), No_Children: (?,), referrals: (?,), loan_ident: (?,), Amount: (?,), Campaign: (?, 40), Reason: (?,)}, (?,)), types: ({User_ID: tf.float32, label: tf.float32, Education_Status: tf.float32, Name: tf.float32, Gender: tf.float32, Age: tf.float32, No_Children: tf.float32, referrals: tf.float32, loan_ident: tf.float32, Amount: tf.float32, Campaign: tf.float32, Reason: tf.float32}, tf.int64)>\n"
     ]
    }
   ],
   "source": [
    "print(dataset.take(1))"
   ]
  },
  {
   "cell_type": "code",
   "execution_count": null,
   "metadata": {},
   "outputs": [],
   "source": []
  },
  {
   "cell_type": "markdown",
   "metadata": {},
   "source": [
    "<div id=\"\"  style=\"height:55px\">\n",
    "<div style=\"position:absolute;width:40%;height:40px;border: 4px solid black;background-color:black;color:white;text-align:center;border-radius:0px 0px 0px 0px;padding:3px;box-shadow: 0 4px 8px 0 grey, 0 6px 20px 0 rgba(0, 0, 0, 0.19);border-radius:0 25px 25px 0;\">\n",
    "<div style=\"box-shadow: 0 14px 18px 0 white, 0 6px 20px 0 rgba(0, 0, 0, 0.19);padding:0.1%;margin:1px;border-radius: 25px;height:5px \">     \n",
    "    <h5>  going deep on data and features  </h5>\n",
    "</div>\n",
    "</div>   \n",
    "</div>"
   ]
  },
  {
   "cell_type": "code",
   "execution_count": null,
   "metadata": {},
   "outputs": [],
   "source": [
    "# cover_type/ integer/1 to 7\n",
    "cover_type = tf.feature_column.categorical_column_with_identity('cover_type',num_buckets=8) # it is more for non-numric datas \n",
    "\n",
    "cover_embedding  = tf.feature_column.embedding_column(cover_type,dimension=10)# convert text to one-hot vector manually \n",
    "# advanatgees of tf.feature_column is that it is part of the model's graph , and can therefore be exported with the save model"
   ]
  },
  {
   "cell_type": "code",
   "execution_count": null,
   "metadata": {},
   "outputs": [],
   "source": [
    "# we can define feature_columns for each of features. \n",
    "numrices_features = [tf.feature_column.numeric_column(feat) for feat in numeric_cols]"
   ]
  },
  {
   "cell_type": "code",
   "execution_count": null,
   "metadata": {},
   "outputs": [],
   "source": [
    "# soil_type() (40 binary columns)\n",
    "soil_type = tf.feature_column.numeric_column(soil_type,shape=(40,))"
   ]
  },
  {
   "cell_type": "code",
   "execution_count": null,
   "metadata": {},
   "outputs": [],
   "source": [
    "columns = numric_features + [soil_type, cover_embedding ]\n",
    "\n",
    "#feature_layer = tf.keras.layers.Dense(columns)"
   ]
  },
  {
   "cell_type": "code",
   "execution_count": null,
   "metadata": {},
   "outputs": [],
   "source": [
    "model = tf.keras.models.Sequential([feature_layers, \n",
    "                                    tf.keras.layes.Dense(256),\n",
    "                                    tf.keras.layes.Dense(16),\n",
    "                                    tf.keras.layes.Dense(8),\n",
    "                                    tf.keras.layes.Dense(1),\n",
    "                                   ])"
   ]
  },
  {
   "cell_type": "code",
   "execution_count": null,
   "metadata": {},
   "outputs": [],
   "source": []
  },
  {
   "cell_type": "markdown",
   "metadata": {},
   "source": [
    "<div id=\"\"  style=\"height:55px\">\n",
    "<div style=\"position:absolute;width:40%;height:40px;border: 4px solid black;background-color:black;color:white;text-align:center;border-radius:0px 0px 0px 0px;padding:3px;box-shadow: 0 4px 8px 0 grey, 0 6px 20px 0 rgba(0, 0, 0, 0.19);border-radius:0 25px 25px 0;\">\n",
    "<div style=\"box-shadow: 0 14px 18px 0 white, 0 6px 20px 0 rgba(0, 0, 0, 0.19);padding:0.1%;margin:1px;border-radius: 25px;height:5px \">     \n",
    "    <h5>   Building and refining your models </h5>\n",
    "</div>\n",
    "</div>   \n",
    "</div>"
   ]
  },
  {
   "cell_type": "code",
   "execution_count": null,
   "metadata": {},
   "outputs": [],
   "source": []
  },
  {
   "cell_type": "code",
   "execution_count": 23,
   "metadata": {},
   "outputs": [],
   "source": [
    "col_names = ['User_ID', 'label', 'Education_Status', 'Name', 'Gender', 'Age','No_Children', 'referrals', 'loan_ident', 'Amount', 'Campaign','Reason']\n",
    "def _parse_csv_row(*vals):\n",
    "    soil_type_t = tf.convert_to_tensor(vals[14:54 ])\n",
    "    feat_vals = vals[:10]+(soil_type_t, vals[54])\n",
    "    features  = dict(zip(col_names, feat_vals))\n",
    "    \n",
    "    class_labels = tf.argmax(vals[10:14], axis=6)\n",
    "    \n",
    "    return features, class_labels"
   ]
  },
  {
   "cell_type": "code",
   "execution_count": null,
   "metadata": {},
   "outputs": [],
   "source": [
    "def load_data(*filename):\n",
    "    dataset = tf.contrib.data.CsvDataset(filename, records_defaults)\n",
    "    dataset = dataset.map(_parse_csv_row)\n",
    "    dataset = dataset.batch(64)"
   ]
  },
  {
   "cell_type": "code",
   "execution_count": null,
   "metadata": {},
   "outputs": [],
   "source": [
    "url = '/Users/apple/Documents/Programming/pyfile/DataBase/Data_Science_Case_Study_Data.csv'\n",
    "defults = [tf.float32]* 55"
   ]
  },
  {
   "cell_type": "code",
   "execution_count": null,
   "metadata": {},
   "outputs": [],
   "source": [
    "model = tf.keras.models.Sequential([feature_layers, \n",
    "                                    tf.keras.layes.Dense(256),\n",
    "                                    tf.keras.layes.Dense(16),\n",
    "                                    tf.keras.layes.Dense(8),\n",
    "                                    tf.keras.layes.Dense(1, activation=tf.nn.softmax),\n",
    "                                   ])"
   ]
  },
  {
   "cell_type": "code",
   "execution_count": null,
   "metadata": {},
   "outputs": [],
   "source": [
    "model = tf.estimator.DNNLinearCombinedClassifier(linear_feature_columns=[Cover_type,soil_type],\n",
    "                                                 dnn_feature_columns=numeric_features,\n",
    "                                                 dnn_hidden_units=[256,16,8,1],\n",
    "                                                 n_classes=2)"
   ]
  },
  {
   "cell_type": "code",
   "execution_count": null,
   "metadata": {},
   "outputs": [],
   "source": [
    "model.compile(optimizer=tf.train.AdamOptimizer, loss = tf.keras.losses.sparse_categorical_crossentropy, metrics=['acc'])\n"
   ]
  },
  {
   "cell_type": "code",
   "execution_count": null,
   "metadata": {},
   "outputs": [],
   "source": [
    "model.fit(dataset, steps_per_epochs = NUM_TRAIN_EXAMPLES/64)"
   ]
  },
  {
   "cell_type": "code",
   "execution_count": null,
   "metadata": {},
   "outputs": [],
   "source": [
    "loss, accoracy = model.evaluate(test_data, steps=50)\n",
    "print('loss:',loss)\n",
    "print('accoracy :',accoracy )"
   ]
  },
  {
   "cell_type": "code",
   "execution_count": null,
   "metadata": {},
   "outputs": [],
   "source": [
    "export_dir = tf.contrib.saved_model(model, 'keras_nn')"
   ]
  },
  {
   "cell_type": "code",
   "execution_count": null,
   "metadata": {},
   "outputs": [],
   "source": []
  },
  {
   "cell_type": "markdown",
   "metadata": {},
   "source": [
    "<div id=\"A\" style=\"width:100%;height:atuo;border: 4px solid black;background-color:#FF8000;color:black;text-align:center;border-radius: 25px;padding:3px\">\n",
    "    <div style=\"box-shadow: 0 14px 48px 0 #00264D, 0 6px 20px 0 rgba(0, 0, 0, 0.19);padding:0.5%;margin:6px;border-radius: 25px\"> \n",
    "    <h4><b>  Cutting Edge TensorFlow: New Techniques (Google I/O'19)  </b></h4>\n",
    "</div></div>"
   ]
  },
  {
   "cell_type": "markdown",
   "metadata": {},
   "source": [
    "<div style=\"border: 4px solid #4D0033;background-color:#BFE6FF;color:black;border-radius: 5px;padding:7px\">\n",
    "<div style=\"box-shadow: 0 4px 8px 0 #00264D, 0 6px 20px 0 rgba(0, 0, 0, 0.19);padding:1%;margin:6px;border-radius: 25px\">    \n",
    "  <strong> Refrence: </strong><br>\n",
    "    \n",
    "\n",
    "4. https://www.youtube.com/watch?v=Un0JDL3i5Hg\n",
    "    \n",
    "\n",
    "</div>    \n",
    "</div>"
   ]
  },
  {
   "cell_type": "markdown",
   "metadata": {},
   "source": [
    "<div style=\"border: 4px solid #4D0033;background-color:#CC8800;color:black;border-radius: 5px;padding:7px;color:white;\">\n",
    "<div style=\"box-shadow: 0 14px 18px 0 #00264D, 0 6px 20px 0 rgba(0, 0, 0, 0.19);padding:1%;margin:6px\">       \n",
    "  <strong> Summary: </strong><br>\n",
    "     \n",
    "</div></div>"
   ]
  },
  {
   "cell_type": "code",
   "execution_count": 27,
   "metadata": {},
   "outputs": [
    {
     "name": "stderr",
     "output_type": "stream",
     "text": [
      "UsageError: Cell magic `%%Swift` not found.\n"
     ]
    }
   ],
   "source": []
  },
  {
   "cell_type": "code",
   "execution_count": null,
   "metadata": {},
   "outputs": [],
   "source": []
  },
  {
   "cell_type": "markdown",
   "metadata": {},
   "source": [
    "<div id=\"A\" style=\"width:100%;height:atuo;border: 4px solid black;background-color:#FF8000;color:black;text-align:center;border-radius: 25px;padding:3px\">\n",
    "    <div style=\"box-shadow: 0 14px 48px 0 #00264D, 0 6px 20px 0 rgba(0, 0, 0, 0.19);padding:0.5%;margin:6px;border-radius: 25px\"> \n",
    "    <h4><b>  Pipline and tf.data  </b></h4>\n",
    "</div></div>"
   ]
  },
  {
   "cell_type": "markdown",
   "metadata": {},
   "source": [
    "<div style=\"border: 4px solid #4D0033;background-color:#BFE6FF;color:black;border-radius: 5px;padding:7px\">\n",
    "<div style=\"box-shadow: 0 4px 8px 0 #00264D, 0 6px 20px 0 rgba(0, 0, 0, 0.19);padding:1%;margin:6px;border-radius: 25px\">    \n",
    "  <strong> Refrence: </strong><br>\n",
    "    \n",
    "\n",
    "5. Google I/O '18: https://www.youtube.com/watch?v=tjsHSIG8I08&frags=wn \n",
    "    \n",
    "- TensorFlow Dev Summit 2018: https://www.youtube.com/watch?v=uIcqeP7MFH0\n",
    "    \n",
    "- TensorFlow Meets: https://www.youtube.com/watch?v=EHHdyM3NNiA   \n",
    "\n",
    "</div>    \n",
    "</div>"
   ]
  },
  {
   "cell_type": "markdown",
   "metadata": {},
   "source": [
    "<div style=\"border: 4px solid #4D0033;background-color:#CC8800;color:black;border-radius: 5px;padding:7px;color:white;\">\n",
    "<div style=\"box-shadow: 0 14px 18px 0 #00264D, 0 6px 20px 0 rgba(0, 0, 0, 0.19);padding:1%;margin:6px\">       \n",
    "  <strong> Summary: </strong><br>\n",
    " \n",
    "ETL is Exporting, transformering and loading pipline process.     \n",
    "</div></div>"
   ]
  },
  {
   "cell_type": "code",
   "execution_count": 2,
   "metadata": {},
   "outputs": [],
   "source": [
    "import tensorflow as tf\n",
    "files_pattern = \"/Users/apple/Documents/Programming/pyfile/DataBase/Collection/Collected_News/Apple\""
   ]
  },
  {
   "cell_type": "code",
   "execution_count": null,
   "metadata": {},
   "outputs": [],
   "source": []
  },
  {
   "cell_type": "code",
   "execution_count": null,
   "metadata": {},
   "outputs": [],
   "source": [
    "#ETL for tesnorflow:\n",
    "NUM_EPOCHS = \n",
    "BATCH_SIZE = \n",
    "features = \n",
    "\n",
    "# Export:\n",
    "files_pattern = \"/Users/apple/Documents/Programming/pyfile/DataBase/Collection/Collected_News/Apple\"\n",
    "files = tf.data.Dataset.list_files(files_pattern)\n",
    "dataset = tf.data.TFRecordDataset(files )\n",
    "\n",
    "#Per-process data (a transformer data)\n",
    "dataset = dataset.shuffle(10000)\n",
    "dataset = dataset.repeat(NUM_EPOCHS)\n",
    "dataset = dataset.map(lambda x: tf.parse_single_example(x, features))\n",
    "dataset = dataset.batch(BATCH_SIZE)\n",
    "\n",
    "#load dataset\n",
    "iterator = dataset.make_one_shot_iterator()\n",
    "feature = iterator.get_next()"
   ]
  },
  {
   "cell_type": "code",
   "execution_count": null,
   "metadata": {},
   "outputs": [],
   "source": []
  },
  {
   "cell_type": "code",
   "execution_count": null,
   "metadata": {},
   "outputs": [],
   "source": [
    "# Export:\n",
    "files_pattern = \"/Users/apple/Documents/Programming/pyfile/DataBase/Collection/Collected_News/Apple\"\n",
    "files = tf.data.Dataset.list_files(files_pattern)\n",
    "dataset = tf.data.TFRecordDataset(files, num_parallel_reads=32)\n",
    "\n",
    "#Per-process data (a transformer data)\n",
    "dataset = dataset.apply(tf.contrib.data.shuffle_and_repeat(10000,NUM_EPOCHS ))\n",
    "dataset = dataset.apply(tf.contrib.data.map_and_batch(lambda x: tf.parse_single_example(x, features), BATCH_SIZE))\n",
    "\n",
    "#load dataset\n",
    "dataset = dataset.apply(tf.contrib.data.prefetch_to_device('/gpu:0'))\n",
    "iterator = dataset.make_one_shot_iterator()\n",
    "feature = iterator.get_next()"
   ]
  },
  {
   "cell_type": "code",
   "execution_count": null,
   "metadata": {},
   "outputs": [],
   "source": []
  },
  {
   "cell_type": "code",
   "execution_count": null,
   "metadata": {},
   "outputs": [],
   "source": [
    "dataset = tf.contrib.data.make_csv_dataset(\"*.csv\", batch_size=BATCH_SIZE, num_epochs=EPOCHS)"
   ]
  },
  {
   "cell_type": "code",
   "execution_count": 22,
   "metadata": {},
   "outputs": [],
   "source": [
    "import TF_tutrial_CNN_A as TF_A"
   ]
  },
  {
   "cell_type": "code",
   "execution_count": null,
   "metadata": {},
   "outputs": [],
   "source": [
    "tf.estimator.Estimator(model_fn= train_model).train(input_fn=input_fn)"
   ]
  },
  {
   "cell_type": "code",
   "execution_count": null,
   "metadata": {},
   "outputs": [],
   "source": []
  },
  {
   "cell_type": "markdown",
   "metadata": {},
   "source": [
    "<div id=\"A\" style=\"width:100%;height:atuo;border: 4px solid black;background-color:#FF8000;color:black;text-align:center;border-radius: 25px;padding:3px\">\n",
    "    <div style=\"box-shadow: 0 14px 48px 0 #00264D, 0 6px 20px 0 rgba(0, 0, 0, 0.19);padding:0.5%;margin:6px;border-radius: 25px\"> \n",
    "    <h4><b>  TensorFlow Datasets </b></h4>\n",
    "</div></div>"
   ]
  },
  {
   "cell_type": "markdown",
   "metadata": {},
   "source": [
    "<div style=\"border: 4px solid #4D0033;background-color:#BFE6FF;color:black;border-radius: 5px;padding:7px\">\n",
    "<div style=\"box-shadow: 0 4px 8px 0 #00264D, 0 6px 20px 0 rgba(0, 0, 0, 0.19);padding:1%;margin:6px;border-radius: 25px\">    \n",
    "  <strong> Refrence: </strong><br>\n",
    "    \n",
    "\n",
    "6.TensorFlow Dev Summit 2019: https://www.youtube.com/watch?v=-nTe44WT0ZI\n",
    "\n",
    "\n",
    "</div>    \n",
    "</div>"
   ]
  },
  {
   "cell_type": "markdown",
   "metadata": {},
   "source": [
    "<div style=\"border: 4px solid #4D0033;background-color:#CC8800;color:black;border-radius: 5px;padding:7px;color:white;\">\n",
    "<div style=\"box-shadow: 0 14px 18px 0 #00264D, 0 6px 20px 0 rgba(0, 0, 0, 0.19);padding:1%;margin:6px\">       \n",
    "  <strong> Summary: </strong><br>\n",
    " \n",
    "\n",
    "</div></div>"
   ]
  },
  {
   "cell_type": "code",
   "execution_count": null,
   "metadata": {},
   "outputs": [],
   "source": [
    "import tensorflow_datasets as tfds"
   ]
  },
  {
   "cell_type": "code",
   "execution_count": null,
   "metadata": {},
   "outputs": [],
   "source": [
    "train_ds = tfsd.load('fashion_mnist',split='train',as_supervised=True)\n",
    "train_ds = train_ds.shuffle(1024).batch(128)\n",
    "for inputs,targets in train_ds.repeat(10):\n",
    "    \"\"\" ... \"\"\"\n",
    "    pass"
   ]
  },
  {
   "cell_type": "code",
   "execution_count": 25,
   "metadata": {},
   "outputs": [
    {
     "name": "stdout",
     "output_type": "stream",
     "text": [
      "Collecting tensorflow_datasets\n",
      "\u001b[?25l  Downloading https://files.pythonhosted.org/packages/15/11/ce86b45cb41de8490d2f27f76ad5fe2f75d6eaac1c21f4a12baf1875882e/tensorflow_datasets-1.0.2-py3-none-any.whl (682kB)\n",
      "\u001b[K     |████████████████████████████████| 686kB 1.2MB/s \n",
      "\u001b[?25hRequirement already satisfied: absl-py in /anaconda3/lib/python3.6/site-packages (from tensorflow_datasets) (0.6.1)\n",
      "Requirement already satisfied: promise in /anaconda3/lib/python3.6/site-packages (from tensorflow_datasets) (2.2.1)\n",
      "Requirement already satisfied: numpy in /anaconda3/lib/python3.6/site-packages (from tensorflow_datasets) (1.15.0)\n",
      "Collecting tensorflow-metadata (from tensorflow_datasets)\n",
      "  Downloading https://files.pythonhosted.org/packages/08/b7/3fc74574aa9aff44491cce996711dd6094653c20d9e2800be4efb054e0da/tensorflow_metadata-0.13.0-py3-none-any.whl\n",
      "Requirement already satisfied: dill in /anaconda3/lib/python3.6/site-packages (from tensorflow_datasets) (0.2.9)\n",
      "Requirement already satisfied: termcolor in /anaconda3/lib/python3.6/site-packages (from tensorflow_datasets) (1.1.0)\n",
      "Requirement already satisfied: requests in /anaconda3/lib/python3.6/site-packages (from tensorflow_datasets) (2.18.4)\n",
      "Requirement already satisfied: wrapt in /anaconda3/lib/python3.6/site-packages (from tensorflow_datasets) (1.10.11)\n",
      "Requirement already satisfied: six in /anaconda3/lib/python3.6/site-packages (from tensorflow_datasets) (1.10.0)\n",
      "Requirement already satisfied: psutil in /anaconda3/lib/python3.6/site-packages (from tensorflow_datasets) (5.4.8)\n",
      "Requirement already satisfied: future in /anaconda3/lib/python3.6/site-packages (from tensorflow_datasets) (0.17.1)\n",
      "Requirement already satisfied: protobuf>=3.6.1 in /anaconda3/lib/python3.6/site-packages (from tensorflow_datasets) (3.6.1)\n",
      "Requirement already satisfied: tqdm in /anaconda3/lib/python3.6/site-packages (from tensorflow_datasets) (4.28.1)\n",
      "Collecting googleapis-common-protos (from tensorflow-metadata->tensorflow_datasets)\n",
      "  Downloading https://files.pythonhosted.org/packages/eb/ee/e59e74ecac678a14d6abefb9054f0bbcb318a6452a30df3776f133886d7d/googleapis-common-protos-1.6.0.tar.gz\n",
      "Requirement already satisfied: urllib3<1.23,>=1.21.1 in /anaconda3/lib/python3.6/site-packages (from requests->tensorflow_datasets) (1.22)\n",
      "Requirement already satisfied: chardet<3.1.0,>=3.0.2 in /anaconda3/lib/python3.6/site-packages (from requests->tensorflow_datasets) (3.0.4)\n",
      "Requirement already satisfied: idna<2.7,>=2.5 in /anaconda3/lib/python3.6/site-packages (from requests->tensorflow_datasets) (2.6)\n",
      "Requirement already satisfied: certifi>=2017.4.17 in /anaconda3/lib/python3.6/site-packages (from requests->tensorflow_datasets) (2019.3.9)\n",
      "Requirement already satisfied: setuptools in /anaconda3/lib/python3.6/site-packages (from protobuf>=3.6.1->tensorflow_datasets) (39.1.0)\n",
      "Building wheels for collected packages: googleapis-common-protos\n",
      "  Building wheel for googleapis-common-protos (setup.py) ... \u001b[?25ldone\n",
      "\u001b[?25h  Stored in directory: /Users/apple/Library/Caches/pip/wheels/9e/3d/a2/1bec8bb7db80ab3216dbc33092bb7ccd0debfb8ba42b5668d5\n",
      "Successfully built googleapis-common-protos\n",
      "\u001b[31mERROR: tensorflow-metadata 0.13.0 has requirement protobuf<4,>=3.7, but you'll have protobuf 3.6.1 which is incompatible.\u001b[0m\n",
      "Installing collected packages: googleapis-common-protos, tensorflow-metadata, tensorflow-datasets\n",
      "Successfully installed googleapis-common-protos-1.6.0 tensorflow-datasets-1.0.2 tensorflow-metadata-0.13.0\n"
     ]
    }
   ],
   "source": [
    "#!pip install tensorflow_datasets"
   ]
  },
  {
   "cell_type": "markdown",
   "metadata": {},
   "source": [
    "<div id=\"A\" style=\"width:100%;height:atuo;border: 4px solid black;background-color:#FF8000;color:black;text-align:center;border-radius: 25px;padding:3px\">\n",
    "    <div style=\"box-shadow: 0 14px 48px 0 #00264D, 0 6px 20px 0 rgba(0, 0, 0, 0.19);padding:0.5%;margin:6px;border-radius: 25px\"> \n",
    "    <h4><b>  A user’s guide to converge faster  </b></h4>\n",
    "</div></div>"
   ]
  },
  {
   "cell_type": "markdown",
   "metadata": {},
   "source": [
    "<div style=\"border: 4px solid #4D0033;background-color:#BFE6FF;color:black;border-radius: 5px;padding:7px\">\n",
    "<div style=\"box-shadow: 0 4px 8px 0 #00264D, 0 6px 20px 0 rgba(0, 0, 0, 0.19);padding:1%;margin:6px;border-radius: 25px\">    \n",
    "  <strong> Refrence: </strong><br>\n",
    "    \n",
    "\n",
    "7.TensorFlow Dev Summit 2018: https://www.youtube.com/watch?v=SxOsJPaxHME&t=33s\n",
    "\n",
    "\n",
    "</div>    \n",
    "</div>"
   ]
  },
  {
   "cell_type": "markdown",
   "metadata": {},
   "source": [
    "<div style=\"border: 4px solid #4D0033;background-color:#CC8800;color:black;border-radius: 5px;padding:7px;color:white;\">\n",
    "<div style=\"box-shadow: 0 14px 18px 0 #00264D, 0 6px 20px 0 rgba(0, 0, 0, 0.19);padding:1%;margin:6px\">       \n",
    "  <strong> Summary: </strong><br>\n",
    " \n",
    "\n",
    "</div></div>"
   ]
  },
  {
   "cell_type": "code",
   "execution_count": null,
   "metadata": {},
   "outputs": [],
   "source": []
  },
  {
   "cell_type": "code",
   "execution_count": null,
   "metadata": {},
   "outputs": [],
   "source": []
  },
  {
   "cell_type": "markdown",
   "metadata": {},
   "source": [
    "<div id=\"A\" style=\"width:100%;height:atuo;border: 4px solid black;background-color:#FF8000;color:black;text-align:center;border-radius: 25px;padding:3px\">\n",
    "    <div style=\"box-shadow: 0 14px 48px 0 #00264D, 0 6px 20px 0 rgba(0, 0, 0, 0.19);padding:0.5%;margin:6px;border-radius: 25px\"> \n",
    "    <h4><b>  TensorFlow Hub: Reusable Machine Learning (TF Dev Summit '19)  </b></h4>\n",
    "</div></div>"
   ]
  },
  {
   "cell_type": "markdown",
   "metadata": {},
   "source": [
    "<div style=\"border: 4px solid #4D0033;background-color:#BFE6FF;color:black;border-radius: 5px;padding:7px\">\n",
    "<div style=\"box-shadow: 0 4px 8px 0 #00264D, 0 6px 20px 0 rgba(0, 0, 0, 0.19);padding:1%;margin:6px;border-radius: 25px\">    \n",
    "  <strong> Refrence: </strong><br>\n",
    "    \n",
    "\n",
    "8.TF_hub: https://www.youtube.com/watch?v=y_qUJIfkbPs&list=PLQY2H8rRoyvzoUYI26kHmKSJBedn3SQuB&index=15   \n",
    "\n",
    "<hr>    \n",
    "    \n",
    "- https://tfhub.dev    \n",
    "    \n",
    "    \n",
    "- https://www.tensorflow.org/hub/api_docs/python/hub/Module  \n",
    "    \n",
    "_ BERT: https://tfhub.dev/s?q=BERT    \n",
    "\n",
    "</div>    \n",
    "</div>"
   ]
  },
  {
   "cell_type": "markdown",
   "metadata": {},
   "source": [
    "<div style=\"border: 4px solid #4D0033;background-color:#CC8800;color:black;border-radius: 5px;padding:7px;color:white;\">\n",
    "<div style=\"box-shadow: 0 14px 18px 0 #00264D, 0 6px 20px 0 rgba(0, 0, 0, 0.19);padding:1%;margin:6px\">       \n",
    "  <strong> Summary: </strong><br>\n",
    " \n",
    "\n",
    "Tf_Hub mudle:(https://tfhub.dev)\n",
    "    \n",
    "1. GLoVe,\n",
    "2. Universal,\n",
    "3. BERT\n",
    "    \n",
    "4. object detection \n",
    "5. BigGAN/progressive GAN\n",
    "6. Text & Image features\n",
    "    \n",
    "7. video action recognation\n",
    "    \n",
    "    \n",
    "8. TFJS\n",
    "9. AdaNet    \n",
    "10. TF-trasnform    \n",
    "    \n",
    "</div></div>"
   ]
  },
  {
   "cell_type": "code",
   "execution_count": 27,
   "metadata": {},
   "outputs": [],
   "source": [
    "import tensorflow as tf\n",
    "import tensorflow_hub as tf_hub"
   ]
  },
  {
   "cell_type": "code",
   "execution_count": null,
   "metadata": {},
   "outputs": [],
   "source": [
    "model = tf.keras.models.Sequential([tf_hub.KerasLayer(\"/tmp/text_embedding_model\", output_shape=[128]), # it is for TF 2.0 , \n",
    "                                  tf.keras.layers.Dense(16, activation='relu'),\n",
    "                                  tf.keras.layers.Dense(1, activation='softmax')])\n",
    "\n",
    "model.fit()\n",
    "model.predict()"
   ]
  },
  {
   "cell_type": "code",
   "execution_count": null,
   "metadata": {},
   "outputs": [],
   "source": []
  },
  {
   "cell_type": "markdown",
   "metadata": {},
   "source": [
    "<div id=\"A\" style=\"width:100%;height:atuo;border: 4px solid black;background-color:#FF8000;color:black;text-align:center;border-radius: 25px;padding:3px\">\n",
    "    <div style=\"box-shadow: 0 14px 48px 0 #00264D, 0 6px 20px 0 rgba(0, 0, 0, 0.19);padding:0.5%;margin:6px;border-radius: 25px\"> \n",
    "    <h4><b>  Improving Text In Tensorflow (TF Dev Summit ‘19)-2.0  </b></h4>\n",
    "</div></div>"
   ]
  },
  {
   "cell_type": "markdown",
   "metadata": {},
   "source": [
    "<div style=\"border: 4px solid #4D0033;background-color:#BFE6FF;color:black;border-radius: 5px;padding:7px\">\n",
    "<div style=\"box-shadow: 0 4px 8px 0 #00264D, 0 6px 20px 0 rgba(0, 0, 0, 0.19);padding:1%;margin:6px;border-radius: 25px\">    \n",
    "  <strong> Refrence: </strong><br>\n",
    "    \n",
    "\n",
    "8. https://www.youtube.com/watch?v=D1c2pi624X4 \n",
    "\n",
    "<hr>    \n",
    "    \n",
    "\n",
    "\n",
    "</div>    \n",
    "</div>"
   ]
  },
  {
   "cell_type": "markdown",
   "metadata": {},
   "source": [
    "<div style=\"border: 4px solid #4D0033;background-color:#CC8800;color:black;border-radius: 5px;padding:7px;\">\n",
    "<div style=\"box-shadow: 0 14px 18px 0 #00264D, 0 6px 20px 0 rgba(0, 0, 0, 0.19);padding:1%;margin:6px\">       \n",
    "  <strong> Summary: </strong><br>\n",
    "\n",
    "### **Tensorflow 2.0** \n",
    "    \n",
    "    \n",
    "RaggedTensor-> RaggedTensor are irregularly-shaped tensors which have irregular shape.  \n",
    "    \n",
    "    \n",
    "$\\begin{pmatrix}\n",
    " ['A'] \\\\\n",
    " [\"a\",\"B\",\"big\"] \\\\\n",
    " ['C', 'John']\n",
    " \\end{pmatrix}$    \n",
    "\n",
    "\n",
    "SparseTensor are regularly-shaped tensor with missing values.    \n",
    "    \n",
    "$\\begin{pmatrix}\n",
    " ['A',\\phi,\\phi] \\\\\n",
    " [\"a\",\"B\",\"big\"] \\\\\n",
    " ['C', 'John',\\phi]\n",
    " \\end{pmatrix}$      \n",
    "    \n",
    "    \n",
    "</div></div>"
   ]
  },
  {
   "cell_type": "markdown",
   "metadata": {},
   "source": [
    "<div style=\"border: 5px solid #00264D;box-shadow: 0 4px 8px 0 #00264D, 0 6px 20px 0 rgba(0, 0, 0, 0.19);padding:0.6%\">\n",
    "<div style=\"box-shadow: 0 14px 18px 0 #00264D, 0 6px 20px 0 rgba(0, 0, 0, 0.19);padding:1%;border-radius: 15px\">\n",
    "     \n",
    "    \n",
    "```python\n",
    "    \n",
    "import tensorflow as tf    \n",
    "text_1 = tf.ragged.constant(\n",
    "    [['A'],\n",
    "     [\"a\",\"B\",\"big\"],\n",
    "     ['C', 'John']])  \n",
    "    \n",
    "    \n",
    "text_2 = tf.regged.constant(['goodnight'])\n",
    "    \n",
    "text = tf.concat(text_1, text_2)\n",
    "    \n",
    "    \n",
    "    \n",
    "```    \n",
    "    \n",
    "    \n",
    "    \n",
    "    \n",
    "</div>\n",
    "</div>"
   ]
  },
  {
   "cell_type": "code",
   "execution_count": 33,
   "metadata": {},
   "outputs": [],
   "source": [
    "import tensorflow as tf"
   ]
  },
  {
   "cell_type": "code",
   "execution_count": null,
   "metadata": {},
   "outputs": [],
   "source": [
    "text_1 = tf.ragged.constant"
   ]
  },
  {
   "cell_type": "code",
   "execution_count": null,
   "metadata": {},
   "outputs": [],
   "source": []
  },
  {
   "cell_type": "code",
   "execution_count": null,
   "metadata": {},
   "outputs": [],
   "source": []
  }
 ],
 "metadata": {
  "kernelspec": {
   "display_name": "Python 3",
   "language": "python",
   "name": "python3"
  },
  "language_info": {
   "codemirror_mode": {
    "name": "ipython",
    "version": 3
   },
   "file_extension": ".py",
   "mimetype": "text/x-python",
   "name": "python",
   "nbconvert_exporter": "python",
   "pygments_lexer": "ipython3",
   "version": "3.6.8"
  }
 },
 "nbformat": 4,
 "nbformat_minor": 2
}
