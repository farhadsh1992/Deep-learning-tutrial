{
 "cells": [
  {
   "cell_type": "markdown",
   "metadata": {},
   "source": [
    "<div class=\"card rounded bg-primary text-center\" style=\"width:100%;\">\n",
    "\n",
    "<header class=\"card-title center\" style=\"width:100%;height:140px;\">\n",
    "  <h1>Chapter 2.3</h1>\n",
    "    <h1><b>+ PLus Theory 2</b></h1>\n",
    "</header>\n",
    "\n",
    "<div> "
   ]
  },
  {
   "cell_type": "code",
   "execution_count": 3,
   "metadata": {},
   "outputs": [
    {
     "data": {
      "text/html": [
       "<link rel=\"stylesheet\" href=\"https://maxcdn.bootstrapcdn.com/bootstrap/4.1.3/css/bootstrap.min.css\">\n"
      ],
      "text/plain": [
       "<IPython.core.display.HTML object>"
      ]
     },
     "metadata": {},
     "output_type": "display_data"
    }
   ],
   "source": [
    "%%html\n",
    "<link rel=\"stylesheet\" href=\"https://maxcdn.bootstrapcdn.com/bootstrap/4.1.3/css/bootstrap.min.css\">\n"
   ]
  },
  {
   "cell_type": "code",
   "execution_count": null,
   "metadata": {},
   "outputs": [],
   "source": []
  },
  {
   "cell_type": "markdown",
   "metadata": {},
   "source": [
    "<div class=\"card\" style=\"width:50%;heigth:50px\">\n",
    "  <div class=\"card-header bg-primary\" ><h3>Farhad Shadmand</h3></div>\n",
    "  <div class=\"card-body\" style=\"width:100%;height:200px\">\n",
    "      <p>Data scientist</p>\n",
    "  <hr>\n",
    "  <img src=\"https://avatars2.githubusercontent.com/u/38919514?s=400&v=4\"  class=\"img-thumbnail\" alt=\"Cinque  Terre\" style=\"position:absolute;width:90px;height:90px;left:40px;\">\n",
    "  <div style=\"position:absolute;width:40%;height:100%;left:200px;\">\n",
    "    <p><b>linkden:</b> www.linkedin.com/in/farhad-shadmand-a86170121</p>\n",
    "    <p><b>email:</b> farhadsh1992@gmail.com</p>\n",
    "   </div>\n",
    "    \n",
    "  </div> \n",
    "  <div class=\"card-footer bg-primary\"></div>\n",
    "</div>"
   ]
  },
  {
   "cell_type": "markdown",
   "metadata": {},
   "source": [
    "<img src=\"https://drive.google.com/file/d/1v84hsAOlwS9ICDNhEvoJyQBt44AO0O3t/view?usp=sharing\">"
   ]
  },
  {
   "cell_type": "markdown",
   "metadata": {},
   "source": [
    "<div style=\"position: relative;height:170px;\">\n",
    "<div class=\"card\" style=\"width:200px;position:absolute;left: auto;border:4px;\">\n",
    "    <img src=\"https://cdn-images-1.medium.com/max/1600/0*5BKVjZL7eojyU1wH.jpg\" alt=\"Person\" >\n",
    "    <a style=\"padding:5px;\" href=\"#Chapter3\">\n",
    "      <h4><b>Chapter 1</b></h4>\n",
    "      <p> </p>\n",
    "    </a>\n",
    "  </div>\n",
    "  <div class=\"card\" style=\"width:200px;position:absolute;left:200px;border:4px\">\n",
    "    <img src=\"https://cdn-images-1.medium.com/max/1600/0*5BKVjZL7eojyU1wH.jpg\" alt=\"Person\" >\n",
    "    <a style=\"padding:5px;\" href=\"#Chapter3\">\n",
    "      <h4><b>Chapter 2</b></h4>\n",
    "      <p> </p>\n",
    "    </a>\n",
    "  </div>\n",
    "  <div class=\"card \" style=\"width:200px;position:absolute;left:400px;border:4px\">\n",
    "    <img src=\"https://cdn-images-1.medium.com/max/1600/0*5BKVjZL7eojyU1wH.jpg\" alt=\"Person\" >\n",
    "    <a style=\"padding:5px;\" href=\"#Chapter3\">\n",
    "      <h4><b>Chapter 2.1</b></h4>\n",
    "      <p> </p>\n",
    "    </a>\n",
    "  </div>\n",
    "    \n",
    "  <div class=\"card \" style=\"width:200px;position:absolute;left:600px;border:4px\">\n",
    "    <img src=\"https://cdn-images-1.medium.com/max/1600/0*5BKVjZL7eojyU1wH.jpg\" alt=\"Person\" >\n",
    "    <a style=\"padding:5px;\" href=\"#Chapter3\">\n",
    "      <h4><b>Chapter 2.2</b></h4>\n",
    "      <p> </p>\n",
    "    </a>\n",
    "  </div>\n",
    "    <div class=\"card bg-primary text-white\" style=\"width:200px;position:absolute;left:400px;border:4px\">\n",
    "    <img src=\"https://cdn-images-1.medium.com/max/1600/0*5BKVjZL7eojyU1wH.jpg\" alt=\"Person\" >\n",
    "    <a style=\"padding:5px;\" href=\"#Chapter3\">\n",
    "      <h4><b class=\"text-white\">Chapter 2.3</b></h4>\n",
    "      <p> </p>\n",
    "    </a>\n",
    "  </div>\n",
    "    <div class=\"card\" style=\"width:200px;position:absolute;left:800px;border:4px\">\n",
    "    <img src=\"https://cdn-images-1.medium.com/max/1600/0*5BKVjZL7eojyU1wH.jpg\" alt=\"Person\" >\n",
    "    <a style=\"padding:5px;\" href=\"#Chapter3\">\n",
    "      <h4><b>Chapter 3</b></h4>\n",
    "      <p> </p>\n",
    "    </a>\n",
    "  </div>\n",
    "    </div>"
   ]
  },
  {
   "cell_type": "markdown",
   "metadata": {},
   "source": [
    "# underflow"
   ]
  },
  {
   "cell_type": "markdown",
   "metadata": {},
   "source": [
    "underflow occures when numbers near zeros are rounded zero are rounded to zero"
   ]
  },
  {
   "cell_type": "markdown",
   "metadata": {},
   "source": [
    "# Overflow "
   ]
  },
  {
   "cell_type": "markdown",
   "metadata": {},
   "source": [
    "overflow occures when numbers with large magnitude are approximated as ∞ or -∞ ."
   ]
  },
  {
   "cell_type": "markdown",
   "metadata": {},
   "source": [
    "<b>Note:</b> <font color=\"red\">Softmax funcation</font> is one of a funcation that must be stabilized against underflow and overflow."
   ]
  }
 ],
 "metadata": {
  "kernelspec": {
   "display_name": "Python 3",
   "language": "python",
   "name": "python3"
  },
  "language_info": {
   "codemirror_mode": {
    "name": "ipython",
    "version": 3
   },
   "file_extension": ".py",
   "mimetype": "text/x-python",
   "name": "python",
   "nbconvert_exporter": "python",
   "pygments_lexer": "ipython3",
   "version": "3.6.8"
  }
 },
 "nbformat": 4,
 "nbformat_minor": 2
}
