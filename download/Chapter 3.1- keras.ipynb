{
 "cells": [
  {
   "cell_type": "markdown",
   "metadata": {},
   "source": [
    "<div class=\"w3-card-4 w3-round-large\" style=\"width:100%;\">\n",
    "\n",
    "<header class=\"w3-container w3-light-green   w3-round-large w3-center\" style=\"width:100%;height:100px;\">\n",
    "  <h1><b>Chapter 2.1</b></h1>\n",
    "    <h4>Introduce keras.part2</h4>\n",
    "</header>\n",
    "\n",
    "<div> "
   ]
  },
  {
   "cell_type": "code",
   "execution_count": 31,
   "metadata": {},
   "outputs": [
    {
     "data": {
      "text/html": [
       "<link rel=\"shortcut icon\" href=\"../favicon.ico\" type=\"image/x-icon\">\n",
       "<meta http-equiv=\"Content-Type\" content=\"text/html;charset=ISO-8859-8\">\n",
       "<link rel=\"stylesheet\" href=\"https://maxcdn.bootstrapcdn.com/bootstrap/4.1.3/css/bootstrap.min.css\">\n",
       "<script src=\"https://ajax.googleapis.com/ajax/libs/jquery/3.3.1/jquery.min.js\"></script>\n",
       "<script src=\"https://cdnjs.cloudflare.com/ajax/libs/popper.js/1.14.3/umd/popper.min.js\"></script>\n",
       "<meta charset=\"UTF-8\">\n",
       "<meta name=\"viewport\" content=\"width=device-width, initial-scale=1\">\n",
       "<link rel=\"stylesheet\" href=\"https://www.w3schools.com/w3css/4/w3.css\">\n",
       "<link rel=\"stylesheet\" href=\"https://fonts.googleapis.com/css?family=Lato\">\n",
       "<link rel=\"stylesheet\" href=\"https://cdnjs.cloudflare.com/ajax/libs/font-awesome/4.7.0/css/font-awesome.min.css\">\n",
       "<style>\n",
       "body {font-family: \"Lato\", sans-serif}\n",
       ".mySlides {display: none}\n",
       "img {\n",
       "    left:0px;\n",
       "    margin:1px;\n",
       "    padding:3px;\n",
       "}\n",
       "p,h4{\n",
       "    text-align: center;\n",
       "}\n",
       "</style>\n"
      ],
      "text/plain": [
       "<IPython.core.display.HTML object>"
      ]
     },
     "metadata": {},
     "output_type": "display_data"
    }
   ],
   "source": [
    "%%html\n",
    "<link rel=\"shortcut icon\" href=\"../favicon.ico\" type=\"image/x-icon\">\n",
    "<meta http-equiv=\"Content-Type\" content=\"text/html;charset=ISO-8859-8\">\n",
    "<link rel=\"stylesheet\" href=\"https://maxcdn.bootstrapcdn.com/bootstrap/4.1.3/css/bootstrap.min.css\">\n",
    "<script src=\"https://ajax.googleapis.com/ajax/libs/jquery/3.3.1/jquery.min.js\"></script>\n",
    "<script src=\"https://cdnjs.cloudflare.com/ajax/libs/popper.js/1.14.3/umd/popper.min.js\"></script>\n",
    "<meta charset=\"UTF-8\">\n",
    "<meta name=\"viewport\" content=\"width=device-width, initial-scale=1\">\n",
    "<link rel=\"stylesheet\" href=\"https://www.w3schools.com/w3css/4/w3.css\">\n",
    "<link rel=\"stylesheet\" href=\"https://fonts.googleapis.com/css?family=Lato\">\n",
    "<link rel=\"stylesheet\" href=\"https://cdnjs.cloudflare.com/ajax/libs/font-awesome/4.7.0/css/font-awesome.min.css\">\n",
    "<style>\n",
    "body {font-family: \"Lato\", sans-serif}\n",
    ".mySlides {display: none}\n",
    "img {\n",
    "    left:0px;\n",
    "    margin:1px;\n",
    "    padding:3px;\n",
    "}\n",
    "p,h4{\n",
    "    text-align: center;\n",
    "}\n",
    "</style>"
   ]
  },
  {
   "cell_type": "markdown",
   "metadata": {},
   "source": [
    "\n",
    "<div class=\"w3-card-4 w3-round-large\" style=\"width:50%;\">\n",
    "\n",
    "<header class=\"w3-container w3-light-green w3-border  w3-round-large\" style=\"width:100%;height:60px;\">\n",
    "  <h3>Farhad Shadmand</h3>\n",
    "</header>\n",
    "\n",
    "<div class=\"w3-container\">\n",
    "  <p>Data scientist</p>\n",
    "  <hr>\n",
    "  <img src=\"https://avatars2.githubusercontent.com/u/38919514?s=400&v=4\" alt=\"Norway\" class=\"w3-border w3-left w3-border  w3-round-large \" style=\"width:200px;height:100%;left:40px;\">\n",
    "  <div style=\" position:absolute;left:280px;margin:5px;padding:1px\" >\n",
    "    <p><b>linkden:</b> www.linkedin.com/in/farhad-shadmand-a86170121</p>\n",
    "    <p><b>email:</b> farhadsh1992@gmail.com</p>\n",
    "   </div>\n",
    "</div>\n",
    "\n",
    "\n",
    "<footer class=\"w3-container w3-light-green \">\n",
    "  <h5></h5>\n",
    "</footer>\n",
    "</div>"
   ]
  },
  {
   "cell_type": "markdown",
   "metadata": {},
   "source": [
    "<font size=\"5\">Table of contents:"
   ]
  },
  {
   "cell_type": "markdown",
   "metadata": {},
   "source": [
    "<div style=\"position: relative;height:170px;\">\n",
    "<div class=\"w3-card\" style=\"width:200px;position:absolute;left: auto;border:4px;\">\n",
    "    <img src=\"https://cdn-images-1.medium.com/max/1600/0*5BKVjZL7eojyU1wH.jpg\" alt=\"Person\" >\n",
    "    <a style=\"padding:5px;\" href=\"#Chapter3\">\n",
    "      <h4><b>Chapter 1</b></h4>\n",
    "      <p> </p>\n",
    "    </a>\n",
    "  </div>\n",
    "  <div class=\"w3-card \" style=\"width:200px;position:absolute;left:200px;border:4px\">\n",
    "    <img src=\"https://cdn-images-1.medium.com/max/1600/0*5BKVjZL7eojyU1wH.jpg\" alt=\"Person\" >\n",
    "    <a style=\"padding:5px;\" href=\"#Chapter3\">\n",
    "      <h4><b>Chapter 2</b></h4>\n",
    "      <p> </p>\n",
    "    </a>\n",
    "  </div>\n",
    "  <div class=\"w3-card w3-light-green\" style=\"width:200px;position:absolute;left:400px;border:4px\">\n",
    "    <img src=\"https://cdn-images-1.medium.com/max/1600/0*5BKVjZL7eojyU1wH.jpg\" alt=\"Person\" >\n",
    "    <a style=\"padding:5px;\" href=\"#Chapter3\">\n",
    "      <h4><b>Chapter 2.1</b></h4>\n",
    "      <p> </p>\n",
    "    </a>\n",
    "  </div>\n",
    "  <div class=\"w3-card\" style=\"width:200px;position:absolute;left:600px;border:4px\">\n",
    "    <img src=\"https://cdn-images-1.medium.com/max/1600/0*5BKVjZL7eojyU1wH.jpg\" alt=\"Person\" >\n",
    "    <a style=\"padding:5px;\" href=\"#Chapter3\">\n",
    "      <h4><b>Chapter 2.2</b></h4>\n",
    "      <p> </p>\n",
    "    </a>\n",
    "  </div>\n",
    "    <div class=\"w3-card\" style=\"width:200px;position:absolute;left:800px;border:4px\">\n",
    "    <img src=\"https://cdn-images-1.medium.com/max/1600/0*5BKVjZL7eojyU1wH.jpg\" alt=\"Person\" >\n",
    "    <a style=\"padding:5px;\" href=\"#Chapter3\">\n",
    "      <h4><b>Chapter 3</b></h4>\n",
    "      <p> </p>\n",
    "    </a>\n",
    "  </div>\n",
    "    </div>"
   ]
  },
  {
   "cell_type": "code",
   "execution_count": null,
   "metadata": {},
   "outputs": [],
   "source": []
  },
  {
   "cell_type": "markdown",
   "metadata": {},
   "source": [
    "<div class=\"w3-panel w3-light-green w3-topbar w3-bottombar w3-border-green\">\n",
    "  <header><h2><b>Keras 2.1\n",
    "</b></h2></header>\n",
    "\n",
    "\n",
    "    \n",
    "</div>\n",
    "\n"
   ]
  },
  {
   "cell_type": "markdown",
   "metadata": {},
   "source": [
    "<div class=\"alert alert-primary\">\n",
    "  <strong> Refrence: </strong><br>\n",
    "\n",
    "</div>"
   ]
  },
  {
   "cell_type": "code",
   "execution_count": null,
   "metadata": {},
   "outputs": [],
   "source": []
  },
  {
   "cell_type": "markdown",
   "metadata": {},
   "source": [
    "# brief contents:"
   ]
  },
  {
   "cell_type": "markdown",
   "metadata": {},
   "source": [
    "<div style=\"position: relative;height:100px;\">\n",
    "    \n",
    "<div class=\"w3-card w3-teal\" style=\"width:300px;position:absolute;left: auto;border:4px;\">\n",
    "    <header></header>\n",
    "    <a href=\"#Forward_propagation\"style=\"padding:5px;color:white;text-align: center;\" href=\"#Chapter3\">\n",
    "      <h4 ><b>Forward propagation</b></h4>\n",
    "      </a>\n",
    " </div>\n",
    "    \n",
    " <div class=\"w3-card w3-teal\" style=\"width:300px;position:absolute;left: 305px;border:4px;\">\n",
    "    <header></header>\n",
    "    <a href=\"#backward_propagation\"style=\"position: relative;padding:5px;color:white;text-align: center;\" href=\"#Chapter3\">\n",
    "      <h4 ><b>backward propagation</b></h4>\n",
    "      </a>\n",
    "     \n",
    "  </div>\n",
    "    <div class=\"w3-card w3-teal\" style=\"width:300px;position:absolute;left: 610px;border:4px;\">\n",
    "    <header></header>\n",
    "    <a href=\"#list\"style=\"position: relative;padding:5px;color:white;text-align: center;\" href=\"#Chapter3\">\n",
    "      <h4 ><b>list of layers </b></h4>\n",
    "      </a>\n",
    "        </div>\n",
    "\n",
    "    \n",
    "   <div class=\"w3-card w3-teal\" style=\"width:300px;position:absolute;left: 915px;border:4px;\">\n",
    "    <header></header>\n",
    "    <a href=\"#list\"style=\"position: relative;padding:5px;color:white;text-align: center;\" href=\"#Chapter3\">\n",
    "      <h4 ><b>list of optimazer funcation  </b></h4>\n",
    "      </a>\n",
    "    </div>\n",
    "  \n",
    "    \n",
    "   <div class=\"w3-card w3-teal\" style=\"width:300px;position:absolute;left: 1220px;border:4px;\">\n",
    "    <header></header>\n",
    "    <a href=\"#list\"style=\"position: relative;padding:5px;color:white;text-align: center;\" href=\"#Chapter3\">\n",
    "      <h4 ><b>list of losses funcation¶ </b></h4>\n",
    "      </a>\n",
    "    </div>\n",
    "</div>"
   ]
  },
  {
   "cell_type": "code",
   "execution_count": null,
   "metadata": {},
   "outputs": [],
   "source": []
  },
  {
   "cell_type": "code",
   "execution_count": 5,
   "metadata": {},
   "outputs": [],
   "source": [
    "from farhad.utils import plot_training_summary;\n",
    "from farhad.utils import TimeSummary;\n",
    "from farhad.utils import set_seed;\n",
    "\n",
    "import inspect\n",
    "import pandas as pd\n",
    "import numpy as np\n",
    "import matplotlib.pyplot as plt"
   ]
  },
  {
   "cell_type": "code",
   "execution_count": 3,
   "metadata": {},
   "outputs": [],
   "source": [
    "from keras.models import Sequential\n",
    "from keras.layers import Dense \n",
    "from keras.layers import Activation\n",
    "from keras.layers import BatchNormalization\n",
    "from keras.layers import Dropout;"
   ]
  },
  {
   "cell_type": "code",
   "execution_count": 8,
   "metadata": {},
   "outputs": [],
   "source": [
    "import os\n",
    "os.environ['KERAS_BACKEND'] = 'tensorflow'"
   ]
  },
  {
   "cell_type": "code",
   "execution_count": 13,
   "metadata": {},
   "outputs": [],
   "source": [
    "%matplotlib inline\n",
    "plt.rcParams['figure.figsize'] = 15, 6"
   ]
  },
  {
   "cell_type": "markdown",
   "metadata": {},
   "source": [
    "<div class=\"w3-btn w3-round-xxlarge w3-light-green\" style=\"width:100%;height:70px;\"><h1>Easy model with three layer:<h1></div>"
   ]
  },
  {
   "cell_type": "code",
   "execution_count": 5,
   "metadata": {},
   "outputs": [
    {
     "name": "stdout",
     "output_type": "stream",
     "text": [
      "_________________________________________________________________\n",
      "Layer (type)                 Output Shape              Param #   \n",
      "=================================================================\n",
      "FullyConnected_1 (Dense)     (None, 3)                 9         \n",
      "_________________________________________________________________\n",
      "FullyConnected_2 (Dense)     (None, 2)                 8         \n",
      "_________________________________________________________________\n",
      "FullyConnected_OutputLayer ( (None, 1)                 3         \n",
      "=================================================================\n",
      "Total params: 20\n",
      "Trainable params: 20\n",
      "Non-trainable params: 0\n",
      "_________________________________________________________________\n"
     ]
    }
   ],
   "source": [
    "model = Sequential()\n",
    "model.add(Dense(name='FullyConnected_1', units=3, activation='relu', input_dim=2))\n",
    "model.add(Dense(name='FullyConnected_2', units=2, activation='relu'))\n",
    "model.add(Dense(name='FullyConnected_OutputLayer', units=1, activation='sigmoid'))\n",
    "model.summary()"
   ]
  },
  {
   "cell_type": "markdown",
   "metadata": {},
   "source": [
    "<div class=\"w3-btn w3-round-xxlarge w3-light-green\" style=\"width:100%;height:70px;\"><h1>used activation model for pervious model:<h1></div>"
   ]
  },
  {
   "cell_type": "markdown",
   "metadata": {},
   "source": [
    "it is secound way for making model "
   ]
  },
  {
   "cell_type": "code",
   "execution_count": 8,
   "metadata": {},
   "outputs": [
    {
     "name": "stdout",
     "output_type": "stream",
     "text": [
      "_________________________________________________________________\n",
      "Layer (type)                 Output Shape              Param #   \n",
      "=================================================================\n",
      "HiddenLayer_1 (Dense)        (None, 3)                 9         \n",
      "_________________________________________________________________\n",
      "ReLu_1 (Activation)          (None, 3)                 0         \n",
      "_________________________________________________________________\n",
      "HiddenLayer_2 (Dense)        (None, 2)                 8         \n",
      "_________________________________________________________________\n",
      "ReLu_2 (Activation)          (None, 2)                 0         \n",
      "_________________________________________________________________\n",
      "OutputLayer (Dense)          (None, 1)                 3         \n",
      "_________________________________________________________________\n",
      "Sigmoid_3 (Activation)       (None, 1)                 0         \n",
      "=================================================================\n",
      "Total params: 20\n",
      "Trainable params: 20\n",
      "Non-trainable params: 0\n",
      "_________________________________________________________________\n"
     ]
    }
   ],
   "source": [
    "model = Sequential()\n",
    "\n",
    "# input layer transformations (none in this case)\n",
    "\n",
    "# 1st hidden layer\n",
    "model.add(Dense(name='HiddenLayer_1', units=3, input_dim=2))\n",
    "model.add(Activation(name='ReLu_1', activation='relu'))\n",
    "\n",
    "# 2nd hidden layer\n",
    "model.add(Dense(name='HiddenLayer_2', units=2))\n",
    "model.add(Activation(name='ReLu_2', activation='relu'))\n",
    "# output layer\n",
    "model.add(Dense(name='OutputLayer', units=1))\n",
    "model.add(Activation(name='Sigmoid_3', activation='sigmoid'))\n",
    "\n",
    "model.summary()"
   ]
  },
  {
   "cell_type": "code",
   "execution_count": null,
   "metadata": {},
   "outputs": [],
   "source": []
  },
  {
   "cell_type": "markdown",
   "metadata": {},
   "source": [
    "<div class=\"w3-btn w3-round-xxlarge w3-light-green\" style=\"width:100%;height:70px;\"><h1>Exercise 1<h1></div>"
   ]
  },
  {
   "cell_type": "markdown",
   "metadata": {},
   "source": [
    "Change the parameters:\n",
    "- batch_size\n",
    "- epochs"
   ]
  },
  {
   "cell_type": "code",
   "execution_count": 1,
   "metadata": {},
   "outputs": [],
   "source": [
    "import pandas as pd\n",
    "from keras.layers import Dense\n",
    "from keras.models import Sequential"
   ]
  },
  {
   "cell_type": "code",
   "execution_count": 8,
   "metadata": {},
   "outputs": [
    {
     "data": {
      "text/html": [
       "<div>\n",
       "<style scoped>\n",
       "    .dataframe tbody tr th:only-of-type {\n",
       "        vertical-align: middle;\n",
       "    }\n",
       "\n",
       "    .dataframe tbody tr th {\n",
       "        vertical-align: top;\n",
       "    }\n",
       "\n",
       "    .dataframe thead th {\n",
       "        text-align: right;\n",
       "    }\n",
       "</style>\n",
       "<table border=\"1\" class=\"dataframe\">\n",
       "  <thead>\n",
       "    <tr style=\"text-align: right;\">\n",
       "      <th></th>\n",
       "      <th>Unnamed: 0</th>\n",
       "      <th>x1</th>\n",
       "      <th>x2</th>\n",
       "      <th>y</th>\n",
       "    </tr>\n",
       "  </thead>\n",
       "  <tbody>\n",
       "    <tr>\n",
       "      <th>0</th>\n",
       "      <td>0</td>\n",
       "      <td>-0.956073</td>\n",
       "      <td>-0.06223</td>\n",
       "      <td>0</td>\n",
       "    </tr>\n",
       "  </tbody>\n",
       "</table>\n",
       "</div>"
      ],
      "text/plain": [
       "   Unnamed: 0        x1       x2  y\n",
       "0           0 -0.956073 -0.06223  0"
      ]
     },
     "execution_count": 8,
     "metadata": {},
     "output_type": "execute_result"
    }
   ],
   "source": [
    "moons = pd.read_csv('moons.csv')\n",
    "moons.head(1)"
   ]
  },
  {
   "cell_type": "code",
   "execution_count": 9,
   "metadata": {},
   "outputs": [],
   "source": [
    "#separate in train and test data\n",
    "train_index = moons.sample(frac=0.8, random_state=21).index\n",
    "X_train, y_train = moons.iloc[train_index][['x1', 'x2']], moons.iloc[train_index]['y']\n",
    "X_test, y_test = moons.drop(index=train_index)[['x1', 'x2']], moons.drop(index=train_index)['y']"
   ]
  },
  {
   "cell_type": "code",
   "execution_count": 2,
   "metadata": {},
   "outputs": [],
   "source": [
    "def make_model():\n",
    "    model = Sequential()\n",
    "    model.add(Dense(name='FullyConnected_1', units=3, activation='relu', input_dim=2))\n",
    "    model.add(Dense(name='FullyConnected_2', units=2, activation='relu'))\n",
    "    model.add(Dense(name='FullyConnected_OutputLayer', units=1, activation='sigmoid'))\n",
    "    return model"
   ]
  },
  {
   "cell_type": "code",
   "execution_count": 11,
   "metadata": {},
   "outputs": [],
   "source": [
    "time_summary = TimeSummary()"
   ]
  },
  {
   "cell_type": "code",
   "execution_count": 13,
   "metadata": {},
   "outputs": [
    {
     "name": "stdout",
     "output_type": "stream",
     "text": [
      "Test loss: 0.6985995342482382\n",
      "Test accuracy: 0.4925373138776466\n",
      "Training time: 0:00:00.773620(HH:MM:SS)\n",
      "Epoch time avg: 0:00:00.077337(HH:MM:SS)\n"
     ]
    },
    {
     "data": {
      "image/png": "[encoded data removed]",
      "text/plain": [
       "<Figure size 432x288 with 1 Axes>"
      ]
     },
     "metadata": {
      "needs_background": "light"
     },
     "output_type": "display_data"
    },
    {
     "data": {
      "image/png": "[encoded data removed]",
      "text/plain": [
       "<Figure size 432x288 with 1 Axes>"
      ]
     },
     "metadata": {
      "needs_background": "light"
     },
     "output_type": "display_data"
    }
   ],
   "source": [
    "set_seed(123) # for reproducibility\n",
    "\n",
    "model = make_model()\n",
    "\n",
    "model.compile(\n",
    "    optimizer='Adam',\n",
    "    loss='binary_crossentropy',\n",
    "    metrics=['accuracy']\n",
    ")\n",
    "summary = model.fit(\n",
    "    X_train, y_train,\n",
    "    batch_size=100,\n",
    "    epochs=10,\n",
    "    validation_split=0.1,\n",
    "    verbose=0,\n",
    "    callbacks=[time_summary]\n",
    ")\n",
    "score = model.evaluate(X_test, y_test, verbose=0)\n",
    "print('Test loss:', score[0])\n",
    "print('Test accuracy:', score[1])\n",
    "plot_training_summary(summary, time_summary)\n"
   ]
  },
  {
   "cell_type": "markdown",
   "metadata": {},
   "source": [
    "<div class=\"w3-btn w3-round-xxlarge w3-light-green\" style=\"width:100%;height:70px;\"><h1>Exercise 2<h1></div>"
   ]
  },
  {
   "cell_type": "markdown",
   "metadata": {},
   "source": [
    "<b>Queation:</b> Make an overkill model for this data:\n",
    "1. 3 hidden dense layers\n",
    "2. use a BatchNormalization layer after each neuron layer before activation\n",
    "3. add a Dropout layers\n",
    "4. use relu and tanh or other activation functions\n"
   ]
  },
  {
   "cell_type": "code",
   "execution_count": 21,
   "metadata": {},
   "outputs": [],
   "source": [
    "from keras.layers import Dropout, Dense, Activation;\n",
    "\n",
    "from keras.layers import BatchNormalization;\n",
    "from keras.models import Sequential;"
   ]
  },
  {
   "cell_type": "code",
   "execution_count": null,
   "metadata": {},
   "outputs": [],
   "source": []
  },
  {
   "cell_type": "code",
   "execution_count": 34,
   "metadata": {},
   "outputs": [],
   "source": [
    "from farhad.utils import plot_training_summary;\n",
    "from farhad.utils import TimeSummary;\n",
    "from farhad.utils import set_seed;\n",
    "\n",
    "import inspect\n",
    "import pandas as pd\n",
    "import numpy as np\n",
    "import matplotlib.pyplot as plt"
   ]
  },
  {
   "cell_type": "markdown",
   "metadata": {},
   "source": [
    "Make an overkill model for this data\n",
    "- 3 hidden dense layers\n",
    "- use a BatchNormalization layer after each neuron layer before activation\n",
    "- add a Dropout layers\n",
    "- use relu and tanh or other activation functions\n"
   ]
  },
  {
   "cell_type": "code",
   "execution_count": 24,
   "metadata": {},
   "outputs": [],
   "source": [
    "moons = pd.read_csv('moons.csv')\n",
    "#separate in train and test data\n",
    "train_index = moons.sample(frac=0.8, random_state=21).index\n",
    "X_train, y_train = moons.iloc[train_index][['x1', 'x2']], moons.iloc[train_index]['y']\n",
    "X_test, y_test = moons.drop(index=train_index)[['x1', 'x2']], moons.drop(index=train_index)['y']"
   ]
  },
  {
   "cell_type": "code",
   "execution_count": 22,
   "metadata": {},
   "outputs": [],
   "source": [
    "def make_overkill_model():\n",
    "    model = Sequential()\n",
    "    # input layer transformation\n",
    "    \n",
    "    model.add(BatchNormalization(name='InputLayer',input_shape=(2,)))\n",
    "    model.add(Dropout(0.3))\n",
    "    \n",
    "\n",
    "    # 1st hidden\n",
    "    model.add(Dense(name='HiddenLayer_1', units=30))\n",
    "    model.add(BatchNormalization())\n",
    "    model.add(Activation('tanh'))\n",
    "    model.add(Dropout(0.3))\n",
    "\n",
    "    # 2nd hidden\n",
    "    model.add(Dense(name='HiddenLayer_2', units=10))\n",
    "    model.add(BatchNormalization())\n",
    "    model.add(Activation('relu'))\n",
    "    model.add(Dropout(0.3))\n",
    "\n",
    "    # 3rd hidden\n",
    "    model.add(Dense(name='HiddenLayer_3', units=3))\n",
    "    model.add(BatchNormalization())\n",
    "    model.add(Activation('relu'))\n",
    "    model.add(Dropout(0.3))\n",
    "\n",
    "    # output layer\n",
    "    model.add(Dense(name='OutputLayer', units=1))\n",
    "    model.add(BatchNormalization())\n",
    "    model.add(Activation('sigmoid'))\n",
    "\n",
    "    return model"
   ]
  },
  {
   "cell_type": "code",
   "execution_count": 26,
   "metadata": {},
   "outputs": [],
   "source": [
    "time_summary = TimeSummary()"
   ]
  },
  {
   "cell_type": "code",
   "execution_count": 30,
   "metadata": {},
   "outputs": [
    {
     "name": "stdout",
     "output_type": "stream",
     "text": [
      "Test loss: 0.6835291563574948\n",
      "Test accuracy: 0.43283582134033316\n",
      "Training time: 0:00:03.075399(HH:MM:SS)\n",
      "Epoch time avg: 0:00:00.307520(HH:MM:SS)\n"
     ]
    },
    {
     "data": {
      "image/png": "[encoded data removed]",
      "text/plain": [
       "<Figure size 432x288 with 1 Axes>"
      ]
     },
     "metadata": {
      "needs_background": "light"
     },
     "output_type": "display_data"
    },
    {
     "data": {
      "image/png": "[encoded data removed]",
      "text/plain": [
       "<Figure size 432x288 with 1 Axes>"
      ]
     },
     "metadata": {
      "needs_background": "light"
     },
     "output_type": "display_data"
    }
   ],
   "source": [
    "set_seed(123) # for reproducibility\n",
    "\n",
    "model = make_overkill_model()\n",
    "\n",
    "model.compile(\n",
    "    optimizer='Adam',\n",
    "    loss='binary_crossentropy',\n",
    "    metrics=['accuracy']\n",
    ")\n",
    "summary = model.fit(\n",
    "    X_train, y_train,\n",
    "    batch_size=40,\n",
    "    epochs=10,\n",
    "    validation_split=0.1,\n",
    "    verbose=0,\n",
    "    callbacks=[time_summary]\n",
    ")\n",
    "score = model.evaluate(X_test, y_test, verbose=0)\n",
    "print('Test loss:', score[0])\n",
    "print('Test accuracy:', score[1])\n",
    "plot_training_summary(summary, time_summary)"
   ]
  },
  {
   "cell_type": "code",
   "execution_count": null,
   "metadata": {},
   "outputs": [],
   "source": []
  },
  {
   "cell_type": "markdown",
   "metadata": {},
   "source": [
    "<div class=\"w3-card-4 w3-round-large\" style=\"width:100%;\">\n",
    "\n",
    "<header class=\"w3-container w3-pink w3-teal  w3-round-large w3-center\" style=\"width:100%;height:80px;\">\n",
    "  <h1>Chapter 2.1 - PLus Theory:</h1>\n",
    "</header>\n",
    "\n",
    "<div> "
   ]
  },
  {
   "cell_type": "code",
   "execution_count": null,
   "metadata": {},
   "outputs": [],
   "source": []
  },
  {
   "cell_type": "markdown",
   "metadata": {},
   "source": [
    "We have two models:\n",
    "1. Sequential.\n",
    "2. funcational. (we use activation layer for describation activation funcation after any layer)\n",
    "\n"
   ]
  },
  {
   "cell_type": "code",
   "execution_count": null,
   "metadata": {},
   "outputs": [],
   "source": []
  },
  {
   "cell_type": "markdown",
   "metadata": {},
   "source": [
    "## BatchNormalization layer"
   ]
  },
  {
   "cell_type": "markdown",
   "metadata": {},
   "source": [
    "<div class=\"alert alert-primary\">\n",
    "  <strong> Refrence: </strong><br>\n",
    "    \n",
    "orginal page : <a class=\"alert-link\" href=\"https://keras.io/layers/normalization/ \"> https://keras.io/layers/normalization/  </a><br>\n",
    "why should use it: https://towardsdatascience.com/batch-normalization-in-neural-networks-1ac91516821c<br>\n",
    "math behind it:  https://www.youtube.com/watch?v=nUUqwaxLnWs   \n",
    "    </div>"
   ]
  },
  {
   "cell_type": "code",
   "execution_count": null,
   "metadata": {},
   "outputs": [],
   "source": [
    "keras.layers.BatchNormalization(axis=-1, momentum=0.99, epsilon=0.001, center=True, scale=True, beta_initializer='zeros',\n",
    "                                gamma_initializer='ones', moving_mean_initializer='zeros', \n",
    "                                moving_variance_initializer='ones', beta_regularizer=None, \n",
    "                                gamma_regularizer=None, beta_constraint=None, gamma_constraint=None)"
   ]
  },
  {
   "cell_type": "markdown",
   "metadata": {},
   "source": [
    "normalize the input  by adjusting and scaling the activations. For example, when we have features from 0 to 1 and some from 1 to 1000, we should normalize them to speed up learning.<br>\n",
    "Batch normalization reduces the amount by what the hidden unit values shift around (covariance shift)<br>\n",
    "Also, batch normalization allows each layer of a network to learn by itself a little bit more independently of other layers.<br>\n",
    "<b>example:</b><br>\n",
    "To explain covariance shift, let’s have a deep network on cat detection. We train our data on only black cats’ images. So, if we now try to apply this network to data with colored cats, it is obvious; we’re not going to do well. The training set and the prediction set are both cats’ images but they differ a little bit. In other words, if an algorithm learned some X to Y mapping, and if the distribution of X changes, then we might need to retrain the learning algorithm by trying to align the distribution of X with the distribution of Y. \n",
    "\n",
    "-  use higher learning rates because batch normalization makes sure that there’s no activation that’s gone really high or really low\n",
    "- It reduces overfitting because it has a slight regularization effects.\n",
    "-  Similar to dropout, it adds some noise to each hidden layer’s activations. Therefore, if we use batch normalization, we will use less dropout, which is a good thing because we are not going to lose a lot of information. "
   ]
  },
  {
   "cell_type": "code",
   "execution_count": null,
   "metadata": {},
   "outputs": [],
   "source": []
  },
  {
   "cell_type": "markdown",
   "metadata": {},
   "source": [
    "## Dropout layer:"
   ]
  },
  {
   "cell_type": "markdown",
   "metadata": {},
   "source": [
    "<div class=\"alert alert-primary\">\n",
    "  <strong> Refrence: </strong><br>\n",
    "    \n",
    "orginal page: https://keras.io/layers/core/ <br>\n",
    "https://medium.com/@amarbudhiraja/https-medium-com-amarbudhiraja-learning-less-to-learn-better-dropout-in-deep-machine-learning-74334da4bfc5  <br>\n",
    "https://leonardoaraujosantos.gitbooks.io/artificial-inteligence/content/dropout_layer.html\n",
    "</div>"
   ]
  },
  {
   "cell_type": "markdown",
   "metadata": {},
   "source": [
    "<b>How it works:</b><br>\n",
    "Basically during training half of neurons on a particular layer will be deactivated. This improve generalization because force your layer to learn with different neurons the same \"concept\".\n",
    "During the prediction phase the dropout is deactivated.\n",
    "\n",
    "\n",
    "<img src='https://leonardoaraujosantos.gitbooks.io/artificial-inteligence/content/image_folder_5/dropout.jpeg'>\n"
   ]
  },
  {
   "cell_type": "markdown",
   "metadata": {},
   "source": [
    "- Dropout forces a neural network to learn more robust features that are useful in conjunction with many different random subsets of the other neurons.\n",
    "- Dropout roughly doubles the number of iterations required to converge. However, training time for each epoch is less.\n",
    "- With H hidden units, each of which can be dropped, we have 2^H possible models. In testing phase, the entire network is considered and each activation is reduced by a factor p.\n",
    "- it adds some noise to each hidden layer’s activations. "
   ]
  },
  {
   "cell_type": "code",
   "execution_count": null,
   "metadata": {},
   "outputs": [],
   "source": [
    "keras.layers.Dropout(rate, noise_shape=None, seed=None)"
   ]
  },
  {
   "cell_type": "markdown",
   "metadata": {},
   "source": [
    "- rate: float between 0 and 1. Fraction of the input units to drop.\n",
    "- noise_shape: 1D integer tensor representing the shape of the binary dropout mask that will be multiplied with the input. For instance, if your inputs have shape  (batch_size, timesteps, features) and you want the dropout mask to be the same for all timesteps, you can use noise_shape=(batch_size, 1, features).\n",
    "- seed: A Python integer to use as random seed."
   ]
  },
  {
   "cell_type": "code",
   "execution_count": null,
   "metadata": {},
   "outputs": [],
   "source": []
  },
  {
   "cell_type": "markdown",
   "metadata": {},
   "source": [
    "## Tanh activation funcation"
   ]
  },
  {
   "cell_type": "markdown",
   "metadata": {},
   "source": [
    "<div class=\"alert alert-primary\">\n",
    "  <strong> Refrence: </strong><br>\n",
    "    \n",
    "https://towardsdatascience.com/activation-functions-neural-networks-1cbd9f8d91d6\n",
    "    </div>"
   ]
  },
  {
   "cell_type": "code",
   "execution_count": 4,
   "metadata": {},
   "outputs": [
    {
     "data": {
      "text/html": [
       "<img src='https://cdn-images-1.medium.com/max/1600/1*f9erByySVjTjohfFdNkJYQ.jpeg'>\n",
       "<img src='https://wikimedia.org/api/rest_v1/media/math/render/svg/84c428bf21e34ccc0be8becf3443b06a4b61f3ee'>"
      ],
      "text/plain": [
       "<IPython.core.display.HTML object>"
      ]
     },
     "metadata": {},
     "output_type": "display_data"
    }
   ],
   "source": [
    "%%html\n",
    "<img src='https://cdn-images-1.medium.com/max/1600/1*f9erByySVjTjohfFdNkJYQ.jpeg'>\n",
    "<img src='https://wikimedia.org/api/rest_v1/media/math/render/svg/84c428bf21e34ccc0be8becf3443b06a4b61f3ee'>"
   ]
  },
  {
   "cell_type": "markdown",
   "metadata": {},
   "source": [
    "- The range of the tanh function is from (-1 to 1). tanh is also sigmoidal (s - shaped).\n",
    "- The function is differentiable.\n",
    "- The function is monotonic while its derivative is not monotonic.\n",
    "- The tanh function is mainly used classification between two classes."
   ]
  },
  {
   "cell_type": "markdown",
   "metadata": {},
   "source": []
  },
  {
   "cell_type": "markdown",
   "metadata": {},
   "source": []
  }
 ],
 "metadata": {
  "kernelspec": {
   "display_name": "Python 3",
   "language": "python",
   "name": "python3"
  },
  "language_info": {
   "codemirror_mode": {
    "name": "ipython",
    "version": 3
   },
   "file_extension": ".py",
   "mimetype": "text/x-python",
   "name": "python",
   "nbconvert_exporter": "python",
   "pygments_lexer": "ipython3",
   "version": "3.6.6"
  }
 },
 "nbformat": 4,
 "nbformat_minor": 2
}
