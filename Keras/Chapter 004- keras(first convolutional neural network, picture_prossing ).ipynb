{
 "cells": [
  {
   "cell_type": "markdown",
   "metadata": {},
   "source": [
    "\n",
    "<div style=\"width:100%;height:125px;text-align:center;border: 4px solid #9E5CD1;background-color:#9E5CD1;color:white\">\n",
    "\n",
    "<header  style=\"width:100%;height:100px;\">\n",
    "  <h1><b>Chapter 3</b></h1>\n",
    "    <h4>CNN</h4>\n",
    "</header>\n",
    "\n",
    "<div> "
   ]
  },
  {
   "cell_type": "markdown",
   "metadata": {},
   "source": [
    "<font size=\"5\">Table of contents:"
   ]
  },
  {
   "cell_type": "markdown",
   "metadata": {},
   "source": [
    "<div style=\"position: relative;height:170px;\">\n",
    "<div style=\"width:200px;position:absolute;left: auto;border:4px;border: 4px solid white;background-color:white;color:white\">\n",
    "    <img src=\"https://cdn-images-1.medium.com/max/1600/0*5BKVjZL7eojyU1wH.jpg\" alt=\"Person\" >\n",
    "    <a style=\"padding:5px;color:black;text-align:center\" href=\"#Chapter3\">\n",
    "      <h4><b>Chapter 1</b></h4>\n",
    "      <p> </p>\n",
    "    </a>\n",
    "  </div>\n",
    "  <div style=\"width:200px;position:absolute;left:200px;border:4px;border: 4px solid white;background-color:white;color:white\">\n",
    "    <img src=\"https://cdn-images-1.medium.com/max/1600/0*5BKVjZL7eojyU1wH.jpg\" alt=\"Person\" >\n",
    "    <a style=\"padding:5px;color:black;text-align:center\" href=\"#Chapter3\">\n",
    "      <h4><b>Chapter 2</b></h4>\n",
    "      <p> </p>\n",
    "    </a>\n",
    "  </div>\n",
    "  <div  style=\"width:200px;position:absolute;left:400px;border:4px;border: 4px solid white;background-color:white;color:white\">\n",
    "    <img src=\"https://cdn-images-1.medium.com/max/1600/0*5BKVjZL7eojyU1wH.jpg\" alt=\"Person\" >\n",
    "    <a style=\"padding:5px;color:black;text-align:center\" href=\"#Chapter3\">\n",
    "      <h4><b>Chapter 2.1</b></h4>\n",
    "      <p> </p>\n",
    "    </a>\n",
    "  </div>\n",
    "  <div  style=\"width:200px;position:absolute;left:600px;border:4px;border: 4px solid white;background-color:white;color:white\">\n",
    "    <img src=\"https://cdn-images-1.medium.com/max/1600/0*5BKVjZL7eojyU1wH.jpg\" alt=\"Person\" >\n",
    "    <a style=\"padding:5px;color:black;text-align:center\" href=\"#Chapter3\">\n",
    "      <h4><b>Chapter 2.2</b></h4>\n",
    "      <p> </p>\n",
    "    </a>\n",
    "  </div>\n",
    "    <div style=\"width:200px;position:absolute;left:800px;border: 4px solid white;background-color:#9E5CD1;color:white\">\n",
    "    <img src=\"https://cdn-images-1.medium.com/max/1600/0*5BKVjZL7eojyU1wH.jpg\" alt=\"Person\" >\n",
    "    <a style=\"padding:5px;color:white;text-align:center\" href=\"#Chapter3\">\n",
    "      <h4><b>Chapter 3</b></h4>\n",
    "      <p> </p>\n",
    "    </a>\n",
    "  </div>\n",
    "    </div>"
   ]
  },
  {
   "cell_type": "code",
   "execution_count": null,
   "metadata": {},
   "outputs": [],
   "source": []
  },
  {
   "cell_type": "markdown",
   "metadata": {},
   "source": [
    "<div style=\"width:100%;height:70px;border: 4px solid #9E5CD1;background-color:#9E5CD1;color:white;text-align:center;border-radius: 25px;padding:3px\">\n",
    "  <header><h2><b>Build your first convolutional neural network (CNN)</b></h2></header>\n",
    "</div>"
   ]
  },
  {
   "cell_type": "markdown",
   "metadata": {},
   "source": [
    "<div style=\"border: 4px solid #BFE6FF;background-color:#BFE6FF;color:black;border-radius: 5px;padding:7px\">\n",
    "  <strong> Refrence: </strong><br>\n",
    "      <p>\n",
    "        <a  href=\"http://neuralnetset.blogspot.com/2018/05/cnn-on-mnist.html\" >http://neuralnetset.blogspot.com/</a>\n",
    "    </p>\n",
    "    <p>\n",
    "        <a  href=\"https://github.com/rragundez/PyDataAmsterdam2018/blob/master/04_build_your_first_convolutional_neural_network.ipynb\">https://github.com/rragundez/PyDataAmsterdam2018/</a>\n",
    "    </p>\n",
    "</div>"
   ]
  },
  {
   "cell_type": "code",
   "execution_count": null,
   "metadata": {},
   "outputs": [],
   "source": []
  },
  {
   "cell_type": "markdown",
   "metadata": {},
   "source": [
    "# brief contents:"
   ]
  },
  {
   "cell_type": "markdown",
   "metadata": {},
   "source": [
    "<div style=\"position: relative;height:100px;\">\n",
    "    \n",
    "<div style=\"width:300px;position:absolute;left: auto;border: 4px solid white;background-color:#9E5CD1;color:white\">\n",
    "    <header></header>\n",
    "    <a href=\"#Forward_propagation\"style=\"padding:5px;color:white;text-align: center;\" href=\"#Chapter3\">\n",
    "      <h4 ><b>Forward propagation</b></h4>\n",
    "      </a>\n",
    " </div>\n",
    "    \n",
    " <div style=\"width:300px;position:absolute;left: 305px;border:4px;border: 4px solid white;background-color:#9E5CD1;color:white\">\n",
    "    <header></header>\n",
    "    <a href=\"#backward_propagation\"style=\"position: relative;padding:5px;color:white;text-align: center;\" href=\"#Chapter3\">\n",
    "      <h4 ><b>backward propagation</b></h4>\n",
    "      </a>\n",
    "     \n",
    "  </div>\n",
    "    <div  style=\"width:300px;position:absolute;left: 610px;border:4px;border: 4px solid white;background-color:#9E5CD1;color:white\">\n",
    "    <header></header>\n",
    "    <a href=\"#list\"style=\"position: relative;padding:5px;color:white;text-align: center;\" href=\"#Chapter3\">\n",
    "      <h4 ><b>list of layers </b></h4>\n",
    "      </a>\n",
    "        </div>\n",
    "\n",
    "    \n",
    "   <div  style=\"width:300px;position:absolute;left: 915px;border:4px;border: 4px solid white;background-color:#9E5CD1;color:white\">\n",
    "    <header></header>\n",
    "    <a href=\"#list\"style=\"position: relative;padding:5px;color:white;text-align: center;\" href=\"#Chapter3\">\n",
    "      <h4 ><b>list of optimazer funcation  </b></h4>\n",
    "      </a>\n",
    "    </div>\n",
    "  \n",
    "    \n",
    "   <div  style=\"width:300px;position:absolute;left: 1220px;border:4px;border: 4px solid white;background-color:#9E5CD1;color:white\">\n",
    "    <header></header>\n",
    "    <a href=\"#list\"style=\"position: relative;padding:5px;color:white;text-align: center;\" href=\"#Chapter3\">\n",
    "      <h4 ><b>list of losses funcation¶ </b></h4>\n",
    "      </a>\n",
    "    </div>\n",
    "</div>"
   ]
  },
  {
   "cell_type": "code",
   "execution_count": null,
   "metadata": {},
   "outputs": [],
   "source": []
  },
  {
   "cell_type": "markdown",
   "metadata": {},
   "source": [
    "<div style=\"width:100%;height:70px;border: 4px solid #9E5CD1;background-color:#9E5CD1;color:white;text-align:center;border-radius: 25px;padding:3px\">\n",
    "    <h1>Picture classfication <h1></div>"
   ]
  },
  {
   "cell_type": "markdown",
   "metadata": {},
   "source": [
    "We have some hand-wirte datas from numbers from 0 to 9. and want to classific numbers into 10 part."
   ]
  },
  {
   "cell_type": "code",
   "execution_count": 1,
   "metadata": {},
   "outputs": [],
   "source": [
    "import os\n",
    "\n",
    "os.environ['KERAS_BACKEND'] = 'tensorflow'"
   ]
  },
  {
   "cell_type": "code",
   "execution_count": 2,
   "metadata": {},
   "outputs": [
    {
     "name": "stderr",
     "output_type": "stream",
     "text": [
      "Using TensorFlow backend.\n"
     ]
    }
   ],
   "source": [
    "import os\n",
    "import random\n",
    "\n",
    "import matplotlib.pyplot as plt\n",
    "import numpy as np\n",
    "\n",
    "from keras import datasets\n",
    "from keras import layers\n",
    "from keras.models import Sequential\n",
    "from keras.utils import to_categorical\n",
    "\n",
    "from farhad.utils import plot_training_summary\n",
    "from farhad.utils import TimeSummary\n",
    "from farhad.utils import set_seed\n",
    "\n",
    "%matplotlib inline"
   ]
  },
  {
   "cell_type": "code",
   "execution_count": 3,
   "metadata": {},
   "outputs": [],
   "source": [
    "plt.rcParams['figure.figsize'] = 15, 6"
   ]
  },
  {
   "cell_type": "code",
   "execution_count": null,
   "metadata": {},
   "outputs": [],
   "source": []
  },
  {
   "cell_type": "markdown",
   "metadata": {},
   "source": [
    "<div style=\"width:100%;height:70px;border: 4px solid #9E5CD1;background-color:#9E5CD1;color:white;text-align:center;border-radius: 25px;padding:3px\"><h1>data: MNIST Digits Data Set<h1></div>"
   ]
  },
  {
   "cell_type": "code",
   "execution_count": null,
   "metadata": {},
   "outputs": [],
   "source": []
  },
  {
   "cell_type": "markdown",
   "metadata": {},
   "source": [
    "http://yann.lecun.com/exdb/mnist/\n",
    "\n",
    "<img src=\"https://camo.githubusercontent.com/5f28aeba89356f500f16b898d3619a1164f1f953/68747470733a2f2f7261772e67697468756275736572636f6e74656e742e636f6d2f6a656666686561746f6e2f7438315f3535385f646565705f6c6561726e696e672f6d61737465722f696d616765732f636c6173735f385f6d6e6973742e706e67\">"
   ]
  },
  {
   "cell_type": "code",
   "execution_count": 4,
   "metadata": {},
   "outputs": [],
   "source": [
    "(X_train, y_train), (X_test, y_test) = datasets.mnist.load_data()"
   ]
  },
  {
   "cell_type": "code",
   "execution_count": 5,
   "metadata": {},
   "outputs": [],
   "source": [
    "# (X_train, y_train), (X_test, y_test) = datasets.cifar10.load_data()"
   ]
  },
  {
   "cell_type": "code",
   "execution_count": 6,
   "metadata": {},
   "outputs": [
    {
     "name": "stdout",
     "output_type": "stream",
     "text": [
      "Train:\tX shape:(60000, 28, 28)\tY shape:(60000,)\tType (X, y): \n",
      "(uint8, uint8)\tX values (max, min): (0, 255)\n",
      "Test:\tX shape:(10000, 28, 28)\tY shape:(10000,)\tType (X, y): \n",
      "(uint8, uint8)\tX values (max, min): (0, 255)\n"
     ]
    }
   ],
   "source": [
    "print(f\"\"\"Train:\\tX shape:{X_train.shape}\\tY shape:{y_train.shape}\\tType (X, y): \n",
    "({X_train.dtype}, {y_train.dtype})\\tX values (max, min): ({X_train.min()}, {X_train.max()})\"\"\")\n",
    "print(f\"\"\"Test:\\tX shape:{X_test.shape}\\tY shape:{y_test.shape}\\tType (X, y): \n",
    "({X_test.dtype}, {y_test.dtype})\\tX values (max, min): ({X_test.min()}, {X_test.max()})\"\"\")"
   ]
  },
  {
   "cell_type": "code",
   "execution_count": 7,
   "metadata": {},
   "outputs": [
    {
     "data": {
      "image/png": "[encoded data removed]",
      "text/plain": [
       "<Figure size 1080x432 with 6 Axes>"
      ]
     },
     "metadata": {
      "needs_background": "light"
     },
     "output_type": "display_data"
    }
   ],
   "source": [
    "[ax.imshow(random.choice(X_train), cmap='gray') for ax in plt.subplots(1, 6)[1]]; # ; used this remove some process and show better to you"
   ]
  },
  {
   "cell_type": "markdown",
   "metadata": {},
   "source": [
    "<b>we do the process below, because we want to use 2D convolution ((60000, 28, 28) ----> shape:(60000, 28, 28, 1) # 1 is channel)\n",
    "<br>also we need float number "
   ]
  },
  {
   "cell_type": "code",
   "execution_count": 8,
   "metadata": {},
   "outputs": [],
   "source": [
    "#part 1 : add one dimensional (channel)\n",
    "if len(X_train.shape) != 4:\n",
    "    X_train = np.expand_dims(X_train, axis=3)\n",
    "if len(X_test.shape) != 4:\n",
    "    X_test = np.expand_dims(X_test, axis=3)\n",
    "\n",
    "# Part2: make float number:\n",
    "# normalise x_train and x_train:    \n",
    "X_train, X_test = X_train.astype('float') / 255, X_test.astype('float') / 255\n",
    "\n",
    "# Converts a class vector (integers) to binary class matrix.\n",
    "y_train_onehot, y_test_onehot = to_categorical(y_train), to_categorical(y_test)"
   ]
  },
  {
   "cell_type": "code",
   "execution_count": 9,
   "metadata": {},
   "outputs": [
    {
     "name": "stdout",
     "output_type": "stream",
     "text": [
      "Train:\tX shape:(60000, 28, 28, 1)\tY shape:(60000,)\tType (X, y): \n",
      "(float64, uint8)\tX values (max, min): (0.0, 1.0)\n",
      "Test:\tX shape:(10000, 28, 28, 1)\tY shape:(10000,)\tType (X, y): \n",
      "(float64, uint8)\tX values (max, min): (0.0, 1.0)\n"
     ]
    }
   ],
   "source": [
    "print(f\"\"\"Train:\\tX shape:{X_train.shape}\\tY shape:{y_train.shape}\\tType (X, y): \n",
    "({X_train.dtype}, {y_train.dtype})\\tX values (max, min): ({X_train.min()}, {X_train.max()})\"\"\")\n",
    "print(f\"\"\"Test:\\tX shape:{X_test.shape}\\tY shape:{y_test.shape}\\tType (X, y): \n",
    "({X_test.dtype}, {y_test.dtype})\\tX values (max, min): ({X_test.min()}, {X_test.max()})\"\"\")"
   ]
  },
  {
   "cell_type": "code",
   "execution_count": 10,
   "metadata": {},
   "outputs": [
    {
     "data": {
      "text/plain": [
       "array([[0., 1., 0., 0., 0.],\n",
       "       [0., 0., 1., 0., 0.],\n",
       "       [0., 0., 0., 1., 0.],\n",
       "       [0., 0., 0., 0., 1.]], dtype=float32)"
      ]
     },
     "execution_count": 10,
     "metadata": {},
     "output_type": "execute_result"
    }
   ],
   "source": [
    "to_categorical([1,2,3,4])"
   ]
  },
  {
   "cell_type": "code",
   "execution_count": 11,
   "metadata": {},
   "outputs": [
    {
     "data": {
      "text/plain": [
       "array([0.00392157, 0.00784314, 0.01176471, 0.01568627])"
      ]
     },
     "execution_count": 11,
     "metadata": {},
     "output_type": "execute_result"
    }
   ],
   "source": [
    "x = np.array([1,2,3,4])\n",
    "x.astype('float') / 255"
   ]
  },
  {
   "cell_type": "code",
   "execution_count": 12,
   "metadata": {},
   "outputs": [
    {
     "name": "stderr",
     "output_type": "stream",
     "text": [
      "/anaconda3/lib/python3.6/site-packages/ipykernel_launcher.py:2: DeprecationWarning: Both axis > a.ndim and axis < -a.ndim - 1 are deprecated and will raise an AxisError in the future.\n",
      "  \n"
     ]
    },
    {
     "data": {
      "text/plain": [
       "array([[[1],\n",
       "        [2],\n",
       "        [3],\n",
       "        [4]],\n",
       "\n",
       "       [[5],\n",
       "        [6],\n",
       "        [7],\n",
       "        [8]]])"
      ]
     },
     "execution_count": 12,
     "metadata": {},
     "output_type": "execute_result"
    }
   ],
   "source": [
    "x = [[1,2,3,4],[5,6,7,8]]\n",
    "np.expand_dims(x , axis=3)"
   ]
  },
  {
   "cell_type": "code",
   "execution_count": null,
   "metadata": {},
   "outputs": [],
   "source": []
  },
  {
   "cell_type": "markdown",
   "metadata": {},
   "source": [
    "<div style=\"width:100%;height:70px;border: 4px solid #9E5CD1;background-color:#9E5CD1;color:white;text-align:center;border-radius: 25px;padding:3px\"><h1>Model<h1></div>"
   ]
  },
  {
   "cell_type": "markdown",
   "metadata": {},
   "source": [
    "Construct a model with the instructions:\n",
    "- inputs are normalized using BatchNormaliation followed by a Dropout layer with a rate of 0.3\n",
    "- then add a 2D convolutional layer with a kernel of 3x3\n",
    "- output from the covolutional layer goes through a MaxPooling layer\n",
    "- then Flatten the output and add a Dropout layer with a rate of 0.3\n",
    "- connect the output to a Dense layer\n",
    "- followed by a BatchNormalization and relu activation function\n",
    "- then a DropoutLayer\n",
    "- and finally connect to the output layer with an softmax activation function"
   ]
  },
  {
   "cell_type": "code",
   "execution_count": 11,
   "metadata": {},
   "outputs": [],
   "source": [
    "def make_CNN_model():\n",
    "    \n",
    "    model = Sequential()\n",
    "    # input layer transformation (BatchNormalization + Dropout)\n",
    "    model.add(layers.BatchNormalization(name='inputlayer',input_shape=(28,28,1)))\n",
    "    model.add(layers.Dropout(name='Droupout_inputlayer',rate=0.3))\n",
    "    \n",
    "    # convolutional layer (Conv2D + MaxPooling2D + Flatten + Dropout)\n",
    "    model.add(layers.Conv2D(filters=32,activation='relu', name=\"Convoluationlayer_1\",kernel_size=(3,3),border_mode='same'))\n",
    "    \n",
    "    model.add(layers.MaxPooling2D(name='MaxPooling_1'))\n",
    "    model.add(layers.Flatten(name=\"Flaten_1\"))\n",
    "    model.add(layers.Dropout(rate=0.3))\n",
    "              \n",
    "    # fully connected layer (Dense + BatchNormalization + Activation + Dropout)\n",
    "    model.add(layers.Dense(name=\"FullyConnectedLayer_1\",units=150))\n",
    "    model.add(layers.BatchNormalization())\n",
    "    model.add(layers.Activation('relu'))\n",
    "    model.add(layers.Dropout(rate=0.3))\n",
    "    \n",
    "    # output layer (Dense + BatchNormalization + Activation)\n",
    "    model.add(layers.Dense(name = \"Outputlayer\", units=10))\n",
    "    model.add(layers.BatchNormalization())\n",
    "    model.add(layers.Activation('sigmoid'))\n",
    "\n",
    "    return model\n",
    "\n"
   ]
  },
  {
   "cell_type": "code",
   "execution_count": null,
   "metadata": {},
   "outputs": [],
   "source": []
  },
  {
   "cell_type": "code",
   "execution_count": 12,
   "metadata": {},
   "outputs": [],
   "source": [
    "time_summary = TimeSummary()"
   ]
  },
  {
   "cell_type": "code",
   "execution_count": 13,
   "metadata": {},
   "outputs": [
    {
     "name": "stderr",
     "output_type": "stream",
     "text": [
      "/anaconda3/lib/python3.6/site-packages/ipykernel_launcher.py:9: UserWarning: Update your `Conv2D` call to the Keras 2 API: `Conv2D(filters=32, activation=\"relu\", name=\"Convoluationlayer_1\", kernel_size=(3, 3), padding=\"same\")`\n",
      "  if __name__ == '__main__':\n"
     ]
    },
    {
     "name": "stdout",
     "output_type": "stream",
     "text": [
      "Train on 48000 samples, validate on 12000 samples\n",
      "Epoch 1/5\n",
      "48000/48000 [==============================] - 67s 1ms/step - loss: 1.8750 - acc: 0.6622 - val_loss: 1.7133 - val_acc: 0.8596\n",
      "Epoch 2/5\n",
      "48000/48000 [==============================] - 53s 1ms/step - loss: 1.7392 - acc: 0.8393 - val_loss: 1.6954 - val_acc: 0.8850\n",
      "Epoch 3/5\n",
      "48000/48000 [==============================] - 54s 1ms/step - loss: 1.7141 - acc: 0.8627 - val_loss: 1.6835 - val_acc: 0.8884\n",
      "Epoch 4/5\n",
      "48000/48000 [==============================] - 58s 1ms/step - loss: 1.6961 - acc: 0.8756 - val_loss: 1.6786 - val_acc: 0.8844\n",
      "Epoch 5/5\n",
      "48000/48000 [==============================] - 79s 2ms/step - loss: 1.6800 - acc: 0.8880 - val_loss: 1.6785 - val_acc: 0.8797\n"
     ]
    }
   ],
   "source": [
    "set_seed(123) # for reproducibility\n",
    "\n",
    "model = make_CNN_model()\n",
    "model.compile(\n",
    "    optimizer='Adam',\n",
    "    loss='categorical_crossentropy',\n",
    "    metrics=['accuracy']\n",
    ")\n",
    "summary = model.fit(\n",
    "    X_train, y_train_onehot,\n",
    "    batch_size=5000,\n",
    "    epochs=5,\n",
    "    validation_split=0.2,\n",
    "    verbose=1,\n",
    "    callbacks=[time_summary]\n",
    ")"
   ]
  },
  {
   "cell_type": "code",
   "execution_count": 23,
   "metadata": {},
   "outputs": [
    {
     "name": "stdout",
     "output_type": "stream",
     "text": [
      "Test loss: 1.6809773321151733\n",
      "Test accuracy: 0.8808\n",
      "Training time: 0:09:29.688845(HH:MM:SS)\n",
      "Epoch time avg: 0:01:53.937435(HH:MM:SS)\n"
     ]
    },
    {
     "data": {
      "image/png": "[encoded data removed]",
      "text/plain": [
       "<Figure size 1080x432 with 1 Axes>"
      ]
     },
     "metadata": {
      "needs_background": "light"
     },
     "output_type": "display_data"
    },
    {
     "data": {
      "image/png": "[encoded data removed]",
      "text/plain": [
       "<Figure size 1080x432 with 1 Axes>"
      ]
     },
     "metadata": {
      "needs_background": "light"
     },
     "output_type": "display_data"
    }
   ],
   "source": [
    "score = model.evaluate(X_test, y_test_onehot, verbose=0)\n",
    "print('Test loss:', score[0])\n",
    "print('Test accuracy:', score[1])\n",
    "plot_training_summary(summary, time_summary)"
   ]
  },
  {
   "cell_type": "code",
   "execution_count": 24,
   "metadata": {},
   "outputs": [
    {
     "name": "stdout",
     "output_type": "stream",
     "text": [
      "_________________________________________________________________\n",
      "Layer (type)                 Output Shape              Param #   \n",
      "=================================================================\n",
      "inputlayer (BatchNormalizati (None, 28, 28, 1)         4         \n",
      "_________________________________________________________________\n",
      "Droupout_inputlayer (Dropout (None, 28, 28, 1)         0         \n",
      "_________________________________________________________________\n",
      "Convoluationlayer_1 (Conv2D) (None, 28, 28, 32)        320       \n",
      "_________________________________________________________________\n",
      "MaxPooling_1 (MaxPooling2D)  (None, 14, 14, 32)        0         \n",
      "_________________________________________________________________\n",
      "Flaten_1 (Flatten)           (None, 6272)              0         \n",
      "_________________________________________________________________\n",
      "dropout_1 (Dropout)          (None, 6272)              0         \n",
      "_________________________________________________________________\n",
      "FullyConnectedLayer_1 (Dense (None, 150)               940950    \n",
      "_________________________________________________________________\n",
      "batch_normalization_1 (Batch (None, 150)               600       \n",
      "_________________________________________________________________\n",
      "activation_1 (Activation)    (None, 150)               0         \n",
      "_________________________________________________________________\n",
      "dropout_2 (Dropout)          (None, 150)               0         \n",
      "_________________________________________________________________\n",
      "Outputlayer (Dense)          (None, 10)                1510      \n",
      "_________________________________________________________________\n",
      "batch_normalization_2 (Batch (None, 10)                40        \n",
      "_________________________________________________________________\n",
      "activation_2 (Activation)    (None, 10)                0         \n",
      "=================================================================\n",
      "Total params: 943,424\n",
      "Trainable params: 943,102\n",
      "Non-trainable params: 322\n",
      "_________________________________________________________________\n"
     ]
    }
   ],
   "source": [
    "model.summary()"
   ]
  },
  {
   "cell_type": "code",
   "execution_count": null,
   "metadata": {},
   "outputs": [],
   "source": []
  },
  {
   "cell_type": "markdown",
   "metadata": {},
   "source": [
    "<div style=\"width:100%;height:70px;border: 4px solid #9E5CD1;background-color:#9E5CD1;color:white;text-align:center;border-radius: 25px;padding:3px\"><h1>Data: CIFAR Data Set<h1></div>"
   ]
  },
  {
   "cell_type": "code",
   "execution_count": null,
   "metadata": {},
   "outputs": [],
   "source": []
  },
  {
   "cell_type": "markdown",
   "metadata": {},
   "source": [
    "https://www.cs.toronto.edu/~kriz/cifar.html \n",
    "\n",
    "<img src=\"https://camo.githubusercontent.com/8237f16a3441d968f2bcfc9aa540e361c1fa6640/68747470733a2f2f7261772e67697468756275736572636f6e74656e742e636f6d2f6a656666686561746f6e2f7438315f3535385f646565705f6c6561726e696e672f6d61737465722f696d616765732f636c6173735f385f63696661722e706e67\">"
   ]
  },
  {
   "cell_type": "code",
   "execution_count": 22,
   "metadata": {},
   "outputs": [
    {
     "name": "stdout",
     "output_type": "stream",
     "text": [
      "Downloading data from https://www.cs.toronto.edu/~kriz/cifar-10-python.tar.gz\n",
      "170500096/170498071 [==============================] - 512s 3us/step\n"
     ]
    }
   ],
   "source": [
    "(X_train, y_train), (X_test, y_test) = datasets.cifar10.load_data()"
   ]
  },
  {
   "cell_type": "code",
   "execution_count": 23,
   "metadata": {},
   "outputs": [
    {
     "name": "stdout",
     "output_type": "stream",
     "text": [
      "Train:\tX shape:(50000, 32, 32, 3)\tY shape:(50000, 1)\tType (X, y): \n",
      "(uint8, uint8)\tX values (max, min): (0, 255)\n",
      "Test:\tX shape:(10000, 32, 32, 3)\tY shape:(10000, 1)\tType (X, y): \n",
      "(uint8, int64)\tX values (max, min): (0, 255)\n"
     ]
    }
   ],
   "source": [
    "print(f\"\"\"Train:\\tX shape:{X_train.shape}\\tY shape:{y_train.shape}\\tType (X, y): \n",
    "({X_train.dtype}, {y_train.dtype})\\tX values (max, min): ({X_train.min()}, {X_train.max()})\"\"\")\n",
    "print(f\"\"\"Test:\\tX shape:{X_test.shape}\\tY shape:{y_test.shape}\\tType (X, y): \n",
    "({X_test.dtype}, {y_test.dtype})\\tX values (max, min): ({X_test.min()}, {X_test.max()})\"\"\")"
   ]
  },
  {
   "cell_type": "code",
   "execution_count": 24,
   "metadata": {},
   "outputs": [
    {
     "data": {
      "image/png": "[encoded data removed]",
      "text/plain": [
       "<Figure size 1080x432 with 6 Axes>"
      ]
     },
     "metadata": {
      "needs_background": "light"
     },
     "output_type": "display_data"
    }
   ],
   "source": [
    "[ax.imshow(random.choice(X_train), cmap='gray') for ax in plt.subplots(1, 6)[1]];"
   ]
  },
  {
   "cell_type": "markdown",
   "metadata": {},
   "source": [
    "<b>we do the process below, because we want to use 2D convolution ((60000, 28, 28) ----> shape:(60000, 28, 28, 1) # 1 is channel)\n",
    "<br>also we need float number "
   ]
  },
  {
   "cell_type": "code",
   "execution_count": null,
   "metadata": {},
   "outputs": [],
   "source": [
    "#part 1 : add one dimensional (channel)\n",
    "if len(X_train.shape) != 4:\n",
    "    X_train = np.expand_dims(X_train, axis=3)\n",
    "if len(X_test.shape) != 4:\n",
    "    X_test = np.expand_dims(X_test, axis=3)\n",
    "\n",
    "# Part2: make float number:\n",
    "# normalise x_train and x_train:    \n",
    "X_train, X_test = X_train.astype('float') / 255, X_test.astype('float') / 255\n",
    "\n",
    "# Converts a class vector (integers) to binary class matrix.\n",
    "y_train_onehot, y_test_onehot = to_categorical(y_train), to_categorical(y_test)"
   ]
  },
  {
   "cell_type": "markdown",
   "metadata": {},
   "source": [
    "<div style=\"width:100%;height:70px;border: 4px solid #9E5CD1;background-color:#9E5CD1;color:white;text-align:center;border-radius: 25px;padding:3px\"><h1>Model<h1></div>"
   ]
  },
  {
   "cell_type": "code",
   "execution_count": null,
   "metadata": {},
   "outputs": [],
   "source": [
    "def make_CNN_model2():\n",
    "    \n",
    "    \n",
    "    return model"
   ]
  },
  {
   "cell_type": "code",
   "execution_count": null,
   "metadata": {},
   "outputs": [],
   "source": [
    "time_summary = TimeSummary()"
   ]
  },
  {
   "cell_type": "code",
   "execution_count": null,
   "metadata": {},
   "outputs": [],
   "source": [
    "set_seed(123) # for reproducibility\n",
    "\n",
    "model = make_CNN_model2()\n",
    "model.compile(\n",
    "    optimizer='Adam',\n",
    "    loss='categorical_crossentropy',\n",
    "    metrics=['accuracy']\n",
    ")\n",
    "summary = model.fit(\n",
    "    X_train, y_train_onehot,\n",
    "    batch_size=5000,\n",
    "    epochs=5,\n",
    "    validation_split=0.2,\n",
    "    verbose=1,\n",
    "    callbacks=[time_summary]\n",
    ")"
   ]
  },
  {
   "cell_type": "markdown",
   "metadata": {},
   "source": [
    "<div style=\"width:100%;height:70px;border: 4px solid #179871;background-color:#179871;color:white;text-align:center;border-radius: 25px;padding:3px\">\n",
    "\n",
    "<header class=\"w3-container w3-pink w3-teal  w3-round-large w3-center\" style=\"width:100%;height:80px;\">\n",
    "  <h1> PLus Theory:</h1>\n",
    "</header>\n",
    "\n",
    "<div> "
   ]
  },
  {
   "cell_type": "code",
   "execution_count": null,
   "metadata": {},
   "outputs": [],
   "source": []
  },
  {
   "cell_type": "markdown",
   "metadata": {},
   "source": [
    "The process of building a Convolutional Neural Network always involves four major steps.\n",
    "\n",
    "<b>Step - 1 : Convolution\n",
    "\n",
    "<b>Step - 2 : Pooling\n",
    "\n",
    "<b>Step - 3 : Flattening\n",
    "\n",
    "<b>Step - 4 : Full connection"
   ]
  },
  {
   "cell_type": "code",
   "execution_count": null,
   "metadata": {},
   "outputs": [],
   "source": []
  },
  {
   "cell_type": "markdown",
   "metadata": {},
   "source": [
    "## Conv2D layer:"
   ]
  },
  {
   "cell_type": "markdown",
   "metadata": {},
   "source": [
    "<div style=\"border: 4px solid #BFE6FF;background-color:#BFE6FF;color:black;border-radius: 5px;padding:7px\">\n",
    "  <strong> Refrence: </strong><br>\n",
    "\n",
    "   https://keras.io/layers/convolutional/\n",
    "    \n",
    "   https://www.saama.com/blog/different-kinds-convolutional-filters/\n",
    "</div>"
   ]
  },
  {
   "cell_type": "markdown",
   "metadata": {},
   "source": [
    "This layer creates <b>a convolution kernel</b> that is convolved with the layer input to produce a tensor of outputs. If use_bias is True, a bias vector is created and added to the outputs. Finally, if activation is not None, it is applied to the outputs as well."
   ]
  },
  {
   "cell_type": "code",
   "execution_count": null,
   "metadata": {},
   "outputs": [],
   "source": [
    "layers.conv2d(\n",
    "    inputs,\n",
    "    filters, # number of kernals that implement in the picture \n",
    "    kernel_size,\n",
    "    strides=(1, 1),\n",
    "    padding='valid',\n",
    "    data_format='channels_last',\n",
    "    dilation_rate=(1, 1),\n",
    "    activation=None,\n",
    "    use_bias=True,\n",
    "    kernel_initializer=None,\n",
    "    bias_initializer=tf.zeros_initializer(),\n",
    "    kernel_regularizer=None,\n",
    "    bias_regularizer=None,\n",
    "    activity_regularizer=None,\n",
    "    kernel_constraint=None,\n",
    "    bias_constraint=None,\n",
    "    trainable=True,\n",
    "    name=None,\n",
    "    reuse=None\n",
    ")"
   ]
  },
  {
   "cell_type": "markdown",
   "metadata": {},
   "source": [
    "Arguments\n",
    "\n",
    "filters: Integer, the dimensionality of the output space (i.e. the number of output filters in the convolution).<br>\n",
    "\n",
    "kernel_size: An integer or tuple/list of 2 integers, specifying the height and width of the 2D convolution window. Can be a single integer to specify the same value for all spatial dimensions.<br>\n",
    "\n",
    "strides: An integer or tuple/list of 2 integers, specifying the strides of the convolution along the height and width. Can be a single integer to specify the same value for all spatial dimensions. Specifying any stride value != 1 is incompatible with specifying any dilation_rate value != 1.<br>\n",
    "\n",
    "padding: one of \"valid\" or \"same\" (case-insensitive). Note that \"same\" is slightly inconsistent across backends with  strides != 1, as described here\n",
    "\n",
    "data_format: A string, one of \"channels_last\" or \"channels_first\". The ordering of the dimensions in the inputs.  \"channels_last\" corresponds to inputs with shape  (batch, height, width, channels) while \"channels_first\" corresponds to inputs with shape  (batch, channels, height, width). It defaults to the image_data_format value found in your Keras config file at ~/.keras/keras.json. If you never set it, then it will be \"channels_last\".<br>\n",
    "\n",
    "dilation_rate: an integer or tuple/list of 2 integers, specifying the dilation rate to use for dilated convolution. Can be a single integer to specify the same value for all spatial dimensions. Currently, specifying any dilation_rate value != 1 is incompatible with specifying any stride value != 1.\n",
    "\n",
    "activation: Activation function to use (see activations). If you don't specify anything, no activation is applied (ie. \"linear\" activation: a(x) = x).\n",
    "use_bias: Boolean, whether the layer uses a bias vector.\n",
    "\n",
    "kernel_initializer: Initializer for the kernel weights matrix (see initializers).\n",
    "\n",
    "bias_initializer: Initializer for the bias vector (see initializers).\n",
    "\n",
    "kernel_regularizer: Regularizer function applied to the kernel weights matrix (see regularizer).\n",
    "\n",
    "bias_regularizer: Regularizer function applied to the bias vector (see regularizer).\n",
    "\n",
    "activity_regularizer: Regularizer function applied to the output of the layer (its \"activation\"). (see regularizer).\n",
    "\n",
    "kernel_constraint: Constraint function applied to the kernel matrix (see constraints).\n",
    "\n",
    "bias_constraint: Constraint function applied to the bias vector (see constraints).\n"
   ]
  },
  {
   "cell_type": "markdown",
   "metadata": {},
   "source": [
    "### <b>What is convolution kernel?</b><br>\n",
    "(a kernel, convolution matrix, or mask) is  idiom in  imaging processing.<br>\n",
    "In image processing, a kernel, convolution matrix, or mask is a small matrix. It is used for blurring, sharpening, embossing, edge detection, and more. This is accomplished by doing a convolution between a kernel and an image.\n",
    "\n",
    "<b>details:</b><br>\n",
    "<img class=\"w3-card-4 w3-left\" src='https://wikimedia.org/api/rest_v1/media/math/render/svg/05a5816fc6fd12d1da04b24f5b6c51af0bd3b4e2'>\n",
    "<br>\n",
    "\n",
    "\n",
    "<br>\n",
    "Depending on the element values, a kernel can cause a wide range of effects.<br>\n"
   ]
  },
  {
   "cell_type": "markdown",
   "metadata": {},
   "source": [
    "<table class=\"wikitable\">\n",
    "\n",
    "<tbody><tr>\n",
    "<th>Operation\n",
    "</th>\n",
    "<th>Kernel ω\n",
    "</th>\n",
    "<th>Image result g(x,y)\n",
    "</th></tr>\n",
    "<tr>\n",
    "<td><b><a href=\"/wiki/Identity_operation\" class=\"mw-redirect\" title=\"Identity operation\">Identity</a></b>\n",
    "</td>\n",
    "<td align=\"center\"><span class=\"mwe-math-element\"><span class=\"mwe-math-mathml-inline mwe-math-mathml-a11y\" style=\"display: none;\"><math xmlns=\"http://www.w3.org/1998/Math/MathML\" alttext=\"{\\displaystyle {\\begin{bmatrix}0&amp;0&amp;0\\\\0&amp;1&amp;0\\\\0&amp;0&amp;0\\end{bmatrix}}}\">\n",
    "  <semantics>\n",
    "    <mrow class=\"MJX-TeXAtom-ORD\">\n",
    "      <mstyle displaystyle=\"true\" scriptlevel=\"0\">\n",
    "        <mrow class=\"MJX-TeXAtom-ORD\">\n",
    "          <mrow>\n",
    "            <mo>[</mo>\n",
    "            <mtable rowspacing=\"4pt\" columnspacing=\"1em\">\n",
    "              <mtr>\n",
    "                <mtd>\n",
    "                  <mn>0</mn>\n",
    "                </mtd>\n",
    "                <mtd>\n",
    "                  <mn>0</mn>\n",
    "                </mtd>\n",
    "                <mtd>\n",
    "                  <mn>0</mn>\n",
    "                </mtd>\n",
    "              </mtr>\n",
    "              <mtr>\n",
    "                <mtd>\n",
    "                  <mn>0</mn>\n",
    "                </mtd>\n",
    "                <mtd>\n",
    "                  <mn>1</mn>\n",
    "                </mtd>\n",
    "                <mtd>\n",
    "                  <mn>0</mn>\n",
    "                </mtd>\n",
    "              </mtr>\n",
    "              <mtr>\n",
    "                <mtd>\n",
    "                  <mn>0</mn>\n",
    "                </mtd>\n",
    "                <mtd>\n",
    "                  <mn>0</mn>\n",
    "                </mtd>\n",
    "                <mtd>\n",
    "                  <mn>0</mn>\n",
    "                </mtd>\n",
    "              </mtr>\n",
    "            </mtable>\n",
    "            <mo>]</mo>\n",
    "          </mrow>\n",
    "        </mrow>\n",
    "      </mstyle>\n",
    "    </mrow>\n",
    "    <annotation encoding=\"application/x-tex\">{\\displaystyle {\\begin{bmatrix}0&amp;0&amp;0\\\\0&amp;1&amp;0\\\\0&amp;0&amp;0\\end{bmatrix}}}</annotation>\n",
    "  </semantics>\n",
    "</math></span><img src=\"https://wikimedia.org/api/rest_v1/media/math/render/svg/5bf6623ca763ba780b471a565eb1b06cd14b445c\" class=\"mwe-math-fallback-image-inline\" aria-hidden=\"true\" style=\"vertical-align: -4.005ex; width:11.985ex; height:9.176ex;\" alt=\"\n",
    "\\begin{bmatrix}\n",
    "0 &amp; 0 &amp; 0 \\\\\n",
    "0 &amp; 1 &amp; 0 \\\\\n",
    "0 &amp; 0 &amp; 0\n",
    "\\end{bmatrix}\n",
    "\"></span>\n",
    "</td>\n",
    "<td><a href=\"/wiki/File:Vd-Orig.png\" class=\"image\"><img alt=\"Vd-Orig.png\" src=\"//upload.wikimedia.org/wikipedia/commons/5/50/Vd-Orig.png\" width=\"100\" height=\"100\" data-file-width=\"100\" data-file-height=\"100\"></a>\n",
    "</td></tr>\n",
    "<tr>\n",
    "<td rowspan=\"3\"><b><a href=\"/wiki/Edge_detection\" title=\"Edge detection\">Edge detection</a></b>\n",
    "</td>\n",
    "<td align=\"center\"><span class=\"mwe-math-element\"><span class=\"mwe-math-mathml-inline mwe-math-mathml-a11y\" style=\"display: none;\"><math xmlns=\"http://www.w3.org/1998/Math/MathML\" alttext=\"{\\displaystyle {\\begin{bmatrix}\\ \\ 1&amp;0&amp;-1\\\\\\ \\ 0&amp;0&amp;\\ \\ 0\\\\-1&amp;0&amp;\\ \\ 1\\end{bmatrix}}}\">\n",
    "  <semantics>\n",
    "    <mrow class=\"MJX-TeXAtom-ORD\">\n",
    "      <mstyle displaystyle=\"true\" scriptlevel=\"0\">\n",
    "        <mrow class=\"MJX-TeXAtom-ORD\">\n",
    "          <mrow>\n",
    "            <mo>[</mo>\n",
    "            <mtable rowspacing=\"4pt\" columnspacing=\"1em\">\n",
    "              <mtr>\n",
    "                <mtd>\n",
    "                  <mtext>&nbsp;</mtext>\n",
    "                  <mtext>&nbsp;</mtext>\n",
    "                  <mn>1</mn>\n",
    "                </mtd>\n",
    "                <mtd>\n",
    "                  <mn>0</mn>\n",
    "                </mtd>\n",
    "                <mtd>\n",
    "                  <mo>−<!-- − --></mo>\n",
    "                  <mn>1</mn>\n",
    "                </mtd>\n",
    "              </mtr>\n",
    "              <mtr>\n",
    "                <mtd>\n",
    "                  <mtext>&nbsp;</mtext>\n",
    "                  <mtext>&nbsp;</mtext>\n",
    "                  <mn>0</mn>\n",
    "                </mtd>\n",
    "                <mtd>\n",
    "                  <mn>0</mn>\n",
    "                </mtd>\n",
    "                <mtd>\n",
    "                  <mtext>&nbsp;</mtext>\n",
    "                  <mtext>&nbsp;</mtext>\n",
    "                  <mn>0</mn>\n",
    "                </mtd>\n",
    "              </mtr>\n",
    "              <mtr>\n",
    "                <mtd>\n",
    "                  <mo>−<!-- − --></mo>\n",
    "                  <mn>1</mn>\n",
    "                </mtd>\n",
    "                <mtd>\n",
    "                  <mn>0</mn>\n",
    "                </mtd>\n",
    "                <mtd>\n",
    "                  <mtext>&nbsp;</mtext>\n",
    "                  <mtext>&nbsp;</mtext>\n",
    "                  <mn>1</mn>\n",
    "                </mtd>\n",
    "              </mtr>\n",
    "            </mtable>\n",
    "            <mo>]</mo>\n",
    "          </mrow>\n",
    "        </mrow>\n",
    "      </mstyle>\n",
    "    </mrow>\n",
    "    <annotation encoding=\"application/x-tex\">{\\displaystyle {\\begin{bmatrix}\\ \\ 1&amp;0&amp;-1\\\\\\ \\ 0&amp;0&amp;\\ \\ 0\\\\-1&amp;0&amp;\\ \\ 1\\end{bmatrix}}}</annotation>\n",
    "  </semantics>\n",
    "</math></span><img src=\"https://wikimedia.org/api/rest_v1/media/math/render/svg/548cba0e0cbc6afb1a43ea75c806079910b34c3e\" class=\"mwe-math-fallback-image-inline\" aria-hidden=\"true\" style=\"vertical-align: -4.005ex; width:15.601ex; height:9.176ex;\" alt=\"\n",
    "\\begin{bmatrix}\n",
    "\\ \\ 1 &amp; 0 &amp; -1 \\\\\n",
    "\\ \\ 0 &amp; 0 &amp; \\ \\ 0 \\\\\n",
    "-1 &amp; 0 &amp; \\ \\ 1\n",
    "\\end{bmatrix}\n",
    "\"></span>\n",
    "</td>\n",
    "<td><a href=\"/wiki/File:Vd-Edge1.png\" class=\"image\"><img alt=\"Vd-Edge1.png\" src=\"//upload.wikimedia.org/wikipedia/commons/8/8d/Vd-Edge1.png\" width=\"100\" height=\"100\" data-file-width=\"100\" data-file-height=\"100\"></a>\n",
    "</td></tr>\n",
    "<tr>\n",
    "<td align=\"center\"><span class=\"mwe-math-element\"><span class=\"mwe-math-mathml-inline mwe-math-mathml-a11y\" style=\"display: none;\"><math xmlns=\"http://www.w3.org/1998/Math/MathML\" alttext=\"{\\displaystyle {\\begin{bmatrix}0&amp;\\ \\ 1&amp;0\\\\1&amp;-4&amp;1\\\\0&amp;\\ \\ 1&amp;0\\end{bmatrix}}}\">\n",
    "  <semantics>\n",
    "    <mrow class=\"MJX-TeXAtom-ORD\">\n",
    "      <mstyle displaystyle=\"true\" scriptlevel=\"0\">\n",
    "        <mrow class=\"MJX-TeXAtom-ORD\">\n",
    "          <mrow>\n",
    "            <mo>[</mo>\n",
    "            <mtable rowspacing=\"4pt\" columnspacing=\"1em\">\n",
    "              <mtr>\n",
    "                <mtd>\n",
    "                  <mn>0</mn>\n",
    "                </mtd>\n",
    "                <mtd>\n",
    "                  <mtext>&nbsp;</mtext>\n",
    "                  <mtext>&nbsp;</mtext>\n",
    "                  <mn>1</mn>\n",
    "                </mtd>\n",
    "                <mtd>\n",
    "                  <mn>0</mn>\n",
    "                </mtd>\n",
    "              </mtr>\n",
    "              <mtr>\n",
    "                <mtd>\n",
    "                  <mn>1</mn>\n",
    "                </mtd>\n",
    "                <mtd>\n",
    "                  <mo>−<!-- − --></mo>\n",
    "                  <mn>4</mn>\n",
    "                </mtd>\n",
    "                <mtd>\n",
    "                  <mn>1</mn>\n",
    "                </mtd>\n",
    "              </mtr>\n",
    "              <mtr>\n",
    "                <mtd>\n",
    "                  <mn>0</mn>\n",
    "                </mtd>\n",
    "                <mtd>\n",
    "                  <mtext>&nbsp;</mtext>\n",
    "                  <mtext>&nbsp;</mtext>\n",
    "                  <mn>1</mn>\n",
    "                </mtd>\n",
    "                <mtd>\n",
    "                  <mn>0</mn>\n",
    "                </mtd>\n",
    "              </mtr>\n",
    "            </mtable>\n",
    "            <mo>]</mo>\n",
    "          </mrow>\n",
    "        </mrow>\n",
    "      </mstyle>\n",
    "    </mrow>\n",
    "    <annotation encoding=\"application/x-tex\">{\\displaystyle {\\begin{bmatrix}0&amp;\\ \\ 1&amp;0\\\\1&amp;-4&amp;1\\\\0&amp;\\ \\ 1&amp;0\\end{bmatrix}}}</annotation>\n",
    "  </semantics>\n",
    "</math></span><img src=\"https://wikimedia.org/api/rest_v1/media/math/render/svg/485992cb4024ac032e53eea37c24c30829cdfed6\" class=\"mwe-math-fallback-image-inline\" aria-hidden=\"true\" style=\"vertical-align: -4.005ex; width:13.793ex; height:9.176ex;\" alt=\"\n",
    "\\begin{bmatrix}\n",
    "0 &amp;  \\ \\ 1 &amp; 0 \\\\\n",
    "1 &amp; -4 &amp; 1 \\\\\n",
    "0 &amp;  \\ \\ 1 &amp; 0\n",
    "\\end{bmatrix}\n",
    "\"></span>\n",
    "</td>\n",
    "<td><a href=\"/wiki/File:Vd-Edge2.png\" class=\"image\"><img alt=\"Vd-Edge2.png\" src=\"//upload.wikimedia.org/wikipedia/commons/8/83/Vd-Edge2.png\" width=\"100\" height=\"100\" data-file-width=\"100\" data-file-height=\"100\"></a>\n",
    "</td></tr>\n",
    "<tr>\n",
    "<td align=\"center\"><span class=\"mwe-math-element\"><span class=\"mwe-math-mathml-inline mwe-math-mathml-a11y\" style=\"display: none;\"><math xmlns=\"http://www.w3.org/1998/Math/MathML\" alttext=\"{\\displaystyle {\\begin{bmatrix}-1&amp;-1&amp;-1\\\\-1&amp;\\ \\ 8&amp;-1\\\\-1&amp;-1&amp;-1\\end{bmatrix}}}\">\n",
    "  <semantics>\n",
    "    <mrow class=\"MJX-TeXAtom-ORD\">\n",
    "      <mstyle displaystyle=\"true\" scriptlevel=\"0\">\n",
    "        <mrow class=\"MJX-TeXAtom-ORD\">\n",
    "          <mrow>\n",
    "            <mo>[</mo>\n",
    "            <mtable rowspacing=\"4pt\" columnspacing=\"1em\">\n",
    "              <mtr>\n",
    "                <mtd>\n",
    "                  <mo>−<!-- − --></mo>\n",
    "                  <mn>1</mn>\n",
    "                </mtd>\n",
    "                <mtd>\n",
    "                  <mo>−<!-- − --></mo>\n",
    "                  <mn>1</mn>\n",
    "                </mtd>\n",
    "                <mtd>\n",
    "                  <mo>−<!-- − --></mo>\n",
    "                  <mn>1</mn>\n",
    "                </mtd>\n",
    "              </mtr>\n",
    "              <mtr>\n",
    "                <mtd>\n",
    "                  <mo>−<!-- − --></mo>\n",
    "                  <mn>1</mn>\n",
    "                </mtd>\n",
    "                <mtd>\n",
    "                  <mtext>&nbsp;</mtext>\n",
    "                  <mtext>&nbsp;</mtext>\n",
    "                  <mn>8</mn>\n",
    "                </mtd>\n",
    "                <mtd>\n",
    "                  <mo>−<!-- − --></mo>\n",
    "                  <mn>1</mn>\n",
    "                </mtd>\n",
    "              </mtr>\n",
    "              <mtr>\n",
    "                <mtd>\n",
    "                  <mo>−<!-- − --></mo>\n",
    "                  <mn>1</mn>\n",
    "                </mtd>\n",
    "                <mtd>\n",
    "                  <mo>−<!-- − --></mo>\n",
    "                  <mn>1</mn>\n",
    "                </mtd>\n",
    "                <mtd>\n",
    "                  <mo>−<!-- − --></mo>\n",
    "                  <mn>1</mn>\n",
    "                </mtd>\n",
    "              </mtr>\n",
    "            </mtable>\n",
    "            <mo>]</mo>\n",
    "          </mrow>\n",
    "        </mrow>\n",
    "      </mstyle>\n",
    "    </mrow>\n",
    "    <annotation encoding=\"application/x-tex\">{\\displaystyle {\\begin{bmatrix}-1&amp;-1&amp;-1\\\\-1&amp;\\ \\ 8&amp;-1\\\\-1&amp;-1&amp;-1\\end{bmatrix}}}</annotation>\n",
    "  </semantics>\n",
    "</math></span><img src=\"https://wikimedia.org/api/rest_v1/media/math/render/svg/f800ad5f76b6c26c729ff0c1fef44284d7cade7a\" class=\"mwe-math-fallback-image-inline\" aria-hidden=\"true\" style=\"vertical-align: -4.005ex; width:17.409ex; height:9.176ex;\" alt=\"\n",
    "\\begin{bmatrix}\n",
    "-1 &amp;  -1 &amp; -1 \\\\\n",
    "-1 &amp; \\ \\ 8 &amp; -1 \\\\\n",
    "-1 &amp;  -1 &amp; -1\n",
    "\\end{bmatrix}\n",
    "\"></span>\n",
    "</td>\n",
    "<td><a href=\"/wiki/File:Vd-Edge3.png\" class=\"image\"><img alt=\"Vd-Edge3.png\" src=\"//upload.wikimedia.org/wikipedia/commons/6/6d/Vd-Edge3.png\" width=\"100\" height=\"100\" data-file-width=\"100\" data-file-height=\"100\"></a>\n",
    "</td></tr>\n",
    "<tr>\n",
    "<td><b>Sharpen</b>\n",
    "</td>\n",
    "<td align=\"center\"><span class=\"mwe-math-element\"><span class=\"mwe-math-mathml-inline mwe-math-mathml-a11y\" style=\"display: none;\"><math xmlns=\"http://www.w3.org/1998/Math/MathML\" alttext=\"{\\displaystyle {\\begin{bmatrix}\\ \\ 0&amp;-1&amp;\\ \\ 0\\\\-1&amp;\\ \\ 5&amp;-1\\\\\\ \\ 0&amp;-1&amp;\\ \\ 0\\end{bmatrix}}}\">\n",
    "  <semantics>\n",
    "    <mrow class=\"MJX-TeXAtom-ORD\">\n",
    "      <mstyle displaystyle=\"true\" scriptlevel=\"0\">\n",
    "        <mrow class=\"MJX-TeXAtom-ORD\">\n",
    "          <mrow>\n",
    "            <mo>[</mo>\n",
    "            <mtable rowspacing=\"4pt\" columnspacing=\"1em\">\n",
    "              <mtr>\n",
    "                <mtd>\n",
    "                  <mtext>&nbsp;</mtext>\n",
    "                  <mtext>&nbsp;</mtext>\n",
    "                  <mn>0</mn>\n",
    "                </mtd>\n",
    "                <mtd>\n",
    "                  <mo>−<!-- − --></mo>\n",
    "                  <mn>1</mn>\n",
    "                </mtd>\n",
    "                <mtd>\n",
    "                  <mtext>&nbsp;</mtext>\n",
    "                  <mtext>&nbsp;</mtext>\n",
    "                  <mn>0</mn>\n",
    "                </mtd>\n",
    "              </mtr>\n",
    "              <mtr>\n",
    "                <mtd>\n",
    "                  <mo>−<!-- − --></mo>\n",
    "                  <mn>1</mn>\n",
    "                </mtd>\n",
    "                <mtd>\n",
    "                  <mtext>&nbsp;</mtext>\n",
    "                  <mtext>&nbsp;</mtext>\n",
    "                  <mn>5</mn>\n",
    "                </mtd>\n",
    "                <mtd>\n",
    "                  <mo>−<!-- − --></mo>\n",
    "                  <mn>1</mn>\n",
    "                </mtd>\n",
    "              </mtr>\n",
    "              <mtr>\n",
    "                <mtd>\n",
    "                  <mtext>&nbsp;</mtext>\n",
    "                  <mtext>&nbsp;</mtext>\n",
    "                  <mn>0</mn>\n",
    "                </mtd>\n",
    "                <mtd>\n",
    "                  <mo>−<!-- − --></mo>\n",
    "                  <mn>1</mn>\n",
    "                </mtd>\n",
    "                <mtd>\n",
    "                  <mtext>&nbsp;</mtext>\n",
    "                  <mtext>&nbsp;</mtext>\n",
    "                  <mn>0</mn>\n",
    "                </mtd>\n",
    "              </mtr>\n",
    "            </mtable>\n",
    "            <mo>]</mo>\n",
    "          </mrow>\n",
    "        </mrow>\n",
    "      </mstyle>\n",
    "    </mrow>\n",
    "    <annotation encoding=\"application/x-tex\">{\\displaystyle {\\begin{bmatrix}\\ \\ 0&amp;-1&amp;\\ \\ 0\\\\-1&amp;\\ \\ 5&amp;-1\\\\\\ \\ 0&amp;-1&amp;\\ \\ 0\\end{bmatrix}}}</annotation>\n",
    "  </semantics>\n",
    "</math></span><img src=\"https://wikimedia.org/api/rest_v1/media/math/render/svg/beb8b9a493e8b9cf5deccd61bd845a59ea2e62cc\" class=\"mwe-math-fallback-image-inline\" aria-hidden=\"true\" style=\"vertical-align: -4.005ex; width:17.409ex; height:9.176ex;\" alt=\"\n",
    "\\begin{bmatrix}\n",
    "\\ \\ 0 &amp; -1 &amp; \\ \\ 0 \\\\\n",
    "-1 &amp; \\ \\ 5 &amp; -1 \\\\\n",
    "\\ \\ 0 &amp; -1 &amp; \\ \\ 0\n",
    "\\end{bmatrix}\n",
    "\"></span>\n",
    "</td>\n",
    "<td><a href=\"/wiki/File:Vd-Sharp.png\" class=\"image\"><img alt=\"Vd-Sharp.png\" src=\"//upload.wikimedia.org/wikipedia/commons/4/4e/Vd-Sharp.png\" width=\"100\" height=\"100\" data-file-width=\"100\" data-file-height=\"100\"></a>\n",
    "</td></tr>\n",
    "<tr>\n",
    "<td><b><a href=\"/wiki/Box_blur\" title=\"Box blur\">Box blur</a></b> <br> <small>(<a href=\"/wiki/Normalization_(image_processing)\" title=\"Normalization (image processing)\">normalized</a>)</small>\n",
    "</td>\n",
    "<td align=\"center\"><span class=\"mwe-math-element\"><span class=\"mwe-math-mathml-inline mwe-math-mathml-a11y\" style=\"display: none;\"><math xmlns=\"http://www.w3.org/1998/Math/MathML\" alttext=\"{\\displaystyle {\\frac {1}{9}}{\\begin{bmatrix}1&amp;1&amp;1\\\\1&amp;1&amp;1\\\\1&amp;1&amp;1\\end{bmatrix}}}\">\n",
    "  <semantics>\n",
    "    <mrow class=\"MJX-TeXAtom-ORD\">\n",
    "      <mstyle displaystyle=\"true\" scriptlevel=\"0\">\n",
    "        <mrow class=\"MJX-TeXAtom-ORD\">\n",
    "          <mfrac>\n",
    "            <mn>1</mn>\n",
    "            <mn>9</mn>\n",
    "          </mfrac>\n",
    "        </mrow>\n",
    "        <mrow class=\"MJX-TeXAtom-ORD\">\n",
    "          <mrow>\n",
    "            <mo>[</mo>\n",
    "            <mtable rowspacing=\"4pt\" columnspacing=\"1em\">\n",
    "              <mtr>\n",
    "                <mtd>\n",
    "                  <mn>1</mn>\n",
    "                </mtd>\n",
    "                <mtd>\n",
    "                  <mn>1</mn>\n",
    "                </mtd>\n",
    "                <mtd>\n",
    "                  <mn>1</mn>\n",
    "                </mtd>\n",
    "              </mtr>\n",
    "              <mtr>\n",
    "                <mtd>\n",
    "                  <mn>1</mn>\n",
    "                </mtd>\n",
    "                <mtd>\n",
    "                  <mn>1</mn>\n",
    "                </mtd>\n",
    "                <mtd>\n",
    "                  <mn>1</mn>\n",
    "                </mtd>\n",
    "              </mtr>\n",
    "              <mtr>\n",
    "                <mtd>\n",
    "                  <mn>1</mn>\n",
    "                </mtd>\n",
    "                <mtd>\n",
    "                  <mn>1</mn>\n",
    "                </mtd>\n",
    "                <mtd>\n",
    "                  <mn>1</mn>\n",
    "                </mtd>\n",
    "              </mtr>\n",
    "            </mtable>\n",
    "            <mo>]</mo>\n",
    "          </mrow>\n",
    "        </mrow>\n",
    "      </mstyle>\n",
    "    </mrow>\n",
    "    <annotation encoding=\"application/x-tex\">{\\displaystyle {\\frac {1}{9}}{\\begin{bmatrix}1&amp;1&amp;1\\\\1&amp;1&amp;1\\\\1&amp;1&amp;1\\end{bmatrix}}}</annotation>\n",
    "  </semantics>\n",
    "</math></span><img src=\"https://wikimedia.org/api/rest_v1/media/math/render/svg/f1e6d5ec15af752f471372b96a1be4a83e02873e\" class=\"mwe-math-fallback-image-inline\" aria-hidden=\"true\" style=\"vertical-align: -4.005ex; width:13.983ex; height:9.176ex;\" alt=\"\n",
    "\\frac{1}{9}\n",
    "\\begin{bmatrix}\n",
    "1 &amp; 1 &amp; 1 \\\\\n",
    "1 &amp; 1 &amp; 1 \\\\\n",
    "1 &amp; 1 &amp; 1\n",
    "\\end{bmatrix}\n",
    "\"></span>\n",
    "</td>\n",
    "<td><a href=\"/wiki/File:Vd-Blur2.png\" class=\"image\"><img alt=\"Vd-Blur2.png\" src=\"//upload.wikimedia.org/wikipedia/commons/0/04/Vd-Blur2.png\" width=\"100\" height=\"100\" data-file-width=\"100\" data-file-height=\"100\"></a>\n",
    "</td></tr>\n",
    "<tr>\n",
    "<td><b><a href=\"/wiki/Gaussian_blur\" title=\"Gaussian blur\">Gaussian blur</a> 3 × 3</b> <br> <small>(approximation)</small>\n",
    "</td>\n",
    "<td align=\"center\"><span class=\"mwe-math-element\"><span class=\"mwe-math-mathml-inline mwe-math-mathml-a11y\" style=\"display: none;\"><math xmlns=\"http://www.w3.org/1998/Math/MathML\" alttext=\"{\\displaystyle {\\frac {1}{16}}{\\begin{bmatrix}1&amp;2&amp;1\\\\2&amp;4&amp;2\\\\1&amp;2&amp;1\\end{bmatrix}}}\">\n",
    "  <semantics>\n",
    "    <mrow class=\"MJX-TeXAtom-ORD\">\n",
    "      <mstyle displaystyle=\"true\" scriptlevel=\"0\">\n",
    "        <mrow class=\"MJX-TeXAtom-ORD\">\n",
    "          <mfrac>\n",
    "            <mn>1</mn>\n",
    "            <mn>16</mn>\n",
    "          </mfrac>\n",
    "        </mrow>\n",
    "        <mrow class=\"MJX-TeXAtom-ORD\">\n",
    "          <mrow>\n",
    "            <mo>[</mo>\n",
    "            <mtable rowspacing=\"4pt\" columnspacing=\"1em\">\n",
    "              <mtr>\n",
    "                <mtd>\n",
    "                  <mn>1</mn>\n",
    "                </mtd>\n",
    "                <mtd>\n",
    "                  <mn>2</mn>\n",
    "                </mtd>\n",
    "                <mtd>\n",
    "                  <mn>1</mn>\n",
    "                </mtd>\n",
    "              </mtr>\n",
    "              <mtr>\n",
    "                <mtd>\n",
    "                  <mn>2</mn>\n",
    "                </mtd>\n",
    "                <mtd>\n",
    "                  <mn>4</mn>\n",
    "                </mtd>\n",
    "                <mtd>\n",
    "                  <mn>2</mn>\n",
    "                </mtd>\n",
    "              </mtr>\n",
    "              <mtr>\n",
    "                <mtd>\n",
    "                  <mn>1</mn>\n",
    "                </mtd>\n",
    "                <mtd>\n",
    "                  <mn>2</mn>\n",
    "                </mtd>\n",
    "                <mtd>\n",
    "                  <mn>1</mn>\n",
    "                </mtd>\n",
    "              </mtr>\n",
    "            </mtable>\n",
    "            <mo>]</mo>\n",
    "          </mrow>\n",
    "        </mrow>\n",
    "      </mstyle>\n",
    "    </mrow>\n",
    "    <annotation encoding=\"application/x-tex\">{\\displaystyle {\\frac {1}{16}}{\\begin{bmatrix}1&amp;2&amp;1\\\\2&amp;4&amp;2\\\\1&amp;2&amp;1\\end{bmatrix}}}</annotation>\n",
    "  </semantics>\n",
    "</math></span><img src=\"https://wikimedia.org/api/rest_v1/media/math/render/svg/c1e0a314554ab3663f129961ebd28fec307e74c4\" class=\"mwe-math-fallback-image-inline\" aria-hidden=\"true\" style=\"vertical-align: -4.005ex; width:15.146ex; height:9.176ex;\" alt=\"\n",
    "\\frac{1}{16}\n",
    "\\begin{bmatrix}\n",
    "1 &amp; 2 &amp; 1 \\\\\n",
    "2 &amp; 4 &amp; 2 \\\\\n",
    "1 &amp; 2 &amp; 1\n",
    "\\end{bmatrix}\n",
    "\"></span>\n",
    "</td>\n",
    "<td><a href=\"/wiki/File:Vd-Blur1.png\" class=\"image\"><img alt=\"Vd-Blur1.png\" src=\"//upload.wikimedia.org/wikipedia/commons/2/28/Vd-Blur1.png\" width=\"100\" height=\"100\" data-file-width=\"100\" data-file-height=\"100\"></a>\n",
    "</td></tr>\n",
    "<tr>\n",
    "<td><b><a href=\"/wiki/Gaussian_blur\" title=\"Gaussian blur\">Gaussian blur</a> 5 × 5</b> <br> <small>(approximation)</small>\n",
    "</td>\n",
    "<td align=\"center\"><span class=\"mwe-math-element\"><span class=\"mwe-math-mathml-inline mwe-math-mathml-a11y\" style=\"display: none;\"><math xmlns=\"http://www.w3.org/1998/Math/MathML\" alttext=\"{\\displaystyle {\\frac {1}{256}}{\\begin{bmatrix}1&amp;4&amp;6&amp;4&amp;1\\\\4&amp;16&amp;24&amp;16&amp;4\\\\6&amp;24&amp;36&amp;24&amp;6\\\\4&amp;16&amp;24&amp;16&amp;4\\\\1&amp;4&amp;6&amp;4&amp;1\\end{bmatrix}}}\">\n",
    "  <semantics>\n",
    "    <mrow class=\"MJX-TeXAtom-ORD\">\n",
    "      <mstyle displaystyle=\"true\" scriptlevel=\"0\">\n",
    "        <mrow class=\"MJX-TeXAtom-ORD\">\n",
    "          <mfrac>\n",
    "            <mn>1</mn>\n",
    "            <mn>256</mn>\n",
    "          </mfrac>\n",
    "        </mrow>\n",
    "        <mrow class=\"MJX-TeXAtom-ORD\">\n",
    "          <mrow>\n",
    "            <mo>[</mo>\n",
    "            <mtable rowspacing=\"4pt\" columnspacing=\"1em\">\n",
    "              <mtr>\n",
    "                <mtd>\n",
    "                  <mn>1</mn>\n",
    "                </mtd>\n",
    "                <mtd>\n",
    "                  <mn>4</mn>\n",
    "                </mtd>\n",
    "                <mtd>\n",
    "                  <mn>6</mn>\n",
    "                </mtd>\n",
    "                <mtd>\n",
    "                  <mn>4</mn>\n",
    "                </mtd>\n",
    "                <mtd>\n",
    "                  <mn>1</mn>\n",
    "                </mtd>\n",
    "              </mtr>\n",
    "              <mtr>\n",
    "                <mtd>\n",
    "                  <mn>4</mn>\n",
    "                </mtd>\n",
    "                <mtd>\n",
    "                  <mn>16</mn>\n",
    "                </mtd>\n",
    "                <mtd>\n",
    "                  <mn>24</mn>\n",
    "                </mtd>\n",
    "                <mtd>\n",
    "                  <mn>16</mn>\n",
    "                </mtd>\n",
    "                <mtd>\n",
    "                  <mn>4</mn>\n",
    "                </mtd>\n",
    "              </mtr>\n",
    "              <mtr>\n",
    "                <mtd>\n",
    "                  <mn>6</mn>\n",
    "                </mtd>\n",
    "                <mtd>\n",
    "                  <mn>24</mn>\n",
    "                </mtd>\n",
    "                <mtd>\n",
    "                  <mn>36</mn>\n",
    "                </mtd>\n",
    "                <mtd>\n",
    "                  <mn>24</mn>\n",
    "                </mtd>\n",
    "                <mtd>\n",
    "                  <mn>6</mn>\n",
    "                </mtd>\n",
    "              </mtr>\n",
    "              <mtr>\n",
    "                <mtd>\n",
    "                  <mn>4</mn>\n",
    "                </mtd>\n",
    "                <mtd>\n",
    "                  <mn>16</mn>\n",
    "                </mtd>\n",
    "                <mtd>\n",
    "                  <mn>24</mn>\n",
    "                </mtd>\n",
    "                <mtd>\n",
    "                  <mn>16</mn>\n",
    "                </mtd>\n",
    "                <mtd>\n",
    "                  <mn>4</mn>\n",
    "                </mtd>\n",
    "              </mtr>\n",
    "              <mtr>\n",
    "                <mtd>\n",
    "                  <mn>1</mn>\n",
    "                </mtd>\n",
    "                <mtd>\n",
    "                  <mn>4</mn>\n",
    "                </mtd>\n",
    "                <mtd>\n",
    "                  <mn>6</mn>\n",
    "                </mtd>\n",
    "                <mtd>\n",
    "                  <mn>4</mn>\n",
    "                </mtd>\n",
    "                <mtd>\n",
    "                  <mn>1</mn>\n",
    "                </mtd>\n",
    "              </mtr>\n",
    "            </mtable>\n",
    "            <mo>]</mo>\n",
    "          </mrow>\n",
    "        </mrow>\n",
    "      </mstyle>\n",
    "    </mrow>\n",
    "    <annotation encoding=\"application/x-tex\">{\\displaystyle {\\frac {1}{256}}{\\begin{bmatrix}1&amp;4&amp;6&amp;4&amp;1\\\\4&amp;16&amp;24&amp;16&amp;4\\\\6&amp;24&amp;36&amp;24&amp;6\\\\4&amp;16&amp;24&amp;16&amp;4\\\\1&amp;4&amp;6&amp;4&amp;1\\end{bmatrix}}}</annotation>\n",
    "  </semantics>\n",
    "</math></span><img src=\"https://wikimedia.org/api/rest_v1/media/math/render/svg/f91401a3e97428f14862afa1c781c55f4157580b\" class=\"mwe-math-fallback-image-inline\" aria-hidden=\"true\" style=\"vertical-align: -7.338ex; width:26.766ex; height:15.843ex;\" alt=\"{\\displaystyle {\\frac {1}{256}}{\\begin{bmatrix}1&amp;4&amp;6&amp;4&amp;1\\\\4&amp;16&amp;24&amp;16&amp;4\\\\6&amp;24&amp;36&amp;24&amp;6\\\\4&amp;16&amp;24&amp;16&amp;4\\\\1&amp;4&amp;6&amp;4&amp;1\\end{bmatrix}}}\"></span>\n",
    "</td>\n",
    "<td><a href=\"/wiki/File:Vd-Blur_Gaussian_5x5.png\" class=\"image\"><img alt=\"Vd-Blur Gaussian 5x5.png\" src=\"//upload.wikimedia.org/wikipedia/commons/0/04/Vd-Blur_Gaussian_5x5.png\" width=\"100\" height=\"100\" data-file-width=\"100\" data-file-height=\"100\"></a>\n",
    "</td></tr>\n",
    "<tr>\n",
    "<td><b><a href=\"/wiki/Unsharp_masking\" title=\"Unsharp masking\">Unsharp masking</a> 5 × 5</b> <br>Based on Gaussian blur <br> with amount as 1 and <br> threshold as 0<br> <small>(with no <a href=\"/wiki/Image_mask\" class=\"mw-redirect\" title=\"Image mask\">image mask</a>)</small>\n",
    "</td>\n",
    "<td align=\"center\"><span class=\"mwe-math-element\"><span class=\"mwe-math-mathml-inline mwe-math-mathml-a11y\" style=\"display: none;\"><math xmlns=\"http://www.w3.org/1998/Math/MathML\" alttext=\"{\\displaystyle {\\frac {-1}{256}}{\\begin{bmatrix}1&amp;4&amp;\\ \\ 6&amp;4&amp;1\\\\4&amp;16&amp;\\ \\ 24&amp;16&amp;4\\\\6&amp;24&amp;-476&amp;24&amp;6\\\\4&amp;16&amp;\\ \\ 24&amp;16&amp;4\\\\1&amp;4&amp;\\ \\ 6&amp;4&amp;1\\end{bmatrix}}}\">\n",
    "  <semantics>\n",
    "    <mrow class=\"MJX-TeXAtom-ORD\">\n",
    "      <mstyle displaystyle=\"true\" scriptlevel=\"0\">\n",
    "        <mrow class=\"MJX-TeXAtom-ORD\">\n",
    "          <mfrac>\n",
    "            <mrow>\n",
    "              <mo>−<!-- − --></mo>\n",
    "              <mn>1</mn>\n",
    "            </mrow>\n",
    "            <mn>256</mn>\n",
    "          </mfrac>\n",
    "        </mrow>\n",
    "        <mrow class=\"MJX-TeXAtom-ORD\">\n",
    "          <mrow>\n",
    "            <mo>[</mo>\n",
    "            <mtable rowspacing=\"4pt\" columnspacing=\"1em\">\n",
    "              <mtr>\n",
    "                <mtd>\n",
    "                  <mn>1</mn>\n",
    "                </mtd>\n",
    "                <mtd>\n",
    "                  <mn>4</mn>\n",
    "                </mtd>\n",
    "                <mtd>\n",
    "                  <mtext>&nbsp;</mtext>\n",
    "                  <mtext>&nbsp;</mtext>\n",
    "                  <mn>6</mn>\n",
    "                </mtd>\n",
    "                <mtd>\n",
    "                  <mn>4</mn>\n",
    "                </mtd>\n",
    "                <mtd>\n",
    "                  <mn>1</mn>\n",
    "                </mtd>\n",
    "              </mtr>\n",
    "              <mtr>\n",
    "                <mtd>\n",
    "                  <mn>4</mn>\n",
    "                </mtd>\n",
    "                <mtd>\n",
    "                  <mn>16</mn>\n",
    "                </mtd>\n",
    "                <mtd>\n",
    "                  <mtext>&nbsp;</mtext>\n",
    "                  <mtext>&nbsp;</mtext>\n",
    "                  <mn>24</mn>\n",
    "                </mtd>\n",
    "                <mtd>\n",
    "                  <mn>16</mn>\n",
    "                </mtd>\n",
    "                <mtd>\n",
    "                  <mn>4</mn>\n",
    "                </mtd>\n",
    "              </mtr>\n",
    "              <mtr>\n",
    "                <mtd>\n",
    "                  <mn>6</mn>\n",
    "                </mtd>\n",
    "                <mtd>\n",
    "                  <mn>24</mn>\n",
    "                </mtd>\n",
    "                <mtd>\n",
    "                  <mo>−<!-- − --></mo>\n",
    "                  <mn>476</mn>\n",
    "                </mtd>\n",
    "                <mtd>\n",
    "                  <mn>24</mn>\n",
    "                </mtd>\n",
    "                <mtd>\n",
    "                  <mn>6</mn>\n",
    "                </mtd>\n",
    "              </mtr>\n",
    "              <mtr>\n",
    "                <mtd>\n",
    "                  <mn>4</mn>\n",
    "                </mtd>\n",
    "                <mtd>\n",
    "                  <mn>16</mn>\n",
    "                </mtd>\n",
    "                <mtd>\n",
    "                  <mtext>&nbsp;</mtext>\n",
    "                  <mtext>&nbsp;</mtext>\n",
    "                  <mn>24</mn>\n",
    "                </mtd>\n",
    "                <mtd>\n",
    "                  <mn>16</mn>\n",
    "                </mtd>\n",
    "                <mtd>\n",
    "                  <mn>4</mn>\n",
    "                </mtd>\n",
    "              </mtr>\n",
    "              <mtr>\n",
    "                <mtd>\n",
    "                  <mn>1</mn>\n",
    "                </mtd>\n",
    "                <mtd>\n",
    "                  <mn>4</mn>\n",
    "                </mtd>\n",
    "                <mtd>\n",
    "                  <mtext>&nbsp;</mtext>\n",
    "                  <mtext>&nbsp;</mtext>\n",
    "                  <mn>6</mn>\n",
    "                </mtd>\n",
    "                <mtd>\n",
    "                  <mn>4</mn>\n",
    "                </mtd>\n",
    "                <mtd>\n",
    "                  <mn>1</mn>\n",
    "                </mtd>\n",
    "              </mtr>\n",
    "            </mtable>\n",
    "            <mo>]</mo>\n",
    "          </mrow>\n",
    "        </mrow>\n",
    "      </mstyle>\n",
    "    </mrow>\n",
    "    <annotation encoding=\"application/x-tex\">{\\displaystyle {\\frac {-1}{256}}{\\begin{bmatrix}1&amp;4&amp;\\ \\ 6&amp;4&amp;1\\\\4&amp;16&amp;\\ \\ 24&amp;16&amp;4\\\\6&amp;24&amp;-476&amp;24&amp;6\\\\4&amp;16&amp;\\ \\ 24&amp;16&amp;4\\\\1&amp;4&amp;\\ \\ 6&amp;4&amp;1\\end{bmatrix}}}</annotation>\n",
    "  </semantics>\n",
    "</math></span><img src=\"https://wikimedia.org/api/rest_v1/media/math/render/svg/259aa5d59203cb5fd7a04263ae9c09301c70dc97\" class=\"mwe-math-fallback-image-inline\" aria-hidden=\"true\" style=\"vertical-align: -7.338ex; width:29.736ex; height:15.843ex;\" alt=\"\n",
    "\\frac{-1}{256}\n",
    "\\begin{bmatrix}\n",
    "1 &amp; 4 &amp; \\ \\ 6 &amp; 4 &amp; 1 \\\\\n",
    "4 &amp; 16 &amp; \\ \\ 24 &amp; 16 &amp; 4 \\\\\n",
    "6 &amp; 24 &amp; -476 &amp; 24 &amp; 6 \\\\\n",
    "4 &amp; 16 &amp; \\ \\ 24 &amp; 16 &amp; 4 \\\\\n",
    "1 &amp; 4 &amp; \\ \\ 6 &amp; 4 &amp; 1\n",
    "\\end{bmatrix}\n",
    "\"></span>\n",
    "</td>\n",
    "<td><a href=\"/wiki/File:Vd-Unsharp_5x5.png\" class=\"image\"><img alt=\"Vd-Unsharp 5x5.png\" src=\"//upload.wikimedia.org/wikipedia/commons/e/ef/Vd-Unsharp_5x5.png\" width=\"100\" height=\"100\" data-file-width=\"100\" data-file-height=\"100\"></a>\n",
    "</td></tr>\n",
    "</tbody></table>"
   ]
  },
  {
   "cell_type": "markdown",
   "metadata": {},
   "source": [
    "<b>Convolution: </b><br>\n",
    "Convolution is the process of adding each element of the image to its local neighbors, weighted by the kernel. This is related to a form of mathematical convolution. It should be noted that the matrix operation being performed - convolution - is not traditional matrix multiplication, despite being similarly denoted by *.\n",
    "\n",
    "For example, if we have two three-by-three matrices, the first a kernel, and the second an image piece, convolution is the process of flipping both the rows and columns of the kernel and then multiplying locally similar entries and summing. The element at coordinates [2, 2] (that is, the central element) of the resulting image would be a weighted combination of all the entries of the image matrix, with weights given by the kernel:\n",
    "\n",
    "<img class=\"w3-card-4 w3-left\" src='https://wikimedia.org/api/rest_v1/media/math/render/svg/570600fdeed436d98626278f22bf034ff5ab5162'>"
   ]
  },
  {
   "cell_type": "code",
   "execution_count": null,
   "metadata": {},
   "outputs": [],
   "source": [
    "for each image row in input image:\n",
    "   for each pixel in image row:\n",
    "\n",
    "      set accumulator to zero\n",
    "\n",
    "      for each kernel row in kernel:\n",
    "         for each element in kernel row:\n",
    "\n",
    "            if element position  corresponding* to pixel position then\n",
    "               multiply element value  corresponding* to pixel value\n",
    "               add result to accumulator\n",
    "            endif\n",
    "\n",
    "      set output image pixel to accumulator"
   ]
  },
  {
   "cell_type": "markdown",
   "metadata": {},
   "source": [
    "<img class=\"w3-card-4 w3-left\" src='https://upload.wikimedia.org/wikipedia/commons/thumb/2/21/Comparison_convolution_correlation.svg/800px-Comparison_convolution_correlation.svg.png'>"
   ]
  },
  {
   "cell_type": "markdown",
   "metadata": {},
   "source": [
    "<img class=\"w3-card-4 w3-left\" src='https://wikimedia.org/api/rest_v1/media/math/render/svg/d8bba6bd4c841360efdb66319c7c367d6f178215'>"
   ]
  },
  {
   "cell_type": "markdown",
   "metadata": {},
   "source": [
    "<img class=\"w3-card-4 w3-left\" src=\"https://saama-dbe0.kxcdn.com/wp-content/uploads/2017/12/1_SVkgHoFoiMZkjy54zM_SUw.gif?iv=34\">"
   ]
  },
  {
   "cell_type": "code",
   "execution_count": null,
   "metadata": {},
   "outputs": [],
   "source": []
  },
  {
   "cell_type": "markdown",
   "metadata": {},
   "source": [
    "<div style=\"border: 4px solid #BFE6FF;background-color:#BFE6FF;color:black;border-radius: 5px;padding:7px\">\n",
    "  <strong> Refrence: </strong><br>\n",
    "\n",
    "\n",
    "https://en.wikipedia.org/wiki/Kernel_(image_processing)\n",
    "    \n",
    " https://en.wikipedia.org/wiki/Convolution\n",
    "    \n",
    "    \n",
    "  http://machinelearninguru.com/computer_vision/basics/convolution/image_convolution_1.html\n",
    "    </div>"
   ]
  },
  {
   "cell_type": "markdown",
   "metadata": {},
   "source": [
    "## MaxPooling2D layer:"
   ]
  },
  {
   "cell_type": "code",
   "execution_count": null,
   "metadata": {},
   "outputs": [],
   "source": []
  },
  {
   "cell_type": "code",
   "execution_count": null,
   "metadata": {},
   "outputs": [],
   "source": []
  },
  {
   "cell_type": "markdown",
   "metadata": {},
   "source": [
    "## Flatten layer:"
   ]
  },
  {
   "cell_type": "markdown",
   "metadata": {},
   "source": [
    "Flattens the input. Does not affect the batch size.<br>\n",
    "The flattening step is needed so that you can make use of fully connected layers after some convolutional layers. Fully connected layers don't have a local limitation like convolutional layers (which only observe some local part of an image by using convolutional filters). This means you can combine all the found local features of the previous convolutional layers.Each feature map channel in the output of a CNN layer is a \"flattened\" 2D array created by adding the results of multiple 2D kernels (one for each channel in the input layer).<br>\n",
    "The last stage of a convolutional neural network (CNN) is a classifier. It is called a dense layer, which is just an artificial neural network (ANN) classifier.\n",
    "\n",
    "And an ANN classifier needs individual features, just like any other classifier. This means it needs a feature vector.\n",
    "\n",
    "Therefore, you need to convert the output of the convolutional part of the CNN into a 1D feature vector, to be used by the ANN part of it. This operation is called flattening. It gets the output of the convolutional layers, flattens all its structure to create a single long feature vector to be used by the dense layer for the final classification."
   ]
  },
  {
   "cell_type": "markdown",
   "metadata": {},
   "source": [
    "2D convolution layers processing 2D data (for example, images) usually output a tridimensional tensor, with the dimensions being the image resolution (minus the filter size -1) and the number of filters. If you use a layer with N filters of size s on WxH images, the result will be of dimension (W-(s-1), H - (s-1), N). You have N images of resolution (W-(s-1), H - (s-1)). This structure is important if you want to chain convolution layers together or with other layers that perform a spatial treatment (pooling, upscaling, etc.).<br>\n",
    "<b>That’s what “flattening” means. It transforms your tridimensional (W-(s-1), H - (s-1), N) tensor into a monodimensional tensor (a vector) of size (W-(s-1))x(H - (s-1))xN."
   ]
  },
  {
   "cell_type": "markdown",
   "metadata": {},
   "source": [
    "<div style=\"border: 4px solid #BFE6FF;background-color:#BFE6FF;color:black;border-radius: 5px;padding:7px\">\n",
    "  <strong> Refrence: </strong><br>\n",
    "\n",
    "https://www.quora.com/What-is-the-meaning-of-flattening-step-in-a-convolutional-neural-network\n",
    "    </div>"
   ]
  },
  {
   "cell_type": "code",
   "execution_count": null,
   "metadata": {},
   "outputs": [],
   "source": []
  },
  {
   "cell_type": "markdown",
   "metadata": {},
   "source": [
    "## categorical_crossentropy loss funcation:"
   ]
  },
  {
   "cell_type": "markdown",
   "metadata": {},
   "source": [
    "<img src=\"https://cloud.githubusercontent.com/assets/18217467/25556005/1bb51402-2d12-11e7-87ef-a9bad097a858.png\">"
   ]
  },
  {
   "cell_type": "code",
   "execution_count": null,
   "metadata": {},
   "outputs": [],
   "source": []
  },
  {
   "cell_type": "code",
   "execution_count": null,
   "metadata": {},
   "outputs": [],
   "source": []
  },
  {
   "cell_type": "code",
   "execution_count": null,
   "metadata": {},
   "outputs": [],
   "source": []
  },
  {
   "cell_type": "code",
   "execution_count": null,
   "metadata": {},
   "outputs": [],
   "source": []
  },
  {
   "cell_type": "code",
   "execution_count": null,
   "metadata": {},
   "outputs": [],
   "source": []
  }
 ],
 "metadata": {
  "kernelspec": {
   "display_name": "Python 3",
   "language": "python",
   "name": "python3"
  },
  "language_info": {
   "codemirror_mode": {
    "name": "ipython",
    "version": 3
   },
   "file_extension": ".py",
   "mimetype": "text/x-python",
   "name": "python",
   "nbconvert_exporter": "python",
   "pygments_lexer": "ipython3",
   "version": "3.6.8"
  }
 },
 "nbformat": 4,
 "nbformat_minor": 2
}
