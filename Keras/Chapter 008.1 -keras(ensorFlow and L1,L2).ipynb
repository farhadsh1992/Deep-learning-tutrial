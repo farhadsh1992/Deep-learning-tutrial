{
 "cells": [
  {
   "cell_type": "markdown",
   "metadata": {},
   "source": [
    "<div style=\"width:100%;height:125px;text-align:center;border: 4px solid #F2E203;background-color:#F2E203;color:black\">\n",
    "\n",
    "<header  style=\"width:100%;height:100px;\">\n",
    "  <h1><b>Chapter 8.1</b></h1>\n",
    "    <h4>TensorFlow and L1/L2 - part2</h4>\n",
    "</header>\n",
    "\n",
    "<div> "
   ]
  },
  {
   "cell_type": "code",
   "execution_count": null,
   "metadata": {},
   "outputs": [],
   "source": []
  },
  {
   "cell_type": "code",
   "execution_count": null,
   "metadata": {},
   "outputs": [],
   "source": []
  },
  {
   "cell_type": "markdown",
   "metadata": {},
   "source": [
    "<div style=\"position: relative;height:100px;\">\n",
    "    \n",
    "<div  style=\"width:300px;position:absolute;left: auto;border: 4px solid white;background-color:#F2E203;color:black\">\n",
    "    <header></header>\n",
    "    <a href=\"#t\" style=\"padding:5px;color:black;text-align: center;\" href=\"#Chapter3\">\n",
    "      <h4 ><b>TensorFlow and L1/L2</b></h4>\n",
    "      </a>\n",
    " </div>\n",
    "    \n",
    " <div style=\"width:300px;position:absolute;left: 305px;border: 4px solid white;background-color:#F2E203;color:black\">\n",
    "    <header></header>\n",
    "    <a href=\"#data\"style=\"position: relative;padding:5px;color:black;;text-align: center;\" href=\"#Chapter3\">\n",
    "      <h4 ><b>data</b></h4>\n",
    "      </a>\n",
    "     \n",
    "  </div>\n",
    "    <div style=\"width:300px;position:absolute;left: 610px;border: 4px solid white;background-color:#F2E203;color:black\">\n",
    "    <header></header>\n",
    "    <a href=\"#model\"style=\"position: relative;padding:5px;color:black;;text-align: center;\" href=\"#Chapter3\">\n",
    "      <h4 ><b>Model</b></h4>\n",
    "      </a>\n",
    "        </div>\n",
    "\n",
    "    \n",
    "   <div  style=\"width:300px;position:absolute;left: 915px;border: 4px solid white;background-color:#F2E203;color:black\">\n",
    "    <header></header>\n",
    "    <a href=\"#list\"style=\"position: relative;padding:5px;color:black;;text-align: center;\" href=\"#Chapter3\">\n",
    "      <h4 ><b>load data</b></h4>\n",
    "      </a>\n",
    "    </div>\n",
    "  \n",
    "    \n",
    "   <div  style=\"width:300px;position:absolute;left: 1220px;border: 4px solid white;background-color:#F2E203;color:black\">\n",
    "    <header></header>\n",
    "    <a href=\"#list\"style=\"position: relative;padding:5px;color:black;text-align: center;\" href=\"#Chapter3\">\n",
    "      <h4 ><b></b></h4>\n",
    "      </a>\n",
    "    </div>\n",
    "</div>\n",
    "<!------------------------------------------------------------------------------------------------------------------------>\n"
   ]
  },
  {
   "cell_type": "code",
   "execution_count": null,
   "metadata": {},
   "outputs": [],
   "source": []
  },
  {
   "cell_type": "markdown",
   "metadata": {},
   "source": [
    "<div id=\"t\" style=\"width:100%;height:70px;border: 4px solid #F2E203;background-color:#F2E203;color:white;text-align:center;border-radius: 25px;padding:3px;color:black\">\n",
    "  <header><h2><b>TensorFlow and L1/L2</b></h2></header>\n",
    "</div>"
   ]
  },
  {
   "cell_type": "markdown",
   "metadata": {},
   "source": [
    "<div style=\"border: 4px solid #BFE6FF;background-color:#BFE6FF;color:black;border-radius: 5px;padding:7px\">\n",
    "  <strong> Refrence: </strong><br>\n",
    "    \n",
    "\n",
    "https://github.com/jeffheaton/t81_558_deep_learning/blob/master/t81_558_class09_regularization.ipynb\n",
    "    \n",
    "https://www.youtube.com/watch?v=xyymDGReKdY&index=31&list=PLjy4p-07OYzulelvJ5KVaT2pDlxivl_BN&frags=wn   \n",
    "    \n",
    "</div>"
   ]
  },
  {
   "cell_type": "code",
   "execution_count": null,
   "metadata": {},
   "outputs": [],
   "source": []
  },
  {
   "cell_type": "markdown",
   "metadata": {},
   "source": [
    "Both L1 and L2 work differently in the way that they penalize the size of a weight. L2 will force the weights into a pattern similar to a Gaussian distribution; the L1 will force the weights into a pattern similar to a Laplace distribution, as demonstrated the following:\n",
    "<img src=\"https://camo.githubusercontent.com/ace7a6311e1b7c67fda7425a6a9c74627335b084/68747470733a2f2f7261772e67697468756275736572636f6e74656e742e636f6d2f6a656666686561746f6e2f7438315f3535385f646565705f6c6561726e696e672f6d61737465722f696d616765732f636c6173735f395f6c315f6c322e706e67\">\n",
    "\n",
    " L1 algorithm is more tolerant of weights further from 0, whereas the L2 algorithm is less tolerant. We will highlight other important differences between L1 and L2 in the following sections. You also need to note that both L1 and L2 count their penalties based only on weights; they do not count penalties on bias values.\n",
    " \n",
    "Tensor flow allows [l1/l2 to be directly added to your network](https://tensorlayer.readthedocs.io/en/stable/modules/cost.html)."
   ]
  },
  {
   "cell_type": "markdown",
   "metadata": {},
   "source": [
    "<div id=\"data\" style=\"width:100%;height:70px;border: 4px solid #F2E203;background-color:#F2E203;color:white;text-align:center;border-radius: 25px;padding:3px;color:black\">\n",
    "  <header><h2><b>data</b></h2></header>\n",
    "</div>"
   ]
  },
  {
   "cell_type": "code",
   "execution_count": 1,
   "metadata": {},
   "outputs": [
    {
     "data": {
      "text/html": [
       "<div>\n",
       "<style scoped>\n",
       "    .dataframe tbody tr th:only-of-type {\n",
       "        vertical-align: middle;\n",
       "    }\n",
       "\n",
       "    .dataframe tbody tr th {\n",
       "        vertical-align: top;\n",
       "    }\n",
       "\n",
       "    .dataframe thead th {\n",
       "        text-align: right;\n",
       "    }\n",
       "</style>\n",
       "<table border=\"1\" class=\"dataframe\">\n",
       "  <thead>\n",
       "    <tr style=\"text-align: right;\">\n",
       "      <th></th>\n",
       "      <th>mpg</th>\n",
       "      <th>cylinders</th>\n",
       "      <th>displacement</th>\n",
       "      <th>horsepower</th>\n",
       "      <th>weight</th>\n",
       "      <th>acceleration</th>\n",
       "      <th>year</th>\n",
       "      <th>origin</th>\n",
       "      <th>name</th>\n",
       "    </tr>\n",
       "  </thead>\n",
       "  <tbody>\n",
       "    <tr>\n",
       "      <th>0</th>\n",
       "      <td>18.0</td>\n",
       "      <td>8</td>\n",
       "      <td>307.0</td>\n",
       "      <td>130.0</td>\n",
       "      <td>3504</td>\n",
       "      <td>12.0</td>\n",
       "      <td>70</td>\n",
       "      <td>1</td>\n",
       "      <td>chevrolet chevelle malibu</td>\n",
       "    </tr>\n",
       "    <tr>\n",
       "      <th>1</th>\n",
       "      <td>15.0</td>\n",
       "      <td>8</td>\n",
       "      <td>350.0</td>\n",
       "      <td>165.0</td>\n",
       "      <td>3693</td>\n",
       "      <td>11.5</td>\n",
       "      <td>70</td>\n",
       "      <td>1</td>\n",
       "      <td>buick skylark 320</td>\n",
       "    </tr>\n",
       "    <tr>\n",
       "      <th>2</th>\n",
       "      <td>18.0</td>\n",
       "      <td>8</td>\n",
       "      <td>318.0</td>\n",
       "      <td>150.0</td>\n",
       "      <td>3436</td>\n",
       "      <td>11.0</td>\n",
       "      <td>70</td>\n",
       "      <td>1</td>\n",
       "      <td>plymouth satellite</td>\n",
       "    </tr>\n",
       "  </tbody>\n",
       "</table>\n",
       "</div>"
      ],
      "text/plain": [
       "    mpg  cylinders  displacement  horsepower  weight  acceleration  year  \\\n",
       "0  18.0          8         307.0       130.0    3504          12.0    70   \n",
       "1  15.0          8         350.0       165.0    3693          11.5    70   \n",
       "2  18.0          8         318.0       150.0    3436          11.0    70   \n",
       "\n",
       "   origin                       name  \n",
       "0       1  chevrolet chevelle malibu  \n",
       "1       1          buick skylark 320  \n",
       "2       1         plymouth satellite  "
      ]
     },
     "execution_count": 1,
     "metadata": {},
     "output_type": "execute_result"
    }
   ],
   "source": [
    "import pandas as pd\n",
    "df = pd.read_csv(\"data/auto-mpg.csv\",na_values=[\"NA\",\"?\"])\n",
    "df.head(3)"
   ]
  },
  {
   "cell_type": "code",
   "execution_count": 2,
   "metadata": {},
   "outputs": [],
   "source": [
    "from farhad_DL.utility import missing_median, to_xy\n",
    "from sklearn.model_selection import train_test_split"
   ]
  },
  {
   "cell_type": "code",
   "execution_count": 3,
   "metadata": {},
   "outputs": [],
   "source": [
    "from farhad_DL.utility import missing_median\n",
    "df.drop('name',axis=1,inplace=True)\n",
    "missing_median(df, \"horsepower\")\n",
    "x, y = to_xy(df, 'mpg')\n",
    "x_train, x_test, y_train, y_test = train_test_split(x,y, test_size=0.25, random_state= 42)"
   ]
  },
  {
   "cell_type": "markdown",
   "metadata": {},
   "source": [
    "<div id=\"model\"style=\"width:100%;height:70px;border: 4px solid #F2E203;background-color:#F2E203;color:white;text-align:center;border-radius: 25px;padding:3px;color:black\">\n",
    "  <header><h2><b>Model</b></h2></header>\n",
    "</div>"
   ]
  },
  {
   "cell_type": "code",
   "execution_count": 9,
   "metadata": {},
   "outputs": [],
   "source": [
    "from tensorflow.keras.models import Sequential\n",
    "from tensorflow.keras.layers import Dense, Dropout\n",
    "from tensorflow.keras.losses import mean_squared_error\n",
    "from tensorflow.keras.callbacks import EarlyStopping\n",
    "from tensorflow.logging import set_verbosity, ERROR\n",
    "\n",
    "from tensorflow.keras import regularizers \n",
    "\n",
    "from sklearn.metrics import confusion_matrix, mean_squared_error\n",
    "from farhad_DL.utils import TimeSummary, plot_training_summary, Estimate_Deeptime\n",
    "\n",
    "import numpy as np"
   ]
  },
  {
   "cell_type": "code",
   "execution_count": 21,
   "metadata": {},
   "outputs": [],
   "source": [
    "def Regularization():\n",
    "    model = Sequential()\n",
    "    \n",
    "    model.add(Dense(50, input_dim=x.shape[1],activation=\"relu\"))\n",
    "    model.add(Dense(25,activation=\"relu\"))\n",
    "    model.add(Dense(10,kernel_regularizer=regularizers.l2(0.01),\n",
    "                activity_regularizer=regularizers.l1(0.01), activation=\"relu\"))\n",
    "    \n",
    "    model.add(Dense(1))\n",
    "    model.compile(loss='mean_squared_error', optimizer='adam', metrics=[\"accuracy\"])\n",
    "    return model"
   ]
  },
  {
   "cell_type": "code",
   "execution_count": 27,
   "metadata": {},
   "outputs": [
    {
     "name": "stdout",
     "output_type": "stream",
     "text": [
      "100/100 [==============================] - 0s 47us/step\n",
      "Final score (RMSE): 2.561331\n",
      "Final Losse: 16.036672039031984\n",
      "Final accuracy: 0.11\n"
     ]
    }
   ],
   "source": [
    "set_verbosity(ERROR)\n",
    "epochs = 1000\n",
    "monitor = EarlyStopping(monitor='val_cross',mode='auto',verbose=1,min_delta=1e-3,patience=5)\n",
    "#estimate_cpu = Estimate_Deeptime(epochs)\n",
    "time_summary = TimeSummary()\n",
    "\n",
    "model = Regularization()\n",
    "summary = model.fit(x_train,y_train, validation_data=(x_test,y_test), \n",
    "          callbacks=[monitor,time_summary], verbose=0,epochs=epochs)\n",
    "\n",
    "pred = model.predict(x_test)\n",
    "rm = np.sqrt(mean_squared_error(pred, y_test))\n",
    "score = model.evaluate(x_test, y_test)\n",
    "print(\"Final score (RMSE):\",rm)\n",
    "print(\"Final Losse:\", score[0])\n",
    "print(\"Final accuracy:\",score[1])\n",
    "#plot_training_summary(time_summary,summary)"
   ]
  },
  {
   "cell_type": "code",
   "execution_count": null,
   "metadata": {},
   "outputs": [],
   "source": []
  },
  {
   "cell_type": "code",
   "execution_count": null,
   "metadata": {},
   "outputs": [],
   "source": []
  }
 ],
 "metadata": {
  "kernelspec": {
   "display_name": "Python 3",
   "language": "python",
   "name": "python3"
  },
  "language_info": {
   "codemirror_mode": {
    "name": "ipython",
    "version": 3
   },
   "file_extension": ".py",
   "mimetype": "text/x-python",
   "name": "python",
   "nbconvert_exporter": "python",
   "pygments_lexer": "ipython3",
   "version": "3.6.8"
  }
 },
 "nbformat": 4,
 "nbformat_minor": 2
}
