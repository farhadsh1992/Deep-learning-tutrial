{
 "cells": [
  {
   "cell_type": "markdown",
   "metadata": {},
   "source": [
    "<div style=\"width:100%;height:125px;text-align:center;border: 4px solid #392424;background-color:#392424;color:white\">\n",
    "\n",
    "<header  style=\"width:100%;height:100px;\">\n",
    "  <h1><b>Chapter 7.1</b></h1>\n",
    "    <h4>Titanic_(example from kaggle)</h4>\n",
    "</header>\n",
    "\n",
    "<div> "
   ]
  },
  {
   "cell_type": "code",
   "execution_count": null,
   "metadata": {},
   "outputs": [],
   "source": []
  },
  {
   "cell_type": "markdown",
   "metadata": {},
   "source": [
    "# brief contents:"
   ]
  },
  {
   "cell_type": "markdown",
   "metadata": {},
   "source": [
    "<div style=\"position: relative;height:100px;\">\n",
    "    \n",
    "<div  style=\"width:300px;position:absolute;left: auto;border: 4px solid white;background-color:#392424;color:white\">\n",
    "    <header></header>\n",
    "    <a href=\"#pre\" style=\"padding:5px;color:white;text-align: center;\" href=\"#Chapter3\">\n",
    "      <h4 ><b>Pre_processin</b></h4>\n",
    "      </a>\n",
    " </div>\n",
    "    \n",
    " <div style=\"width:300px;position:absolute;left: 305px;border: 4px solid white;background-color:#392424;color:whitee\">\n",
    "    <header></header>\n",
    "    <a href=\"#load_data\"style=\"position: relative;padding:5px;color:white;text-align: center;\" href=\"#Chapter3\">\n",
    "      <h4 ><b>Load Data</b></h4>\n",
    "      </a>\n",
    "     \n",
    "  </div>\n",
    "    <div style=\"width:300px;position:absolute;left: 610px;border: 4px solid white;background-color:#392424;color:white\">\n",
    "    <header></header>\n",
    "    <a href=\"#model\"style=\"position: relative;padding:5px;color:white;text-align: center;\" href=\"#Chapter3\">\n",
    "      <h4 ><b>Model</b></h4>\n",
    "      </a>\n",
    "        </div>\n",
    "\n",
    "    \n",
    "   <div  style=\"width:300px;position:absolute;left: 915px;border: 4px solid white;background-color:#392424;color:white\">\n",
    "    <header></header>\n",
    "    <a href=\"#test_model\"style=\"position: relative;padding:5px;color:white;text-align: center;\" href=\"#Chapter3\">\n",
    "      <h4 ><b>Test Model</b></h4>\n",
    "      </a>\n",
    "    </div>\n",
    "  \n",
    "    \n",
    "   <div  style=\"width:300px;position:absolute;left: 1220px;border: 4px solid white;background-color:#392424;color:white\">\n",
    "    <header></header>\n",
    "    <a href=\"#list\"style=\"position: relative;padding:5px;color:white;text-align: center;\" href=\"#Chapter3\">\n",
    "      <h4 ><b></b></h4>\n",
    "      </a>\n",
    "    </div>\n",
    "</div>"
   ]
  },
  {
   "cell_type": "code",
   "execution_count": null,
   "metadata": {},
   "outputs": [],
   "source": []
  },
  {
   "cell_type": "markdown",
   "metadata": {},
   "source": [
    "<div id=\"#pre\" style=\"width:100%;height:70px;border: 4px solid #392424;background-color:#392424;color:white;text-align:center;border-radius: 25px;padding:3px\">\n",
    "  <header><h2><b>Pre_processing funcation</b></h2></header>\n",
    "</div>"
   ]
  },
  {
   "cell_type": "code",
   "execution_count": 4,
   "metadata": {},
   "outputs": [],
   "source": [
    "def modify_Fare(train, test):\n",
    "    data = [train, test]\n",
    "    for dataset in data:\n",
    "        dataset.loc[ dataset['Fare'] <= 7.91, 'Fare'] = 0\n",
    "        dataset.loc[(dataset['Fare'] > 7.91) & (dataset['Fare'] <= 14.454), 'Fare'] = 1\n",
    "        dataset.loc[(dataset['Fare'] > 14.454) & (dataset['Fare'] <= 31), 'Fare']   = 2\n",
    "        dataset.loc[(dataset['Fare'] > 31) & (dataset['Fare'] <= 99), 'Fare']   = 3\n",
    "        dataset.loc[(dataset['Fare'] > 99) & (dataset['Fare'] <= 250), 'Fare']   = 4\n",
    "        dataset.loc[ dataset['Fare'] > 250, 'Fare'] = 5\n",
    "        dataset['Fare'] = dataset['Fare'].astype(int)\n",
    "    return train, test\n",
    "\n",
    "def modify_Embarked(train, test):\n",
    "    ports = {\"S\": 0, \"C\": 1, \"Q\": 2}\n",
    "    train.Embarked = train.Embarked.map(ports)\n",
    "    test.Embarked = test.Embarked.map(ports)\n",
    "    return train, test\n",
    "\n",
    "\n",
    "def modify_sex(train, test):\n",
    "    genders = {'male':0, \"female\":1}\n",
    "    train.Sex = train.Sex.map(genders) \n",
    "    test.Sex = test.Sex.map(genders) \n",
    "    \n",
    "    return train, test\n",
    "\n",
    "def modify_name(train, test):\n",
    "    titles = {\"Mr\": 1, \"Miss\": 2, \"Mrs\": 3, \"Master\": 4, \"Rare\": 5}\n",
    "    \n",
    "    data = [train, test]\n",
    "    for dataset in data:\n",
    "        # extract titles\n",
    "        dataset['Title'] = dataset.Name.str.extract(' ([A-Za-z]+)\\.', expand=False)\n",
    "        # replace titles with a more common title or as Rare\n",
    "        dataset['Title'] = dataset['Title'].replace(['Lady', \n",
    "                                                      'Countess','Capt', \n",
    "                                                     'Col','Don', 'Dr','Major', \n",
    "                                                     'Rev', 'Sir', 'Jonkheer', 'Dona'],\n",
    "                                                    'Rare')\n",
    "        dataset['Title'] = dataset['Title'].replace('Mlle', 'Miss')\n",
    "        dataset['Title'] = dataset['Title'].replace('Ms', 'Miss')\n",
    "        dataset['Title'] = dataset['Title'].replace('Mme', 'Mrs')\n",
    "        \n",
    "        # convert titles into numbers\n",
    "        dataset['Title'] = dataset['Title'].map(titles)\n",
    "        # filling NaN with 0, to get safe\n",
    "        dataset['Title'] = dataset['Title'].fillna(0)\n",
    "    train = train.drop(['Name'], axis=1)\n",
    "    test = test.drop(['Name'], axis=1)\n",
    "    \n",
    "    return train, test\n",
    "\n",
    "\n",
    "def missing_random():\n",
    "    data = [train_df, test_df]\n",
    "    for dataset in data:\n",
    "        mean = train_df[\"Age\"].mean()\n",
    "        std = test_df[\"Age\"].std()\n",
    "        is_null = dataset[\"Age\"].isnull().sum()\n",
    "        # compute random numbers between the mean, std and is_null\n",
    "        rand_age = np.random.randint(mean - std, mean + std, size = is_null)\n",
    "        # fill NaN values in Age column with random values generated\n",
    "        age_slice = dataset[\"Age\"].copy()\n",
    "        age_slice[np.isnan(age_slice)] = rand_age\n",
    "        dataset[\"Age\"] = age_slice\n",
    "        dataset[\"Age\"] = train_df[\"Age\"].astype(int)\n",
    "    print(train_df[\"Age\"].isnull().sum())\n",
    "    return train_df, test_df\n",
    "\n",
    "\n",
    "def modify_cabin(train, test):\n",
    "    deck = {\"A\": 1, \"B\": 2, \"C\": 3, \"D\": 4, \"E\": 5, \"F\": 6, \"G\": 7, \"U\": 8}\n",
    "    data = [train,test]\n",
    "    for dataset in data:\n",
    "        dataset['Cabin'] =dataset['Cabin'].fillna('U0')\n",
    "        dataset['Deck'] = dataset[\"Cabin\"].map(\n",
    "            lambda x : re.compile('([a-zA-z]+)').search(x).group())\n",
    "        dataset['Deck'] = dataset['Deck'].map(deck)\n",
    "        dataset['Deck'] = dataset['Deck'].fillna(0)\n",
    "        dataset['Deck'] = dataset['Deck'].astype(int)\n",
    "        \n",
    "def modify_age(train, test):\n",
    "    data= [train, test]\n",
    "    for dataset in data:\n",
    "        dataset['Age'] = dataset['Age'].astype(int)\n",
    "        dataset.loc[ dataset['Age'] <= 11, 'Age'] = 0\n",
    "        dataset.loc[(dataset['Age'] > 11) & (dataset['Age'] <= 18), 'Age'] = 1\n",
    "        dataset.loc[(dataset['Age'] > 18) & (dataset['Age'] <= 22), 'Age'] = 2\n",
    "        dataset.loc[(dataset['Age'] > 22) & (dataset['Age'] <= 27), 'Age'] = 3\n",
    "        dataset.loc[(dataset['Age'] > 27) & (dataset['Age'] <= 33), 'Age'] = 4\n",
    "        dataset.loc[(dataset['Age'] > 33) & (dataset['Age'] <= 40), 'Age'] = 5\n",
    "        dataset.loc[(dataset['Age'] > 40) & (dataset['Age'] <= 66), 'Age'] = 6\n",
    "        dataset.loc[ dataset['Age'] > 66, 'Age'] = 6\n",
    "        \n",
    "    return train, test\n",
    "def make_relative(train, test):\n",
    "    data = [train, test]\n",
    "    for dataset in data:\n",
    "        dataset['relatives'] = dataset['SibSp'] + dataset['Parch']\n",
    "        dataset.loc[dataset['relatives'] > 0, 'not_alone'] = 0\n",
    "        dataset.loc[dataset['relatives'] == 0, 'not_alone'] = 1\n",
    "        dataset['not_alone'] = dataset['not_alone'].astype(int)\n",
    "    return train, test\n",
    "\n",
    "def Fare_per_Person(train, test):\n",
    "    data = [train, test]\n",
    "    dataset['Fare_Per_Person'] = dataset['Fare']/(dataset['relatives']+1)\n",
    "    dataset['Fare_Per_Person'] = dataset['Fare_Per_Person'].astype(int)\n",
    "    return train, test\n",
    "def data_modify(train, test):\n",
    "    train = train.drop(['PassengerId',\"Ticket\"],axis=1)\n",
    "    test = test.drop(['Ticket'],axis=1)\n",
    "    \n",
    "    # Cabin\n",
    "    modify_cabin(train, test)\n",
    "    train = train.drop(['Cabin'], axis=1)\n",
    "    test = test.drop(['Cabin'], axis=1)\n",
    "    \n",
    "    # Age:\n",
    "    missing_median(train,'Age')\n",
    "    missing_median(test,'Age')\n",
    "    train, test = modify_age(train, test)\n",
    "    \n",
    "    # Embarked\n",
    "    missing_maxitration(train,'Embarked')\n",
    "    missing_maxitration(test,'Embarked')\n",
    "    train, test = modify_Embarked(train, test)\n",
    "    \n",
    "    # Fare\n",
    "    train['Fare'], test['Fare'] = train[\"Fare\"].fillna(0),test['Fare'].fillna(0)\n",
    "    train['Fare'],test['Fare'] = train[\"Fare\"].astype(int),test['Fare'].astype(int)\n",
    "    \n",
    "    # Name\n",
    "    train, test = modify_name(train, test)\n",
    "    \n",
    "    #Sex \n",
    "    train, test = modify_sex(train, test)\n",
    "    \n",
    "    \n",
    "    # Fare\n",
    "    train, test = modify_Fare(train, test)\n",
    "    \n",
    "    # Creating new Features\n",
    "    train, test = make_relative(train, test)\n",
    "    train['Age_Class'] = train.Age * train.Pclass\n",
    "    test['Age_Class'] = test.Age * test.Pclass\n",
    "    \n",
    "    train, test = modify_age(train, test)\n",
    "    \n",
    "    return train, test"
   ]
  },
  {
   "cell_type": "markdown",
   "metadata": {},
   "source": [
    "<div id=\"#load_data\" style=\"width:100%;height:70px;border: 4px solid #392424;background-color:#392424;color:white;text-align:center;border-radius: 25px;padding:3px\">\n",
    "  <header><h2><b>Load data</b></h2></header>\n",
    "</div>"
   ]
  },
  {
   "cell_type": "code",
   "execution_count": 2,
   "metadata": {},
   "outputs": [
    {
     "data": {
      "text/html": [
       "<div>\n",
       "<style scoped>\n",
       "    .dataframe tbody tr th:only-of-type {\n",
       "        vertical-align: middle;\n",
       "    }\n",
       "\n",
       "    .dataframe tbody tr th {\n",
       "        vertical-align: top;\n",
       "    }\n",
       "\n",
       "    .dataframe thead th {\n",
       "        text-align: right;\n",
       "    }\n",
       "</style>\n",
       "<table border=\"1\" class=\"dataframe\">\n",
       "  <thead>\n",
       "    <tr style=\"text-align: right;\">\n",
       "      <th></th>\n",
       "      <th>PassengerId</th>\n",
       "      <th>Survived</th>\n",
       "      <th>Pclass</th>\n",
       "      <th>Name</th>\n",
       "      <th>Sex</th>\n",
       "      <th>Age</th>\n",
       "      <th>SibSp</th>\n",
       "      <th>Parch</th>\n",
       "      <th>Ticket</th>\n",
       "      <th>Fare</th>\n",
       "      <th>Cabin</th>\n",
       "      <th>Embarked</th>\n",
       "    </tr>\n",
       "  </thead>\n",
       "  <tbody>\n",
       "    <tr>\n",
       "      <th>0</th>\n",
       "      <td>1</td>\n",
       "      <td>0</td>\n",
       "      <td>3</td>\n",
       "      <td>Braund, Mr. Owen Harris</td>\n",
       "      <td>male</td>\n",
       "      <td>22.0</td>\n",
       "      <td>1</td>\n",
       "      <td>0</td>\n",
       "      <td>A/5 21171</td>\n",
       "      <td>7.2500</td>\n",
       "      <td>NaN</td>\n",
       "      <td>S</td>\n",
       "    </tr>\n",
       "    <tr>\n",
       "      <th>1</th>\n",
       "      <td>2</td>\n",
       "      <td>1</td>\n",
       "      <td>1</td>\n",
       "      <td>Cumings, Mrs. John Bradley (Florence Briggs Th...</td>\n",
       "      <td>female</td>\n",
       "      <td>38.0</td>\n",
       "      <td>1</td>\n",
       "      <td>0</td>\n",
       "      <td>PC 17599</td>\n",
       "      <td>71.2833</td>\n",
       "      <td>C85</td>\n",
       "      <td>C</td>\n",
       "    </tr>\n",
       "  </tbody>\n",
       "</table>\n",
       "</div>"
      ],
      "text/plain": [
       "   PassengerId  Survived  Pclass  \\\n",
       "0            1         0       3   \n",
       "1            2         1       1   \n",
       "\n",
       "                                                Name     Sex   Age  SibSp  \\\n",
       "0                            Braund, Mr. Owen Harris    male  22.0      1   \n",
       "1  Cumings, Mrs. John Bradley (Florence Briggs Th...  female  38.0      1   \n",
       "\n",
       "   Parch     Ticket     Fare Cabin Embarked  \n",
       "0      0  A/5 21171   7.2500   NaN        S  \n",
       "1      0   PC 17599  71.2833   C85        C  "
      ]
     },
     "execution_count": 2,
     "metadata": {},
     "output_type": "execute_result"
    }
   ],
   "source": [
    "import pandas as pd\n",
    "import numpy as np\n",
    "import re\n",
    "\n",
    "import matplotlib.pyplot as plt\n",
    "%matplotlib inline\n",
    "\n",
    "from farhad_DL.utility import missing_median, missing_default,missing_maxitration\n",
    "\n",
    "\n",
    "df_train= pd.read_csv(\"data/Chapter7/Chapter7.1-titanic/train.csv\",na_values=[\"NA\",\"?\",\" \"])\n",
    "df_test = pd.read_csv(\"data/Chapter7/Chapter7.1-titanic/test.csv\", na_values=[\"NA\",\"?\"])\n",
    "\n",
    "df_train.head(2)"
   ]
  },
  {
   "cell_type": "code",
   "execution_count": 5,
   "metadata": {},
   "outputs": [],
   "source": [
    "df_train, df_test = data_modify(df_train, df_test)"
   ]
  },
  {
   "cell_type": "code",
   "execution_count": 7,
   "metadata": {},
   "outputs": [
    {
     "data": {
      "text/html": [
       "<div>\n",
       "<style scoped>\n",
       "    .dataframe tbody tr th:only-of-type {\n",
       "        vertical-align: middle;\n",
       "    }\n",
       "\n",
       "    .dataframe tbody tr th {\n",
       "        vertical-align: top;\n",
       "    }\n",
       "\n",
       "    .dataframe thead th {\n",
       "        text-align: right;\n",
       "    }\n",
       "</style>\n",
       "<table border=\"1\" class=\"dataframe\">\n",
       "  <thead>\n",
       "    <tr style=\"text-align: right;\">\n",
       "      <th></th>\n",
       "      <th>Survived</th>\n",
       "      <th>Pclass</th>\n",
       "      <th>Sex</th>\n",
       "      <th>Age</th>\n",
       "      <th>SibSp</th>\n",
       "      <th>Parch</th>\n",
       "      <th>Fare</th>\n",
       "      <th>Embarked</th>\n",
       "      <th>Deck</th>\n",
       "      <th>Title</th>\n",
       "      <th>relatives</th>\n",
       "      <th>not_alone</th>\n",
       "      <th>Age_Class</th>\n",
       "    </tr>\n",
       "  </thead>\n",
       "  <tbody>\n",
       "    <tr>\n",
       "      <th>0</th>\n",
       "      <td>0</td>\n",
       "      <td>3</td>\n",
       "      <td>0</td>\n",
       "      <td>0</td>\n",
       "      <td>1</td>\n",
       "      <td>0</td>\n",
       "      <td>0</td>\n",
       "      <td>0</td>\n",
       "      <td>8</td>\n",
       "      <td>1</td>\n",
       "      <td>1</td>\n",
       "      <td>0</td>\n",
       "      <td>6</td>\n",
       "    </tr>\n",
       "    <tr>\n",
       "      <th>1</th>\n",
       "      <td>1</td>\n",
       "      <td>1</td>\n",
       "      <td>1</td>\n",
       "      <td>0</td>\n",
       "      <td>1</td>\n",
       "      <td>0</td>\n",
       "      <td>3</td>\n",
       "      <td>1</td>\n",
       "      <td>3</td>\n",
       "      <td>3</td>\n",
       "      <td>1</td>\n",
       "      <td>0</td>\n",
       "      <td>5</td>\n",
       "    </tr>\n",
       "  </tbody>\n",
       "</table>\n",
       "</div>"
      ],
      "text/plain": [
       "   Survived  Pclass  Sex  Age  SibSp  Parch  Fare  Embarked  Deck  Title  \\\n",
       "0         0       3    0    0      1      0     0         0     8      1   \n",
       "1         1       1    1    0      1      0     3         1     3      3   \n",
       "\n",
       "   relatives  not_alone  Age_Class  \n",
       "0          1          0          6  \n",
       "1          1          0          5  "
      ]
     },
     "execution_count": 7,
     "metadata": {},
     "output_type": "execute_result"
    }
   ],
   "source": [
    "df_train.head(2)"
   ]
  },
  {
   "cell_type": "code",
   "execution_count": 36,
   "metadata": {},
   "outputs": [
    {
     "data": {
      "text/html": [
       "<div>\n",
       "<style scoped>\n",
       "    .dataframe tbody tr th:only-of-type {\n",
       "        vertical-align: middle;\n",
       "    }\n",
       "\n",
       "    .dataframe tbody tr th {\n",
       "        vertical-align: top;\n",
       "    }\n",
       "\n",
       "    .dataframe thead th {\n",
       "        text-align: right;\n",
       "    }\n",
       "</style>\n",
       "<table border=\"1\" class=\"dataframe\">\n",
       "  <thead>\n",
       "    <tr style=\"text-align: right;\">\n",
       "      <th></th>\n",
       "      <th>PassengerId</th>\n",
       "      <th>Pclass</th>\n",
       "      <th>Sex</th>\n",
       "      <th>Age</th>\n",
       "      <th>SibSp</th>\n",
       "      <th>Parch</th>\n",
       "      <th>Fare</th>\n",
       "      <th>Embarked</th>\n",
       "      <th>Deck</th>\n",
       "      <th>Title</th>\n",
       "      <th>relatives</th>\n",
       "      <th>not_alone</th>\n",
       "      <th>Age_Class</th>\n",
       "    </tr>\n",
       "  </thead>\n",
       "  <tbody>\n",
       "    <tr>\n",
       "      <th>0</th>\n",
       "      <td>892</td>\n",
       "      <td>3</td>\n",
       "      <td>0</td>\n",
       "      <td>0</td>\n",
       "      <td>0</td>\n",
       "      <td>0</td>\n",
       "      <td>0</td>\n",
       "      <td>2</td>\n",
       "      <td>8</td>\n",
       "      <td>1</td>\n",
       "      <td>0</td>\n",
       "      <td>1</td>\n",
       "      <td>15</td>\n",
       "    </tr>\n",
       "    <tr>\n",
       "      <th>1</th>\n",
       "      <td>893</td>\n",
       "      <td>3</td>\n",
       "      <td>1</td>\n",
       "      <td>0</td>\n",
       "      <td>1</td>\n",
       "      <td>0</td>\n",
       "      <td>0</td>\n",
       "      <td>0</td>\n",
       "      <td>8</td>\n",
       "      <td>3</td>\n",
       "      <td>1</td>\n",
       "      <td>0</td>\n",
       "      <td>18</td>\n",
       "    </tr>\n",
       "  </tbody>\n",
       "</table>\n",
       "</div>"
      ],
      "text/plain": [
       "   PassengerId  Pclass  Sex  Age  SibSp  Parch  Fare  Embarked  Deck  Title  \\\n",
       "0          892       3    0    0      0      0     0         2     8      1   \n",
       "1          893       3    1    0      1      0     0         0     8      3   \n",
       "\n",
       "   relatives  not_alone  Age_Class  \n",
       "0          0          1         15  \n",
       "1          1          0         18  "
      ]
     },
     "execution_count": 36,
     "metadata": {},
     "output_type": "execute_result"
    }
   ],
   "source": [
    "df_test.head(2)"
   ]
  },
  {
   "cell_type": "code",
   "execution_count": 6,
   "metadata": {},
   "outputs": [],
   "source": [
    "from sklearn.model_selection import validation_curve,learning_curve"
   ]
  },
  {
   "cell_type": "code",
   "execution_count": null,
   "metadata": {},
   "outputs": [],
   "source": []
  },
  {
   "cell_type": "code",
   "execution_count": 98,
   "metadata": {},
   "outputs": [],
   "source": [
    "from farhad_DL.utility import encode_text_dummy"
   ]
  },
  {
   "cell_type": "code",
   "execution_count": 101,
   "metadata": {},
   "outputs": [],
   "source": [
    "df_train = df_train.drop(['not_alone','Parch','SibSp'],axis=1)\n",
    "encode_text_dummy(df_train, 'Sex')\n",
    "encode_text_dummy(df_train, 'Title')\n",
    "encode_text_dummy(df_train, 'Age_Class')\n",
    "encode_text_dummy(df_train, 'Deck')\n",
    "encode_text_dummy(df_train, 'Pclass')"
   ]
  },
  {
   "cell_type": "code",
   "execution_count": 128,
   "metadata": {},
   "outputs": [],
   "source": [
    "encode_text_dummy(df_train, 'Age_Class')"
   ]
  },
  {
   "cell_type": "code",
   "execution_count": null,
   "metadata": {},
   "outputs": [],
   "source": []
  },
  {
   "cell_type": "markdown",
   "metadata": {},
   "source": [
    "<div id=\"#model\" style=\"width:100%;height:70px;border: 4px solid #392424;background-color:#392424;color:white;text-align:center;border-radius: 25px;padding:3px\">\n",
    "  <header><h2><b>Model</b></h2></header>\n",
    "</div>"
   ]
  },
  {
   "cell_type": "code",
   "execution_count": 8,
   "metadata": {},
   "outputs": [
    {
     "name": "stderr",
     "output_type": "stream",
     "text": [
      "Using TensorFlow backend.\n"
     ]
    }
   ],
   "source": [
    "from farhad_DL.utility import to_xy\n",
    "from farhad_DL.utils import TimeSummary, plot_training_summary, Estimate_Deeptime\n",
    "from farhad_DL.utils import Estimate_fasterD\n",
    "from farhad_DL.utility import plot_confusion_matrix\n",
    "\n",
    "from tensorflow.keras.models import Sequential\n",
    "from tensorflow.keras.layers import Dense, BatchNormalization, Activation, Dropout\n",
    "\n",
    "from tensorflow.keras.callbacks import EarlyStopping, ModelCheckpoint\n",
    "from tensorflow.keras.losses import binary_crossentropy, mean_absolute_error\n",
    "from tensorflow.logging import set_verbosity, ERROR\n",
    "\n",
    "from sklearn.metrics import confusion_matrix\n",
    "import numpy as np\n",
    "from sklearn.model_selection import train_test_split\n",
    "\n",
    "from sklearn import preprocessing"
   ]
  },
  {
   "cell_type": "code",
   "execution_count": 9,
   "metadata": {},
   "outputs": [],
   "source": [
    "x,y= to_xy(df_train,'Survived')\n",
    "\n",
    "x_train, x_test, y_train, y_test = train_test_split(x,y,test_size=0.25, random_state=42)\n"
   ]
  },
  {
   "cell_type": "code",
   "execution_count": null,
   "metadata": {},
   "outputs": [],
   "source": []
  },
  {
   "cell_type": "code",
   "execution_count": 131,
   "metadata": {},
   "outputs": [
    {
     "data": {
      "text/plain": [
       "array([[0., 0., 1., ..., 0., 0., 0.],\n",
       "       [3., 1., 1., ..., 0., 0., 0.],\n",
       "       [0., 0., 0., ..., 0., 0., 0.],\n",
       "       ...,\n",
       "       [2., 0., 3., ..., 1., 0., 0.],\n",
       "       [2., 1., 0., ..., 0., 0., 0.],\n",
       "       [0., 2., 0., ..., 1., 0., 0.]], dtype=float32)"
      ]
     },
     "execution_count": 131,
     "metadata": {},
     "output_type": "execute_result"
    }
   ],
   "source": [
    "x"
   ]
  },
  {
   "cell_type": "code",
   "execution_count": 48,
   "metadata": {},
   "outputs": [
    {
     "data": {
      "text/plain": [
       "array([[1., 0.],\n",
       "       [0., 1.],\n",
       "       [0., 1.],\n",
       "       ...,\n",
       "       [1., 0.],\n",
       "       [0., 1.],\n",
       "       [1., 0.]], dtype=float32)"
      ]
     },
     "execution_count": 48,
     "metadata": {},
     "output_type": "execute_result"
    }
   ],
   "source": [
    "y"
   ]
  },
  {
   "cell_type": "code",
   "execution_count": 10,
   "metadata": {},
   "outputs": [],
   "source": [
    "from tensorflow.keras import regularizers\n",
    "def titanic_model_2():\n",
    "    model = Sequential()\n",
    "    \n",
    "    model.add(Dense(30, input_dim=x.shape[1],kernel_initializer='uniform',activation='relu',\n",
    "                    kernel_regularizer=regularizers.l2(0.01)))\n",
    "    model.add(Dropout(rate=0.9))\n",
    "    model.add(Dense(10, activation=\"relu\",kernel_regularizer=regularizers.l2(0.01)))\n",
    "   \n",
    "    model.add(Dense(2, activation=\"sigmoid\"))\n",
    "    return model"
   ]
  },
  {
   "cell_type": "code",
   "execution_count": 12,
   "metadata": {},
   "outputs": [
    {
     "name": "stdout",
     "output_type": "stream",
     "text": [
      "223/223 [==============================] - 0s 27us/step\n",
      "final loss =  0.2124678445771136\n",
      "fincal accuracy =  0.8116591893504018\n",
      "#############################\n",
      "Training time: 0:02:03.951282(HH:MM:SS)\n",
      "Epoch time avg: 0:00:00.021174(HH:MM:SS)\n"
     ]
    },
    {
     "data": {
      "image/png": "[encoded data removed]",
      "text/plain": [
       "<Figure size 432x288 with 1 Axes>"
      ]
     },
     "metadata": {
      "needs_background": "light"
     },
     "output_type": "display_data"
    },
    {
     "data": {
      "image/png": "[encoded data removed]",
      "text/plain": [
       "<Figure size 432x288 with 1 Axes>"
      ]
     },
     "metadata": {
      "needs_background": "light"
     },
     "output_type": "display_data"
    },
    {
     "data": {
      "image/png": "[encoded data removed]",
      "text/plain": [
       "<Figure size 432x288 with 2 Axes>"
      ]
     },
     "metadata": {
      "needs_background": "light"
     },
     "output_type": "display_data"
    }
   ],
   "source": [
    "set_verbosity(ERROR)\n",
    "epochs= 3000\n",
    "\n",
    "running = Estimate_fasterD(epochs)#Estimate_Deeptime(epochs)\n",
    "time_summary2 = TimeSummary()\n",
    "monitor2 = EarlyStopping(monitor='val_cross',mode='auto',verbose=0)\n",
    "checkpoint2 = ModelCheckpoint(filepath='model_save/2weights.modelone_titanic.hdf5',\n",
    "                             mode='atuo',save_weights_only=True)\n",
    "\n",
    "\n",
    "model2 = titanic_model_2()\n",
    "model2.compile(optimizer='Adam',loss=mean_absolute_error, metrics=['accuracy'])\n",
    "summary = model2.fit(x, y, validation_split=0.20,\n",
    "                    verbose=0,\n",
    "                    callbacks=[time_summary2,monitor2,checkpoint2,running],\n",
    "                    batch_size=100,\n",
    "                    epochs=epochs)\n",
    "\n",
    "model2.load_weights(\"model_save/2weights.modelone_titanic.hdf5\")\n",
    "score2 = model2.evaluate(x_test,y_test)\n",
    "print(\"final loss = \",score2[0])\n",
    "print('fincal accuracy = ',score2[1])\n",
    "\n",
    "\n",
    "pred2 = model2.predict(x_test)\n",
    "pred2 = np.argmax(pred2,axis=1)\n",
    "y_camper = np.argmax(y_test, axis=1)\n",
    "print('#############################')\n",
    "plot_training_summary(summary, time_summary2)\n",
    "\n",
    "cm2 = confusion_matrix(y_camper,pred2)\n",
    "plot_confusion_matrix(cm2,['dead','live'])"
   ]
  },
  {
   "cell_type": "code",
   "execution_count": null,
   "metadata": {},
   "outputs": [],
   "source": []
  },
  {
   "cell_type": "code",
   "execution_count": 140,
   "metadata": {},
   "outputs": [],
   "source": [
    "# save model\n",
    "import os\n",
    "save_path = \"model_save/\"\n",
    "model_json = model2.to_json()\n",
    "\n",
    "with open(os.path.join(save_path,\"titanic_model_p.json\"),'w') as f:\n",
    "    f.write(model_json)"
   ]
  },
  {
   "cell_type": "markdown",
   "metadata": {},
   "source": [
    "<div id=\"#test_data\" style=\"width:100%;height:70px;border: 4px solid #392424;background-color:#392424;color:white;text-align:center;border-radius: 25px;padding:3px\">\n",
    "  <header><h2><b>Test Data</b></h2></header>\n",
    "</div>"
   ]
  },
  {
   "cell_type": "code",
   "execution_count": null,
   "metadata": {},
   "outputs": [],
   "source": [
    "# laod model:\n",
    "#save_path=''\n",
    "from tensorflow.keras.models import load_model\n",
    "model = load_model(os.path.join(save_path,\"titanic_model_81p.json\"))"
   ]
  },
  {
   "cell_type": "code",
   "execution_count": null,
   "metadata": {},
   "outputs": [],
   "source": []
  },
  {
   "cell_type": "code",
   "execution_count": 249,
   "metadata": {},
   "outputs": [],
   "source": []
  },
  {
   "cell_type": "code",
   "execution_count": null,
   "metadata": {},
   "outputs": [],
   "source": []
  },
  {
   "cell_type": "code",
   "execution_count": null,
   "metadata": {},
   "outputs": [],
   "source": []
  },
  {
   "cell_type": "code",
   "execution_count": null,
   "metadata": {},
   "outputs": [],
   "source": []
  },
  {
   "cell_type": "code",
   "execution_count": null,
   "metadata": {},
   "outputs": [],
   "source": []
  },
  {
   "cell_type": "code",
   "execution_count": null,
   "metadata": {},
   "outputs": [],
   "source": []
  },
  {
   "cell_type": "code",
   "execution_count": null,
   "metadata": {},
   "outputs": [],
   "source": []
  },
  {
   "cell_type": "code",
   "execution_count": null,
   "metadata": {},
   "outputs": [],
   "source": []
  },
  {
   "cell_type": "code",
   "execution_count": null,
   "metadata": {},
   "outputs": [],
   "source": []
  },
  {
   "cell_type": "code",
   "execution_count": null,
   "metadata": {},
   "outputs": [],
   "source": []
  },
  {
   "cell_type": "code",
   "execution_count": null,
   "metadata": {},
   "outputs": [],
   "source": []
  },
  {
   "cell_type": "code",
   "execution_count": null,
   "metadata": {},
   "outputs": [],
   "source": []
  }
 ],
 "metadata": {
  "kernelspec": {
   "display_name": "Python 3",
   "language": "python",
   "name": "python3"
  },
  "language_info": {
   "codemirror_mode": {
    "name": "ipython",
    "version": 3
   },
   "file_extension": ".py",
   "mimetype": "text/x-python",
   "name": "python",
   "nbconvert_exporter": "python",
   "pygments_lexer": "ipython3",
   "version": "3.6.8"
  }
 },
 "nbformat": 4,
 "nbformat_minor": 2
}
